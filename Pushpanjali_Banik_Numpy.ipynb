{
  "nbformat": 4,
  "nbformat_minor": 0,
  "metadata": {
    "colab": {
      "name": "Untitled2.ipynb",
      "provenance": [],
      "include_colab_link": true
    },
    "kernelspec": {
      "name": "python3",
      "display_name": "Python 3"
    }
  },
  "cells": [
    {
      "cell_type": "markdown",
      "metadata": {
        "id": "view-in-github",
        "colab_type": "text"
      },
      "source": [
        "<a href=\"https://colab.research.google.com/github/anjali88/Basic-ML-/blob/master/Pushpanjali_Banik_Numpy.ipynb\" target=\"_parent\"><img src=\"https://colab.research.google.com/assets/colab-badge.svg\" alt=\"Open In Colab\"/></a>"
      ]
    },
    {
      "cell_type": "code",
      "metadata": {
        "id": "MRVDiia3KG0J",
        "colab_type": "code",
        "colab": {
          "base_uri": "https://localhost:8080/",
          "height": 51
        },
        "outputId": "93484341-65a2-4517-a71e-8568c360e812"
      },
      "source": [
        "#Excercise 1 - Demo difference between numpy and python\n",
        "#import numpy\n",
        "import numpy as np\n",
        "my_arr = np.arange(1000000) # create numpy array\n",
        "my_list = list(range(1000000)) #create python list with same values but it is not stored as numpy array\n",
        "\n",
        "# computationl time in numpy\n",
        "%time my_arr2 = my_arr * 2\n",
        "\n",
        "\n"
      ],
      "execution_count": 4,
      "outputs": [
        {
          "output_type": "stream",
          "text": [
            "CPU times: user 2.03 ms, sys: 6.45 ms, total: 8.49 ms\n",
            "Wall time: 8.28 ms\n"
          ],
          "name": "stdout"
        }
      ]
    },
    {
      "cell_type": "code",
      "metadata": {
        "id": "5Dp5qERGK_Bk",
        "colab_type": "code",
        "colab": {
          "base_uri": "https://localhost:8080/",
          "height": 51
        },
        "outputId": "09f9bc19-d8b5-4c7b-c0b3-e22cccc6215c"
      },
      "source": [
        "# computationl time in python\n",
        "%time my_list2 = [x *2 for x in my_list]"
      ],
      "execution_count": 5,
      "outputs": [
        {
          "output_type": "stream",
          "text": [
            "CPU times: user 58.5 ms, sys: 56.2 ms, total: 115 ms\n",
            "Wall time: 119 ms\n"
          ],
          "name": "stdout"
        }
      ]
    },
    {
      "cell_type": "code",
      "metadata": {
        "id": "CM0opuBTLg_W",
        "colab_type": "code",
        "colab": {}
      },
      "source": [
        "# Excercise 2.1 - Creating arrays\n",
        "# create an array by passin in values\n"
      ],
      "execution_count": 0,
      "outputs": []
    }
  ]
}