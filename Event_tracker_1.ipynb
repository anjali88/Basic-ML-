{
  "nbformat": 4,
  "nbformat_minor": 0,
  "metadata": {
    "colab": {
      "name": "Event_tracker_1.ipynb",
      "provenance": [],
      "authorship_tag": "ABX9TyNcsrcmWpAePFvmImuZ44Gd",
      "include_colab_link": true
    },
    "kernelspec": {
      "name": "python3",
      "display_name": "Python 3"
    }
  },
  "cells": [
    {
      "cell_type": "markdown",
      "metadata": {
        "id": "view-in-github",
        "colab_type": "text"
      },
      "source": [
        "<a href=\"https://colab.research.google.com/github/anjali88/Basic-ML-/blob/master/Event_tracker_1.ipynb\" target=\"_parent\"><img src=\"https://colab.research.google.com/assets/colab-badge.svg\" alt=\"Open In Colab\"/></a>"
      ]
    },
    {
      "cell_type": "code",
      "metadata": {
        "id": "W79AgbEGTjGo",
        "colab_type": "code",
        "outputId": "87627220-9202-4f13-a0dd-bfadeed4c8a5",
        "colab": {
          "base_uri": "https://localhost:8080/",
          "height": 122
        }
      },
      "source": [
        "import pandas as pd\n",
        "import numpy as np\n",
        "import sklearn\n",
        "\n",
        "from google.colab import drive\n",
        "drive.mount('/content/drive')"
      ],
      "execution_count": 0,
      "outputs": [
        {
          "output_type": "stream",
          "text": [
            "Go to this URL in a browser: https://accounts.google.com/o/oauth2/auth?client_id=947318989803-6bn6qk8qdgf4n4g3pfee6491hc0brc4i.apps.googleusercontent.com&redirect_uri=urn%3aietf%3awg%3aoauth%3a2.0%3aoob&response_type=code&scope=email%20https%3a%2f%2fwww.googleapis.com%2fauth%2fdocs.test%20https%3a%2f%2fwww.googleapis.com%2fauth%2fdrive%20https%3a%2f%2fwww.googleapis.com%2fauth%2fdrive.photos.readonly%20https%3a%2f%2fwww.googleapis.com%2fauth%2fpeopleapi.readonly\n",
            "\n",
            "Enter your authorization code:\n",
            "··········\n",
            "Mounted at /content/drive\n"
          ],
          "name": "stdout"
        }
      ]
    },
    {
      "cell_type": "code",
      "metadata": {
        "id": "1ZoZxNBST0yr",
        "colab_type": "code",
        "outputId": "c209c6ab-6641-4e11-e4e4-cb286e8d63bf",
        "colab": {
          "base_uri": "https://localhost:8080/",
          "height": 170
        }
      },
      "source": [
        "!pip install pyti"
      ],
      "execution_count": 0,
      "outputs": [
        {
          "output_type": "stream",
          "text": [
            "Collecting pyti\n",
            "  Downloading https://files.pythonhosted.org/packages/0f/9a/913e5bc3c3e812b490338fc9096b608cf0e19d1c3cd5b1c2b58b77b69b85/pyti-0.2.2-py2.py3-none-any.whl\n",
            "Requirement already satisfied: pandas in /usr/local/lib/python3.6/dist-packages (from pyti) (0.25.3)\n",
            "Requirement already satisfied: numpy in /usr/local/lib/python3.6/dist-packages (from pyti) (1.17.5)\n",
            "Requirement already satisfied: pytz>=2017.2 in /usr/local/lib/python3.6/dist-packages (from pandas->pyti) (2018.9)\n",
            "Requirement already satisfied: python-dateutil>=2.6.1 in /usr/local/lib/python3.6/dist-packages (from pandas->pyti) (2.6.1)\n",
            "Requirement already satisfied: six>=1.5 in /usr/local/lib/python3.6/dist-packages (from python-dateutil>=2.6.1->pandas->pyti) (1.12.0)\n",
            "Installing collected packages: pyti\n",
            "Successfully installed pyti-0.2.2\n"
          ],
          "name": "stdout"
        }
      ]
    },
    {
      "cell_type": "code",
      "metadata": {
        "id": "ArGHvKvoT33m",
        "colab_type": "code",
        "outputId": "c6610d9d-a8d7-463e-ff95-a93e6c315f73",
        "colab": {
          "resources": {
            "http://localhost:8080/nbextensions/google.colab/files.js": {
              "data": "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",
              "ok": true,
              "headers": [
                [
                  "content-type",
                  "application/javascript"
                ]
              ],
              "status": 200,
              "status_text": ""
            }
          },
          "base_uri": "https://localhost:8080/",
          "height": 74
        }
      },
      "source": [
        "from google.colab import files\n",
        "uploaded = files.upload()"
      ],
      "execution_count": 0,
      "outputs": [
        {
          "output_type": "display_data",
          "data": {
            "text/html": [
              "\n",
              "     <input type=\"file\" id=\"files-369b15df-1302-44f1-a2d7-4577511d8f61\" name=\"files[]\" multiple disabled />\n",
              "     <output id=\"result-369b15df-1302-44f1-a2d7-4577511d8f61\">\n",
              "      Upload widget is only available when the cell has been executed in the\n",
              "      current browser session. Please rerun this cell to enable.\n",
              "      </output>\n",
              "      <script src=\"/nbextensions/google.colab/files.js\"></script> "
            ],
            "text/plain": [
              "<IPython.core.display.HTML object>"
            ]
          },
          "metadata": {
            "tags": []
          }
        },
        {
          "output_type": "stream",
          "text": [
            "Saving data_new.xlsx to data_new.xlsx\n"
          ],
          "name": "stdout"
        }
      ]
    },
    {
      "cell_type": "code",
      "metadata": {
        "id": "hyO_9nAFa1hK",
        "colab_type": "code",
        "colab": {}
      },
      "source": [
        "!python3 \"/content/drive/My Drive/Colab Notebooks/sample_event.py\" data_new.xlsx"
      ],
      "execution_count": 0,
      "outputs": []
    },
    {
      "cell_type": "code",
      "metadata": {
        "id": "wfDFe5FcX6pH",
        "colab_type": "code",
        "outputId": "04578611-3e68-40d7-98d4-139af997cacc",
        "colab": {
          "base_uri": "https://localhost:8080/",
          "height": 367
        }
      },
      "source": [
        "# Strategy:\n",
        "# - Get share price data\n",
        "# - Calculate technical indicators based on share data\n",
        "# - Do a sensitivity analysis on the technical indicators to determine which indicators influence the closing price the most\n",
        "# - Use most important data to train the neural network\n",
        "# - Train the network and evaluate model\n",
        "\n",
        "import matplotlib.pyplot as plt\n",
        "import numpy as np\n",
        "import pandas as pd\n",
        "import seaborn as sn\n",
        "from keras.layers import Dense\n",
        "from keras.models import Sequential\n",
        "import sensitivity_analysis_multi as sa\n",
        "import technical_indicator_matrix as tim\n",
        "import seaborn as sns\n",
        "import xlrd\n",
        "import csv\n",
        "import sys\n",
        "from support_vector_regression import svm_svr\n",
        "from keras_reg import linear_reg\n",
        "from arima_analysys import arima_prediction\n",
        "\n",
        "csv_file_list=[]\n",
        "period=1\n",
        "event_threshold = 0.001\n",
        "trigger_threshold = 0.001\n",
        "\n",
        "\n",
        "\n",
        "excel_sheet=sys.argv[1]\n",
        "sheets=pd.ExcelFile(excel_sheet).sheet_names\n",
        "#print(\"Sheets {}\".format(sheets))\n",
        "\n",
        "train_data={}\n",
        "min_length=[]\n",
        "for sheet in sheets:\n",
        "    _train_data=pd.read_excel(excel_sheet,sheet_name=sheet)\n",
        "    s_name=sheet.replace(' ','_')\n",
        "    s_name=s_name.replace('&','_')\n",
        "    train_data[s_name]=_train_data\n",
        "    min_length.append(len(_train_data))\n",
        "\n",
        "min_rows=min(min_length)\n",
        "\n",
        "if len(min_length) > 1:\n",
        "    for _company in train_data.keys():\n",
        "        train_data[_company]=train_data[_company][:min_rows]\n",
        "\n",
        "\"\"\"\n",
        "while True:\n",
        "    i=1\n",
        "    for company in train_data.keys():\n",
        "        print(\"{}){}\".format(i,company))\n",
        "        i+=1\n",
        "    input_companies=input(\"Select the Input Company list more than one\")\n",
        "    i=1\n",
        "    print(\"===========================================================\")\n",
        "    for company in train_data.keys():\n",
        "        print(\"{}){}\".format(i,company))\n",
        "        i+=1\n",
        "    out_companies=input(\"Select the OutPut Company(Only one)\")\n",
        "    if len(out_companies) ==1 and out_companies not in input_companies:\n",
        "        break\n",
        "print(\"input company:{} output company:{}\".format(input_companies,out_companies))\n",
        "input_train_data={}\n",
        "output_train_data={}\n",
        "print(\"{}\".format(train_data.keys()))\n",
        "for in_com in input_companies:\n",
        "    company=list(train_data.keys())[int(in_com)-1]\n",
        "    input_train_data[company]=train_data[company]\n",
        "out_company=list(train_data.keys())[int(out_companies)-1]\n",
        "output_train_data[out_company]=train_data[out_company]\n",
        "\"\"\"\n",
        "input_train_data={}\n",
        "output_train_data={}\n",
        "\n",
        "validate_input_matrix=pd.DataFrame()\n",
        "validate_output_matrix=pd.DataFrame()\n",
        "\n",
        "input_company=list(train_data.keys())[1:]\n",
        "for company in input_company:\n",
        "    input_train_data[company]=train_data[company]\n",
        "    validate_input_matrix=validate_input_matrix.assign(**{company:train_data[company][\"Close\"]})\n",
        "out_company=list(train_data.keys())[0]\n",
        "output_train_data=train_data[out_company]\n",
        "validate_output_matrix=validate_output_matrix.assign(**{out_company:train_data[out_company][\"Close\"]})\n",
        "\n",
        "input_test_data=pd.DataFrame()\n",
        "\n",
        "\n",
        "# GENERATING CORELATION MATRIX\n",
        "columns={}\n",
        "for _trigger in list(input_train_data.keys()):\n",
        "     columns[_trigger]=input_train_data[_trigger][\"Close\"]\n",
        "out_comp=out_company\n",
        "columns[out_comp]=output_train_data[\"Close\"]\n",
        "data_to_train=pd.DataFrame(columns)\n",
        "\n",
        "cor=data_to_train.corr(method='pearson')\n",
        "cor=cor.drop(columns=input_company)\n",
        "cor=cor.drop(out_comp)\n",
        "\n",
        "plt.title(\"Figure: Corelation Matrix Without Event Tracker\")\n",
        "cm=plt.cm.viridis\n",
        "svm = sns.heatmap(cor,cmap=cm,linewidths=0.1,linecolor='white',annot=True)\n",
        "plt.savefig('/correlation_matrix_without_event_tracker.png')\n",
        "plt.close()\n",
        "\n",
        "# SENSITIVITY ANALYSYS\n",
        "data_input_dataframe=pd.DataFrame()\n",
        "data_output_dataframe=pd.DataFrame()\n",
        "\n",
        "train_analyse_matrix, event_analyse_matrix = sa.analyse_sensitivity_multiple_input(trigger_data=input_train_data, event_data=output_train_data, trigger_threshold=trigger_threshold, event_threshold=event_threshold,period=period)\n",
        "\n",
        "data_to_train=pd.DataFrame()\n",
        "columns={}\n",
        "for _trigger in list(train_analyse_matrix.keys()):\n",
        "     columns[_trigger]=train_analyse_matrix[_trigger][\"Close\"]\n",
        "data_input_dataframe=pd.DataFrame(columns)\n",
        "out_comp=out_company\n",
        "columns[out_comp]=event_analyse_matrix[\"Close\"]\n",
        "#print(event_analyse_matrix)\n",
        "data_output_dataframe=data_output_dataframe.assign(**{out_comp:event_analyse_matrix[\"Close\"]})\n",
        "data_to_train=pd.DataFrame(columns)\n",
        "\n",
        "#print(data_to_train.head())\n",
        "\n",
        "validate_data_matrix=output_train_data\n",
        "train_event_data=event_analyse_matrix\n",
        "\n",
        "data_to_train = []\n",
        "sensitivity_analysis_values = []\n",
        "\n",
        "\n",
        "plt.title(\"Figure: Sensitivity Index\")\n",
        "lables=[]\n",
        "for _trigger in train_analyse_matrix.keys():\n",
        "    lables.append(_trigger)\n",
        "    plt.plot(np.array(train_analyse_matrix[_trigger][\"s_index\"]))\n",
        "plt.legend(lables)\n",
        "plt.savefig('graphs/sensitivity_index.png')\n",
        "plt.close()\n",
        "\n",
        "plt.title(\"Figure: Normalized Sensitive Index\")\n",
        "lables=[]\n",
        "for _trigger in train_analyse_matrix.keys():\n",
        "    lables.append(_trigger)\n",
        "    plt.plot(np.array(train_analyse_matrix[_trigger][\"normal_si\"]))\n",
        "plt.legend(lables)\n",
        "plt.savefig('graphs/normal_sensitive_index.png')\n",
        "plt.close()\n",
        "\n",
        "for _trigger in train_analyse_matrix.keys():\n",
        "    normal_si=train_analyse_matrix[_trigger][\"normal_si\"].tolist()\n",
        "    average_sensitivity =np.array(normal_si).mean()\n",
        "    avg=np.array(normal_si).mean()\n",
        "    std=np.array(normal_si).std()\n",
        "    lower=avg-std\n",
        "    upper=avg+std\n",
        "    for i in train_analyse_matrix[_trigger].index.tolist():\n",
        "        value=train_analyse_matrix[_trigger][\"normal_si\"][i]\n",
        "        if value < lower or value > upper:\n",
        "            train_analyse_matrix[_trigger]=train_analyse_matrix[_trigger].drop(i)\n",
        "            train_event_data=train_event_data.drop(i)\n",
        "\n",
        "train_event_data=train_event_data.fillna(0)\n",
        "\n",
        "plt.title(\"Figure: Filtered Normalized Sensitive Index\")\n",
        "lables=[]\n",
        "for _trigger in train_analyse_matrix.keys():\n",
        "    lables.append(_trigger)\n",
        "    plt.plot(np.array(train_analyse_matrix[_trigger][\"normal_si\"]))\n",
        "plt.legend(lables)\n",
        "plt.savefig('graphs/filtered_normal_sensitive_index.png')\n",
        "plt.close()\n",
        "\n",
        "\n",
        "plt.title(\"Figure: Filtered Sensitivity Index\")\n",
        "lables=[]\n",
        "for _trigger in train_analyse_matrix.keys():\n",
        "    lables.append(_trigger)\n",
        "    plt.plot(np.array(train_analyse_matrix[_trigger][\"s_index\"]))\n",
        "plt.legend(lables)\n",
        "plt.savefig('graphs/filtered_sensitivity_index.png')\n",
        "plt.close()\n",
        "\n",
        "\n",
        "avg_event=[]\n",
        "for _trigger in train_analyse_matrix.keys():\n",
        "    avg_event.append(average_sensitivity)\n",
        "\n",
        "plt.title(\"Figure: Averaged Normalised Sensitivity Index WRT {} TDS\".format(len(train_analyse_matrix.keys())))\n",
        "lables=[]\n",
        "avg_normal_index={}\n",
        "print(\"Average Sensitivity\")\n",
        "for _trigger in train_analyse_matrix.keys():\n",
        "    normal_si=train_analyse_matrix[_trigger][\"normal_si\"].tolist()[1:]\n",
        "    average_sensitivity =np.array(normal_si).mean()\n",
        "    avg_normal_index[_trigger]=average_sensitivity\n",
        "    print(average_sensitivity)\n",
        "cut_off_index=np.array(list(avg_normal_index.values())).mean()\n",
        "cut_off_dict={_trigger:cut_off_index for _trigger in train_analyse_matrix.keys()}\n",
        "xvalue_keys=list(train_analyse_matrix.keys())\n",
        "\n",
        "width = .35 # width of a bar\n",
        "\n",
        "m1_t = pd.DataFrame({\n",
        " 'avg_normal_si' : list(avg_normal_index.values()),\n",
        " 'cutoff_si' : list(cut_off_dict.values()),\n",
        " })\n",
        "\n",
        "ax=m1_t['cutoff_si'].plot(secondary_y=True,color=\"red\") \n",
        "m1_t[['avg_normal_si']].plot(kind='bar', width = width, ax=ax)\n",
        "#plt.xlim([-width, len(m1_t['normal'])-width])\n",
        "ax.set_xticklabels(xvalue_keys)\n",
        "\n",
        "plt.savefig('graphs/normal_cutoff_avg_sensitivity_index.png')\n",
        "plt.close()\n",
        "\n",
        "cor_et=pd.DataFrame(avg_normal_index,index=[out_comp])\n",
        "cor_et=cor_et.T\n",
        "cm=plt.cm.viridis\n",
        "cor_et_heat_map=sn.heatmap(cor_et,cmap=cm,linewidths=0.1,linecolor='white',annot=True)\n",
        "plt.title(\"Figure: Corelation Matrix With Event Tracker\")  \n",
        "plt.savefig('correlation_matrix_with_event_tracker.png')\n",
        "plt.close()\n",
        "\n",
        "train_X=data_input_dataframe\n",
        "train_Y=data_output_dataframe\n",
        "test_date_data=train_event_data[\"Dates\"].values\n",
        "\n",
        "linear_reg(train_X, train_Y, validate_input_matrix, validate_output_matrix, test_date_data, out_company)\n",
        "\n",
        "#print(train_Y)\n",
        "svm_svr(train_X, train_Y,test_date_data,out_company)\n",
        "\n",
        "#validate_output_matrix\n",
        "arima_prediction(validate_output_matrix, test_date_data, out_company)\n",
        "\n",
        "\n"
      ],
      "execution_count": 0,
      "outputs": [
        {
          "output_type": "error",
          "ename": "ModuleNotFoundError",
          "evalue": "ignored",
          "traceback": [
            "\u001b[0;31m---------------------------------------------------------------------------\u001b[0m",
            "\u001b[0;31mModuleNotFoundError\u001b[0m                       Traceback (most recent call last)",
            "\u001b[0;32m<ipython-input-11-b28a9fcba48d>\u001b[0m in \u001b[0;36m<module>\u001b[0;34m()\u001b[0m\n\u001b[1;32m      6\u001b[0m \u001b[0;32mfrom\u001b[0m \u001b[0mkeras\u001b[0m\u001b[0;34m.\u001b[0m\u001b[0mlayers\u001b[0m \u001b[0;32mimport\u001b[0m \u001b[0mDense\u001b[0m\u001b[0;34m\u001b[0m\u001b[0;34m\u001b[0m\u001b[0m\n\u001b[1;32m      7\u001b[0m \u001b[0;32mfrom\u001b[0m \u001b[0mkeras\u001b[0m\u001b[0;34m.\u001b[0m\u001b[0mmodels\u001b[0m \u001b[0;32mimport\u001b[0m \u001b[0mSequential\u001b[0m\u001b[0;34m\u001b[0m\u001b[0;34m\u001b[0m\u001b[0m\n\u001b[0;32m----> 8\u001b[0;31m \u001b[0;32mimport\u001b[0m \u001b[0msensitivity_analysis_multi\u001b[0m \u001b[0;32mas\u001b[0m \u001b[0msa\u001b[0m\u001b[0;34m\u001b[0m\u001b[0;34m\u001b[0m\u001b[0m\n\u001b[0m\u001b[1;32m      9\u001b[0m \u001b[0;32mimport\u001b[0m \u001b[0mtechnical_indicator_matrix\u001b[0m \u001b[0;32mas\u001b[0m \u001b[0mtim\u001b[0m\u001b[0;34m\u001b[0m\u001b[0;34m\u001b[0m\u001b[0m\n\u001b[1;32m     10\u001b[0m \u001b[0;32mimport\u001b[0m \u001b[0mseaborn\u001b[0m \u001b[0;32mas\u001b[0m \u001b[0msns\u001b[0m\u001b[0;34m\u001b[0m\u001b[0;34m\u001b[0m\u001b[0m\n",
            "\u001b[0;31mModuleNotFoundError\u001b[0m: No module named 'sensitivity_analysis_multi'",
            "",
            "\u001b[0;31m---------------------------------------------------------------------------\u001b[0;32m\nNOTE: If your import is failing due to a missing package, you can\nmanually install dependencies using either !pip or !apt.\n\nTo view examples of installing some common dependencies, click the\n\"Open Examples\" button below.\n\u001b[0;31m---------------------------------------------------------------------------\u001b[0m\n"
          ]
        }
      ]
    }
  ]
}