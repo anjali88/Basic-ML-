{
  "nbformat": 4,
  "nbformat_minor": 0,
  "metadata": {
    "colab": {
      "name": "Untitled0.ipynb",
      "provenance": [],
      "include_colab_link": true
    },
    "kernelspec": {
      "name": "python3",
      "display_name": "Python 3"
    }
  },
  "cells": [
    {
      "cell_type": "markdown",
      "metadata": {
        "id": "view-in-github",
        "colab_type": "text"
      },
      "source": [
        "<a href=\"https://colab.research.google.com/github/anjali88/Basic-ML-/blob/master/Pushpanjali_banik_Pandas.ipynb\" target=\"_parent\"><img src=\"https://colab.research.google.com/assets/colab-badge.svg\" alt=\"Open In Colab\"/></a>"
      ]
    },
    {
      "cell_type": "code",
      "metadata": {
        "id": "d7Fn7KDkrqJW",
        "colab_type": "code",
        "outputId": "4c38961c-1193-4ad8-86c0-2e641919ee9f",
        "colab": {
          "base_uri": "https://localhost:8080/",
          "height": 153
        }
      },
      "source": [
        "## import libaries for series\n",
        "import numpy as np\n",
        "import pandas as pd\n",
        "\n",
        "#create series by passing values and create custom indexes\n",
        "#Labelled index reference for each row, may have multiple values\n",
        "P = pd.Series ([1,2,3,4, 5,np.nan], index=['a','b','c','d','e','f'])\n",
        "\n",
        "print (\"Pandas Series from value list and index list: \")\n",
        "print (P)\n",
        "\n"
      ],
      "execution_count": 0,
      "outputs": [
        {
          "output_type": "stream",
          "text": [
            "Pandas Series from value list and index list: \n",
            "a    1.0\n",
            "b    2.0\n",
            "c    3.0\n",
            "d    4.0\n",
            "e    5.0\n",
            "f    NaN\n",
            "dtype: float64\n"
          ],
          "name": "stdout"
        }
      ]
    }
  ]
}