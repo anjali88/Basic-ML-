{
  "nbformat": 4,
  "nbformat_minor": 0,
  "metadata": {
    "colab": {
      "name": "Untitled0.ipynb",
      "provenance": [],
      "include_colab_link": true
    },
    "kernelspec": {
      "name": "python3",
      "display_name": "Python 3"
    }
  },
  "cells": [
    {
      "cell_type": "markdown",
      "metadata": {
        "id": "view-in-github",
        "colab_type": "text"
      },
      "source": [
        "<a href=\"https://colab.research.google.com/github/anjali88/Basic-ML-/blob/master/Pushpanjali_banik_Pandas.ipynb\" target=\"_parent\"><img src=\"https://colab.research.google.com/assets/colab-badge.svg\" alt=\"Open In Colab\"/></a>"
      ]
    },
    {
      "cell_type": "code",
      "metadata": {
        "id": "d7Fn7KDkrqJW",
        "colab_type": "code",
        "outputId": "7cdfb26d-2747-42da-ae6d-f889f8741114",
        "colab": {
          "base_uri": "https://localhost:8080/",
          "height": 153
        }
      },
      "source": [
        "## import libaries for series\n",
        "import numpy as np\n",
        "import pandas as pd\n",
        "\n",
        "#create series by passing values and create custom indexes\n",
        "#Labelled index reference for each row, may have multiple values\n",
        "P = pd.Series ([1,2,3,4,5,np.nan], index=['a','b','c','d','e','f'])\n",
        "\n",
        "print (\"Pandas Series from value list and index list: \")\n",
        "print (P)\n",
        "\n"
      ],
      "execution_count": 1,
      "outputs": [
        {
          "output_type": "stream",
          "text": [
            "Pandas Series from value list and index list: \n",
            "a    1.0\n",
            "b    2.0\n",
            "c    3.0\n",
            "d    4.0\n",
            "e    5.0\n",
            "f    NaN\n",
            "dtype: float64\n"
          ],
          "name": "stdout"
        }
      ]
    },
    {
      "cell_type": "code",
      "metadata": {
        "id": "T21r81z_3WZy",
        "colab_type": "code",
        "colab": {
          "base_uri": "https://localhost:8080/",
          "height": 153
        },
        "outputId": "c4d538c9-c0d4-43c5-ada2-c12e3c17a2b3"
      },
      "source": [
        "#convert dictornary using keys from the index\n",
        "sample_dict = {'a':1, 'b':2, 'c':3, 'd':4, 'e': 5, 'f':np.nan}\n",
        "sample_dict\n",
        "\n",
        "B = pd.Series(sample_dict)\n",
        "print (\"Pandas series from dictonary\")\n",
        "print(B)\n"
      ],
      "execution_count": 2,
      "outputs": [
        {
          "output_type": "stream",
          "text": [
            "Pandas series from dictonary\n",
            "a    1.0\n",
            "b    2.0\n",
            "c    3.0\n",
            "d    4.0\n",
            "e    5.0\n",
            "f    NaN\n",
            "dtype: float64\n"
          ],
          "name": "stdout"
        }
      ]
    },
    {
      "cell_type": "code",
      "metadata": {
        "id": "Jh52luPH4mEH",
        "colab_type": "code",
        "colab": {
          "base_uri": "https://localhost:8080/",
          "height": 204
        },
        "outputId": "7b5099be-c45d-4d7a-c242-cda2fecf7c19"
      },
      "source": [
        "#create series by passing in other functions\n",
        "series1 = pd.Series(np.arange(-10,10,2))\n",
        "\n",
        "#series is created with assigned index in numerical order\n",
        "series1\n"
      ],
      "execution_count": 3,
      "outputs": [
        {
          "output_type": "execute_result",
          "data": {
            "text/plain": [
              "0   -10\n",
              "1    -8\n",
              "2    -6\n",
              "3    -4\n",
              "4    -2\n",
              "5     0\n",
              "6     2\n",
              "7     4\n",
              "8     6\n",
              "9     8\n",
              "dtype: int64"
            ]
          },
          "metadata": {
            "tags": []
          },
          "execution_count": 3
        }
      ]
    }
  ]
}