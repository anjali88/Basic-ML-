{
  "nbformat": 4,
  "nbformat_minor": 0,
  "metadata": {
    "colab": {
      "name": "Untitled0.ipynb",
      "provenance": [],
      "include_colab_link": true
    },
    "kernelspec": {
      "name": "python3",
      "display_name": "Python 3"
    }
  },
  "cells": [
    {
      "cell_type": "markdown",
      "metadata": {
        "id": "view-in-github",
        "colab_type": "text"
      },
      "source": [
        "<a href=\"https://colab.research.google.com/github/anjali88/Basic-ML-/blob/master/Pushpanjali_banik_Pandas.ipynb\" target=\"_parent\"><img src=\"https://colab.research.google.com/assets/colab-badge.svg\" alt=\"Open In Colab\"/></a>"
      ]
    },
    {
      "cell_type": "code",
      "metadata": {
        "id": "d7Fn7KDkrqJW",
        "colab_type": "code",
        "outputId": "7cdfb26d-2747-42da-ae6d-f889f8741114",
        "colab": {
          "base_uri": "https://localhost:8080/",
          "height": 153
        }
      },
      "source": [
        "#Excersise 1.1 \n",
        "##import libaries for series\n",
        "import numpy as np\n",
        "import pandas as pd\n",
        "\n",
        "#create series by passing values and create custom indexes\n",
        "#Labelled index reference for each row, may have multiple values\n",
        "P = pd.Series ([1,2,3,4,5,np.nan], index=['a','b','c','d','e','f'])\n",
        "\n",
        "print (\"Pandas Series from value list and index list: \")\n",
        "print (P)\n",
        "\n"
      ],
      "execution_count": 1,
      "outputs": [
        {
          "output_type": "stream",
          "text": [
            "Pandas Series from value list and index list: \n",
            "a    1.0\n",
            "b    2.0\n",
            "c    3.0\n",
            "d    4.0\n",
            "e    5.0\n",
            "f    NaN\n",
            "dtype: float64\n"
          ],
          "name": "stdout"
        }
      ]
    },
    {
      "cell_type": "code",
      "metadata": {
        "id": "T21r81z_3WZy",
        "colab_type": "code",
        "colab": {
          "base_uri": "https://localhost:8080/",
          "height": 153
        },
        "outputId": "c4d538c9-c0d4-43c5-ada2-c12e3c17a2b3"
      },
      "source": [
        "#convert dictornary using keys from the index\n",
        "sample_dict = {'a':1, 'b':2, 'c':3, 'd':4, 'e': 5, 'f':np.nan}\n",
        "sample_dict\n",
        "\n",
        "B = pd.Series(sample_dict)\n",
        "print (\"Pandas series from dictonary\")\n",
        "print(B)\n"
      ],
      "execution_count": 2,
      "outputs": [
        {
          "output_type": "stream",
          "text": [
            "Pandas series from dictonary\n",
            "a    1.0\n",
            "b    2.0\n",
            "c    3.0\n",
            "d    4.0\n",
            "e    5.0\n",
            "f    NaN\n",
            "dtype: float64\n"
          ],
          "name": "stdout"
        }
      ]
    },
    {
      "cell_type": "code",
      "metadata": {
        "id": "Jh52luPH4mEH",
        "colab_type": "code",
        "colab": {
          "base_uri": "https://localhost:8080/",
          "height": 204
        },
        "outputId": "7b5099be-c45d-4d7a-c242-cda2fecf7c19"
      },
      "source": [
        "#create series by passing in other functions\n",
        "series1 = pd.Series(np.arange(-10,10,2))\n",
        "\n",
        "#series is created with assigned index in numerical order\n",
        "series1\n"
      ],
      "execution_count": 3,
      "outputs": [
        {
          "output_type": "execute_result",
          "data": {
            "text/plain": [
              "0   -10\n",
              "1    -8\n",
              "2    -6\n",
              "3    -4\n",
              "4    -2\n",
              "5     0\n",
              "6     2\n",
              "7     4\n",
              "8     6\n",
              "9     8\n",
              "dtype: int64"
            ]
          },
          "metadata": {
            "tags": []
          },
          "execution_count": 3
        }
      ]
    },
    {
      "cell_type": "code",
      "metadata": {
        "id": "EaojyuA15c_f",
        "colab_type": "code",
        "colab": {
          "base_uri": "https://localhost:8080/",
          "height": 102
        },
        "outputId": "b78d370e-f9bb-4430-941d-8bbf6be3a78a"
      },
      "source": [
        "#pass in list and define datatype to create series\n",
        "series_list = pd.Series(list('1234'))#,dtype=int)\n",
        "series_list"
      ],
      "execution_count": 4,
      "outputs": [
        {
          "output_type": "execute_result",
          "data": {
            "text/plain": [
              "0    1\n",
              "1    2\n",
              "2    3\n",
              "3    4\n",
              "dtype: object"
            ]
          },
          "metadata": {
            "tags": []
          },
          "execution_count": 4
        }
      ]
    },
    {
      "cell_type": "code",
      "metadata": {
        "id": "nPAWxXGl5-ev",
        "colab_type": "code",
        "colab": {
          "base_uri": "https://localhost:8080/",
          "height": 34
        },
        "outputId": "44542804-f98f-4e2c-a9ec-79eb9ad20205"
      },
      "source": [
        "#change datatype\n",
        "series_list = series_list.astype(str)\n",
        "\n",
        "#call the values of a series\n",
        "series_list.values\n"
      ],
      "execution_count": 5,
      "outputs": [
        {
          "output_type": "execute_result",
          "data": {
            "text/plain": [
              "array(['1', '2', '3', '4'], dtype=object)"
            ]
          },
          "metadata": {
            "tags": []
          },
          "execution_count": 5
        }
      ]
    },
    {
      "cell_type": "code",
      "metadata": {
        "id": "qI0eZfSh6WAW",
        "colab_type": "code",
        "colab": {
          "base_uri": "https://localhost:8080/",
          "height": 102
        },
        "outputId": "bc8c4e5e-4bb6-42e8-f41a-49ed10f15b29"
      },
      "source": [
        "#create series using timeseries information\n",
        "time_eg = pd.Series(index=pd.date_range('20191101',periods=4,freq='M'))\n",
        "time_eg\n"
      ],
      "execution_count": 7,
      "outputs": [
        {
          "output_type": "execute_result",
          "data": {
            "text/plain": [
              "2019-11-30   NaN\n",
              "2019-12-31   NaN\n",
              "2020-01-31   NaN\n",
              "2020-02-29   NaN\n",
              "Freq: M, dtype: float64"
            ]
          },
          "metadata": {
            "tags": []
          },
          "execution_count": 7
        }
      ]
    },
    {
      "cell_type": "code",
      "metadata": {
        "id": "Qqeu5OKy7CdX",
        "colab_type": "code",
        "colab": {
          "base_uri": "https://localhost:8080/",
          "height": 102
        },
        "outputId": "9dbddf7f-dbc3-4adb-f7cb-603119a2637a"
      },
      "source": [
        "#pass own index values as series is created\n",
        "series3 = pd.Series(np.arange(0,4),index=['I','II','III','IV'])\n",
        "series3\n"
      ],
      "execution_count": 8,
      "outputs": [
        {
          "output_type": "execute_result",
          "data": {
            "text/plain": [
              "I      0\n",
              "II     1\n",
              "III    2\n",
              "IV     3\n",
              "dtype: int64"
            ]
          },
          "metadata": {
            "tags": []
          },
          "execution_count": 8
        }
      ]
    },
    {
      "cell_type": "code",
      "metadata": {
        "id": "YF4DyiX-7hsW",
        "colab_type": "code",
        "colab": {
          "base_uri": "https://localhost:8080/",
          "height": 102
        },
        "outputId": "3fc27e37-237e-4cc0-a909-3df13f4a88ff"
      },
      "source": [
        "#pass own index after series is created\n",
        "#create series\n",
        "series3 = pd.Series(['IV','III','II','I'])\n",
        "series3\n"
      ],
      "execution_count": 9,
      "outputs": [
        {
          "output_type": "execute_result",
          "data": {
            "text/plain": [
              "0     IV\n",
              "1    III\n",
              "2     II\n",
              "3      I\n",
              "dtype: object"
            ]
          },
          "metadata": {
            "tags": []
          },
          "execution_count": 9
        }
      ]
    },
    {
      "cell_type": "code",
      "metadata": {
        "id": "KlWlY1E4Uff0",
        "colab_type": "code",
        "colab": {
          "base_uri": "https://localhost:8080/",
          "height": 204
        },
        "outputId": "cf89018e-47a5-4dc8-dbfb-e5f7848da91b"
      },
      "source": [
        "#add the index\n",
        "series1.index=['I','II', 'III','IV','V','VI','VII','VIII','IX','X']\n",
        "series1"
      ],
      "execution_count": 19,
      "outputs": [
        {
          "output_type": "execute_result",
          "data": {
            "text/plain": [
              "I      -10\n",
              "II      -8\n",
              "III     -6\n",
              "IV      -4\n",
              "V       -2\n",
              "VI       0\n",
              "VII      2\n",
              "VIII     4\n",
              "IX       6\n",
              "X        8\n",
              "dtype: int64"
            ]
          },
          "metadata": {
            "tags": []
          },
          "execution_count": 19
        }
      ]
    },
    {
      "cell_type": "code",
      "metadata": {
        "id": "gEqFzm3U8A1D",
        "colab_type": "code",
        "colab": {
          "base_uri": "https://localhost:8080/",
          "height": 102
        },
        "outputId": "06598b32-7470-4ed6-9339-130ccb37a6af"
      },
      "source": [
        "#name own series\n",
        "series3.name = 'series3'\n",
        "series3\n"
      ],
      "execution_count": 11,
      "outputs": [
        {
          "output_type": "execute_result",
          "data": {
            "text/plain": [
              "0     IV\n",
              "1    III\n",
              "2     II\n",
              "3      I\n",
              "Name: series3, dtype: object"
            ]
          },
          "metadata": {
            "tags": []
          },
          "execution_count": 11
        }
      ]
    },
    {
      "cell_type": "code",
      "metadata": {
        "id": "aRj5u8C1S0-V",
        "colab_type": "code",
        "colab": {
          "base_uri": "https://localhost:8080/",
          "height": 119
        },
        "outputId": "bbca5462-f114-43a7-9df0-de6fd62fe55f"
      },
      "source": [
        "#set index name\n",
        "series3.index.name = 'digits'\n",
        "series3"
      ],
      "execution_count": 12,
      "outputs": [
        {
          "output_type": "execute_result",
          "data": {
            "text/plain": [
              "digits\n",
              "0     IV\n",
              "1    III\n",
              "2     II\n",
              "3      I\n",
              "Name: series3, dtype: object"
            ]
          },
          "metadata": {
            "tags": []
          },
          "execution_count": 12
        }
      ]
    },
    {
      "cell_type": "code",
      "metadata": {
        "id": "sCcnbazcTYTU",
        "colab_type": "code",
        "colab": {
          "base_uri": "https://localhost:8080/",
          "height": 34
        },
        "outputId": "aedbd59a-63fb-4f3e-abcb-92b1815e1ef5"
      },
      "source": [
        "#if index is a range: index characteristics\n",
        "series3.index"
      ],
      "execution_count": 13,
      "outputs": [
        {
          "output_type": "execute_result",
          "data": {
            "text/plain": [
              "RangeIndex(start=0, stop=4, step=1, name='digits')"
            ]
          },
          "metadata": {
            "tags": []
          },
          "execution_count": 13
        }
      ]
    },
    {
      "cell_type": "code",
      "metadata": {
        "id": "H89Z0191TleA",
        "colab_type": "code",
        "colab": {
          "base_uri": "https://localhost:8080/",
          "height": 54
        },
        "outputId": "b496e6b9-afee-4adb-a2aa-eb25df3343d3"
      },
      "source": [
        "# or if its object\n",
        "series1.index"
      ],
      "execution_count": 20,
      "outputs": [
        {
          "output_type": "execute_result",
          "data": {
            "text/plain": [
              "Index(['I', 'II', 'III', 'IV', 'V', 'VI', 'VII', 'VIII', 'IX', 'X'], dtype='object')"
            ]
          },
          "metadata": {
            "tags": []
          },
          "execution_count": 20
        }
      ]
    },
    {
      "cell_type": "code",
      "metadata": {
        "id": "Zok-jGH5VfoL",
        "colab_type": "code",
        "colab": {
          "base_uri": "https://localhost:8080/",
          "height": 34
        },
        "outputId": "91983ca2-776d-4bde-d0e9-ff5c29274ef4"
      },
      "source": [
        "# also if values\n",
        "series3.values\n"
      ],
      "execution_count": 21,
      "outputs": [
        {
          "output_type": "execute_result",
          "data": {
            "text/plain": [
              "array(['IV', 'III', 'II', 'I'], dtype=object)"
            ]
          },
          "metadata": {
            "tags": []
          },
          "execution_count": 21
        }
      ]
    },
    {
      "cell_type": "code",
      "metadata": {
        "id": "abHhi-UAVpVn",
        "colab_type": "code",
        "colab": {
          "base_uri": "https://localhost:8080/",
          "height": 34
        },
        "outputId": "76ca4688-96f3-40ad-ba9a-4378e5b489ea"
      },
      "source": [
        "#add properties or methods to properties\n",
        "series1.index.dtype\n"
      ],
      "execution_count": 24,
      "outputs": [
        {
          "output_type": "execute_result",
          "data": {
            "text/plain": [
              "dtype('O')"
            ]
          },
          "metadata": {
            "tags": []
          },
          "execution_count": 24
        }
      ]
    },
    {
      "cell_type": "code",
      "metadata": {
        "id": "YsRF3ztSWD4E",
        "colab_type": "code",
        "colab": {
          "base_uri": "https://localhost:8080/",
          "height": 34
        },
        "outputId": "0c1e9b0d-1178-4a92-bf4d-a66029cda754"
      },
      "source": [
        "#values or index conversion\n",
        "list_eg = series1.index.to_list()\n",
        "list_eg"
      ],
      "execution_count": 25,
      "outputs": [
        {
          "output_type": "execute_result",
          "data": {
            "text/plain": [
              "['I', 'II', 'III', 'IV', 'V', 'VI', 'VII', 'VIII', 'IX', 'X']"
            ]
          },
          "metadata": {
            "tags": []
          },
          "execution_count": 25
        }
      ]
    },
    {
      "cell_type": "code",
      "metadata": {
        "id": "m5gmq2aBWWZK",
        "colab_type": "code",
        "colab": {
          "base_uri": "https://localhost:8080/",
          "height": 34
        },
        "outputId": "8bce2faa-5e6b-45c1-ee76-daa24ad4f9b5"
      },
      "source": [
        "#check dtype\n",
        "series1.dtype"
      ],
      "execution_count": 26,
      "outputs": [
        {
          "output_type": "execute_result",
          "data": {
            "text/plain": [
              "dtype('int64')"
            ]
          },
          "metadata": {
            "tags": []
          },
          "execution_count": 26
        }
      ]
    },
    {
      "cell_type": "code",
      "metadata": {
        "id": "lmvpWy_sWdc7",
        "colab_type": "code",
        "colab": {
          "base_uri": "https://localhost:8080/",
          "height": 34
        },
        "outputId": "49df0286-3adf-40f1-ca67-35dd66daf2db"
      },
      "source": [
        "#access value of series \n",
        "#display value at index position\n",
        "series1[1]"
      ],
      "execution_count": 27,
      "outputs": [
        {
          "output_type": "execute_result",
          "data": {
            "text/plain": [
              "-8"
            ]
          },
          "metadata": {
            "tags": []
          },
          "execution_count": 27
        }
      ]
    },
    {
      "cell_type": "code",
      "metadata": {
        "id": "RfIeeCn4Wvm6",
        "colab_type": "code",
        "colab": {
          "base_uri": "https://localhost:8080/",
          "height": 34
        },
        "outputId": "a48067b7-9c21-4acb-e123-0361cf85d8b8"
      },
      "source": [
        "#can use this method as well for above\n",
        "series1.iloc[4]"
      ],
      "execution_count": 28,
      "outputs": [
        {
          "output_type": "execute_result",
          "data": {
            "text/plain": [
              "-2"
            ]
          },
          "metadata": {
            "tags": []
          },
          "execution_count": 28
        }
      ]
    },
    {
      "cell_type": "code",
      "metadata": {
        "id": "EOVnFq63W6Pw",
        "colab_type": "code",
        "colab": {
          "base_uri": "https://localhost:8080/",
          "height": 34
        },
        "outputId": "8fb407d0-b0ca-4198-9142-becfbde64a8c"
      },
      "source": [
        "#display value at index name\n",
        "series1['V']\n"
      ],
      "execution_count": 29,
      "outputs": [
        {
          "output_type": "execute_result",
          "data": {
            "text/plain": [
              "-2"
            ]
          },
          "metadata": {
            "tags": []
          },
          "execution_count": 29
        }
      ]
    },
    {
      "cell_type": "code",
      "metadata": {
        "id": "xeJYyKjPXBpm",
        "colab_type": "code",
        "colab": {
          "base_uri": "https://localhost:8080/",
          "height": 34
        },
        "outputId": "3aa92941-a6ce-4709-e2ee-cdcda946f4c2"
      },
      "source": [
        "#can use this method as well for above\n",
        "series1.loc['I']"
      ],
      "execution_count": 30,
      "outputs": [
        {
          "output_type": "execute_result",
          "data": {
            "text/plain": [
              "-10"
            ]
          },
          "metadata": {
            "tags": []
          },
          "execution_count": 30
        }
      ]
    },
    {
      "cell_type": "code",
      "metadata": {
        "id": "GmtvzMdtXJzX",
        "colab_type": "code",
        "colab": {
          "base_uri": "https://localhost:8080/",
          "height": 204
        },
        "outputId": "57b6d667-7628-4e2f-dcb6-edc7577a9e85"
      },
      "source": [
        "#replace values inplace for series1\n",
        "series1['VII']= 18\n",
        "series1"
      ],
      "execution_count": 31,
      "outputs": [
        {
          "output_type": "execute_result",
          "data": {
            "text/plain": [
              "I      -10\n",
              "II      -8\n",
              "III     -6\n",
              "IV      -4\n",
              "V       -2\n",
              "VI       0\n",
              "VII     18\n",
              "VIII     4\n",
              "IX       6\n",
              "X        8\n",
              "dtype: int64"
            ]
          },
          "metadata": {
            "tags": []
          },
          "execution_count": 31
        }
      ]
    }
  ]
}