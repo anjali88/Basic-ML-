{
  "nbformat": 4,
  "nbformat_minor": 0,
  "metadata": {
    "colab": {
      "name": "MA_ARMA_ARIMA_FBProphet_Stock_prediction.ipynb",
      "provenance": [],
      "authorship_tag": "ABX9TyPwsg2DU2/uhH/Xnb0lBBsZ",
      "include_colab_link": true
    },
    "kernelspec": {
      "name": "python3",
      "display_name": "Python 3"
    }
  },
  "cells": [
    {
      "cell_type": "markdown",
      "metadata": {
        "id": "view-in-github",
        "colab_type": "text"
      },
      "source": [
        "<a href=\"https://colab.research.google.com/github/anjali88/Data-Science/blob/master/MA_ARMA_ARIMA_FBProphet_Stock_prediction.ipynb\" target=\"_parent\"><img src=\"https://colab.research.google.com/assets/colab-badge.svg\" alt=\"Open In Colab\"/></a>"
      ]
    },
    {
      "cell_type": "code",
      "metadata": {
        "id": "cvhbgxiKEwH3",
        "colab_type": "code",
        "colab": {
          "base_uri": "https://localhost:8080/",
          "height": 80
        },
        "outputId": "bc092bed-a0f0-4769-ec4f-a4b72b1fdaf4"
      },
      "source": [
        "#https://www.kaggle.com/bogdanbaraban/ma-prophet-ar-arma-arima-lstm/notebook\n",
        "\n",
        "import numpy as np\n",
        "import pandas as pd\n",
        "import matplotlib.pyplot as plt\n",
        "import matplotlib.dates as mdates\n",
        "%matplotlib inline\n",
        "\n",
        "from math import sqrt\n",
        "from sklearn.preprocessing import MinMaxScaler\n",
        "from sklearn.metrics import mean_squared_error, mean_absolute_error\n",
        "\n",
        "# Analysis imports\n",
        "from pandas.plotting import lag_plot\n",
        "from pylab import rcParams\n",
        "from statsmodels.tsa.seasonal import seasonal_decompose\n",
        "from pandas import DataFrame\n",
        "from pandas import concat\n",
        "\n",
        "# Modelling imports\n",
        "from statsmodels.tsa.ar_model import AR\n",
        "from statsmodels.tsa.arima_model import ARMA\n",
        "from statsmodels.tsa.arima_model import ARIMA\n",
        "\n",
        "# Prophet follows the sklearn model API. We create an instance of the Prophet class and then call its fit and predict methods.\n",
        "# The input to Prophet is always a dataframe with two columns: ds and y. \n",
        "# The ds (datestamp) column should be of a format expected by Pandas, ideally YYYY-MM-DD for a date or YYYY-MM-DD HH:MM:SS for a timestamp. \n",
        "# The y column must be numeric, and represents the measurement we wish to forecast.\n",
        "\n",
        "from fbprophet import Prophet\n",
        "\n",
        "from keras.models import Sequential\n",
        "from keras.layers import Dense\n",
        "from keras.layers import LSTM, GRU\n",
        "from keras.layers import Dropout"
      ],
      "execution_count": 2,
      "outputs": [
        {
          "output_type": "stream",
          "text": [
            "Using TensorFlow backend.\n"
          ],
          "name": "stderr"
        },
        {
          "output_type": "display_data",
          "data": {
            "text/html": [
              "<p style=\"color: red;\">\n",
              "The default version of TensorFlow in Colab will soon switch to TensorFlow 2.x.<br>\n",
              "We recommend you <a href=\"https://www.tensorflow.org/guide/migrate\" target=\"_blank\">upgrade</a> now \n",
              "or ensure your notebook will continue to use TensorFlow 1.x via the <code>%tensorflow_version 1.x</code> magic:\n",
              "<a href=\"https://colab.research.google.com/notebooks/tensorflow_version.ipynb\" target=\"_blank\">more info</a>.</p>\n"
            ],
            "text/plain": [
              "<IPython.core.display.HTML object>"
            ]
          },
          "metadata": {
            "tags": []
          }
        }
      ]
    },
    {
      "cell_type": "code",
      "metadata": {
        "id": "3DGbp8vWGGQJ",
        "colab_type": "code",
        "colab": {
          "resources": {
            "http://localhost:8080/nbextensions/google.colab/files.js": {
              "data": "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",
              "ok": true,
              "headers": [
                [
                  "content-type",
                  "application/javascript"
                ]
              ],
              "status": 200,
              "status_text": ""
            }
          },
          "base_uri": "https://localhost:8080/",
          "height": 74
        },
        "outputId": "8fc6fcc7-f8bb-4d7d-b89c-0e4a7d55d369"
      },
      "source": [
        "from google.colab import files\n",
        "uploaded = files.upload()"
      ],
      "execution_count": 13,
      "outputs": [
        {
          "output_type": "display_data",
          "data": {
            "text/html": [
              "\n",
              "     <input type=\"file\" id=\"files-52dd409d-9fb1-46ff-8b91-16cfff8720d4\" name=\"files[]\" multiple disabled />\n",
              "     <output id=\"result-52dd409d-9fb1-46ff-8b91-16cfff8720d4\">\n",
              "      Upload widget is only available when the cell has been executed in the\n",
              "      current browser session. Please rerun this cell to enable.\n",
              "      </output>\n",
              "      <script src=\"/nbextensions/google.colab/files.js\"></script> "
            ],
            "text/plain": [
              "<IPython.core.display.HTML object>"
            ]
          },
          "metadata": {
            "tags": []
          }
        },
        {
          "output_type": "stream",
          "text": [
            "Saving GS.xlsx to GS (1).xlsx\n"
          ],
          "name": "stdout"
        }
      ]
    },
    {
      "cell_type": "code",
      "metadata": {
        "id": "9q9Xm2DhImRE",
        "colab_type": "code",
        "colab": {}
      },
      "source": [
        "dateparse = lambda dates: pd.datetime.strptime(dates, '%Y-%m-%d')\n",
        "import io\n",
        "data = pd.read_excel(io.BytesIO(uploaded['GS.xlsx']), sep=',', encoding='utf-8-sig', parse_dates=['Date'], index_col='Date',date_parser=dateparse)"
      ],
      "execution_count": 0,
      "outputs": []
    },
    {
      "cell_type": "code",
      "metadata": {
        "id": "EgKCcXRiF1my",
        "colab_type": "code",
        "colab": {}
      },
      "source": [
        "plt.figure(figsize=(16,8))\n",
        "plt.grid(True)\n",
        "plt.xlabel('Dates')\n",
        "plt.ylabel('Open Prices')\n",
        "plt.plot(data['Open'])"
      ],
      "execution_count": 0,
      "outputs": []
    },
    {
      "cell_type": "code",
      "metadata": {
        "id": "tZUYz7NjIvq5",
        "colab_type": "code",
        "colab": {}
      },
      "source": [
        "# Data Analysis\n",
        "\n",
        "#Autocorrelation plot\n",
        "plt.figure(figsize=(12,8))\n",
        "lag_plot(data['Open'], lag=5)\n",
        "plt.title('Goldman Sachs Autocorrelation plot')\n",
        "plt.grid(True)\n",
        "plt.legend();\n",
        "\n",
        "#Seasonal decompose\n",
        "\n",
        "rcParams['figure.figsize'] = 14, 8\n",
        "data_arima = data['Open']\n",
        "result = seasonal_decompose(data_arima[-1000:], model='additive', freq=30)\n",
        "plt.figure(figsize=(16,8))\n",
        "fig = result.plot()\n",
        "plt.show()\n",
        "\n",
        "values = DataFrame(data['Open'].values)\n",
        "dataframe = concat([values.shift(1),values.shift(5),values.shift(10),values.shift(30), values], axis=1)\n",
        "dataframe.columns = ['t', 't+1', 't+5', 't+10', 't+30']\n",
        "result = dataframe.corr()\n",
        "print(result)\n"
      ],
      "execution_count": 0,
      "outputs": []
    },
    {
      "cell_type": "code",
      "metadata": {
        "id": "QCGG9gkAJSAo",
        "colab_type": "code",
        "colab": {}
      },
      "source": [
        "# Train-Test Split\n",
        "train_data, test_data = data[0:-73], data[-73:]\n",
        "plt.figure(figsize=(16,8))\n",
        "plt.grid(True)\n",
        "plt.xlabel('Dates')\n",
        "plt.ylabel('Open Prices')\n",
        "plt.plot(data['Open'].tail(600), 'green', label='Train data')\n",
        "plt.plot(test_data['Open'], 'blue', label='Test data')\n",
        "plt.legend()\n",
        "\n",
        "# Mean value plot\n",
        "mean_value = data['Open'].mean() # calculation of mean price\n",
        "\n",
        "plt.figure(figsize=(16,8))\n",
        "plt.grid(True)\n",
        "plt.xlabel('Dates')\n",
        "plt.ylabel('Open Prices')\n",
        "plt.plot(data['Open'], 'green', label='Train data')\n",
        "plt.plot(test_data['Open'], 'blue', label='Test data')\n",
        "plt.axhline(y=mean_value, xmin=0.864, xmax=1, color='red')\n",
        "plt.legend()\n",
        "\n",
        "plt.figure(figsize=(16,8))\n",
        "plt.grid(True)\n",
        "plt.xlabel('Dates')\n",
        "plt.ylabel('Open Prices')\n",
        "plt.plot(data['Open'].tail(600), 'green', label='Train data')\n",
        "plt.plot(test_data['Open'], 'blue', label='Test data')\n",
        "plt.axhline(y=mean_value, xmin=0.864, xmax=1, color='red')\n",
        "plt.legend()\n",
        "\n",
        "print('MSE: '+str(mean_squared_error(test_data['Open'], np.full(len(test_data), mean_value))))\n",
        "print('MAE: '+str(mean_absolute_error(test_data['Open'], np.full(len(test_data), mean_value))))\n",
        "print('RMSE: '+str(sqrt(mean_squared_error(test_data['Open'], np.full(len(test_data), mean_value)))))"
      ],
      "execution_count": 0,
      "outputs": []
    },
    {
      "cell_type": "code",
      "metadata": {
        "id": "VcUVWGj_JjBR",
        "colab_type": "code",
        "colab": {}
      },
      "source": [
        "# Autoregression model\n",
        "train_ar = train_data['Open']\n",
        "test_ar = test_data['Open']\n",
        "\n",
        "model = AR(train_ar)# train autoregression\n",
        "model_fit = model.fit()\n",
        "window = model_fit.k_ar\n",
        "coef = model_fit.params\n",
        "\n",
        "# walk forward over time steps in test\n",
        "history = train_ar[len(train_ar)-window:]\n",
        "history = [history[i] for i in range(len(history))]\n",
        "predictions = list()\n",
        "for t in range(len(test_ar)):\n",
        "    length = len(history)\n",
        "    lag = [history[i] for i in range(length-window,length)]\n",
        "    yhat = coef[0]\n",
        "    for d in range(window):\n",
        "        yhat += coef[d+1] * lag[window-d-1]\n",
        "    obs = test_ar[t]\n",
        "    predictions.append(yhat)\n",
        "    history.append(obs)\n",
        " \n",
        "plt.figure(figsize=(14,8))\n",
        "plt.plot(data.index[-600:], data['Open'].tail(600), color='green', label='Close price')\n",
        "plt.plot(test_data.index, test_data['Open'], color='red', label='Test close price')\n",
        "plt.plot(test_data.index, predictions, color='blue', label='Predicted close price')\n",
        "plt.xticks(rotation=30)\n",
        "plt.grid(True)\n",
        "plt.legend()\n",
        "\n",
        "plt.figure(figsize=(14,8))\n",
        "print('Lag: %s' % model_fit.k_ar)\n",
        "plt.plot(data.index[-100:], data['Open'].tail(100), color='green', label='Close price')\n",
        "plt.plot(test_data.index, test_data['Open'], color='red', label='Test close price')\n",
        "plt.plot(test_data.index, predictions, color='blue', label='Predicted close price')\n",
        "plt.xticks(rotation=30)\n",
        "plt.grid(True)\n",
        "plt.legend()\n",
        "\n",
        "print('MSE: '+str(mean_squared_error(test_data['Open'], predictions)))\n",
        "print('MAE: '+str(mean_absolute_error(test_data['Open'], predictions)))\n",
        "print('RMSE: '+str(sqrt(mean_squared_error(test_data['Open'], predictions))))"
      ],
      "execution_count": 0,
      "outputs": []
    },
    {
      "cell_type": "code",
      "metadata": {
        "id": "HVq7YZXJJuWL",
        "colab_type": "code",
        "colab": {}
      },
      "source": [
        "# Moving Average model\n",
        "train_ma = train_data['Open']\n",
        "test_ma = test_data['Open']\n",
        "\n",
        "history = [x for x in train_ma]\n",
        "y = test_ma\n",
        "# make first prediction\n",
        "predictions = list()\n",
        "model = ARMA(history, order=(0,8))\n",
        "model_fit = model.fit(disp=0)\n",
        "yhat = model_fit.forecast()[0]\n",
        "predictions.append(yhat)\n",
        "\n",
        "history.append(y[0])\n",
        "# rolling forecasts\n",
        "for i in range(1, len(y)):\n",
        "    # predict\n",
        "    model = ARMA(history, order=(0,8))\n",
        "    model_fit = model.fit(disp=0)\n",
        "    yhat = model_fit.forecast()[0]\n",
        "    # invert transformed prediction\n",
        "    predictions.append(yhat)\n",
        "    # observation\n",
        "    obs = y[i]\n",
        "    history.append(obs)\n",
        "\n",
        "plt.figure(figsize=(14,8))\n",
        "plt.plot(data.index[-600:], data['Open'].tail(600), color='green', label = 'Train Stock Price')\n",
        "plt.plot(test_data.index, y, color = 'red', label = 'Real Stock Price')\n",
        "plt.plot(test_data.index, predictions, color = 'blue', label = 'Predicted Stock Price')\n",
        "plt.legend()\n",
        "plt.grid(True)\n",
        "plt.show()\n",
        "\n",
        "plt.figure(figsize=(14,8))\n",
        "plt.plot(data.index[-100:], data['Open'].tail(100), color='green', label = 'Train Stock Price')\n",
        "plt.plot(test_data.index, y, color = 'red', label = 'Real Stock Price')\n",
        "plt.plot(test_data.index, predictions, color = 'blue', label = 'Predicted Stock Price')\n",
        "plt.legend()\n",
        "plt.grid(True)\n",
        "plt.show()\n",
        "\n",
        "print('MSE: '+str(mean_squared_error(y, predictions)))\n",
        "print('MAE: '+str(mean_absolute_error(y, predictions)))\n",
        "print('RMSE: '+str(sqrt(mean_squared_error(y, predictions))))"
      ],
      "execution_count": 0,
      "outputs": []
    },
    {
      "cell_type": "code",
      "metadata": {
        "id": "pu665EzHJ7zL",
        "colab_type": "code",
        "colab": {}
      },
      "source": [
        "# ARMA model\n",
        "train_arma = train_data['Open']\n",
        "test_arma = test_data['Open']\n",
        "\n",
        "history = [x for x in train_arma]\n",
        "y = test_arma\n",
        "# make first prediction\n",
        "predictions = list()\n",
        "model = ARMA(history, order=(1,8))\n",
        "model_fit = model.fit(disp=0)\n",
        "yhat = model_fit.forecast()[0]\n",
        "predictions.append(yhat)\n",
        "\n",
        "history.append(y[0])\n",
        "# rolling forecasts\n",
        "for i in range(1, len(y)):\n",
        "    # predict\n",
        "    model = ARMA(history, order=(1,8))\n",
        "    model_fit = model.fit(disp=0)\n",
        "    yhat = model_fit.forecast()[0]\n",
        "    # invert transformed prediction\n",
        "    predictions.append(yhat)\n",
        "    # observation\n",
        "    obs = y[i]\n",
        "    history.append(obs)\n",
        "plt.figure(figsize=(14,8))\n",
        "plt.plot(data.index, data['Open'], color='green', label = 'Train Stock Price')\n",
        "plt.plot(test_data.index, y, color = 'red', label = 'Real Stock Price')\n",
        "plt.plot(test_data.index, predictions, color = 'blue', label = 'Predicted Stock Price')\n",
        "plt.legend()\n",
        "plt.grid(True)\n",
        "plt.show()\n",
        "\n",
        "plt.figure(figsize=(14,8))\n",
        "plt.plot(data.index[-100:], data['Open'].tail(100), color='green', label = 'Train Stock Price')\n",
        "plt.plot(test_data.index, y, color = 'red', label = 'Real Stock Price')\n",
        "plt.plot(test_data.index, predictions, color = 'blue', label = 'Predicted Stock Price')\n",
        "plt.legend()\n",
        "plt.grid(True)\n",
        "plt.show()\n",
        "print('MSE: '+str(mean_squared_error(y, predictions)))\n",
        "print('MAE: '+str(mean_absolute_error(y, predictions)))\n",
        "print('RMSE: '+str(sqrt(mean_squared_error(y, predictions))))"
      ],
      "execution_count": 0,
      "outputs": []
    },
    {
      "cell_type": "code",
      "metadata": {
        "id": "Kre9KXVvKFvj",
        "colab_type": "code",
        "colab": {}
      },
      "source": [
        "# ARIMA model\n",
        "train_arima = train_data['Open']\n",
        "test_arima = test_data['Open']\n",
        "\n",
        "history = [x for x in train_arima]\n",
        "y = test_arima\n",
        "# make first prediction\n",
        "predictions = list()\n",
        "model = ARIMA(history, order=(1,1,0))\n",
        "model_fit = model.fit(disp=0)\n",
        "yhat = model_fit.forecast()[0]\n",
        "predictions.append(yhat)\n",
        "history.append(y[0])\n",
        "# rolling forecasts\n",
        "for i in range(1, len(y)):\n",
        "  # predict\n",
        "    model = ARIMA(history, order=(1,1,1))\n",
        "    model_fit = model.fit(disp=0)\n",
        "    yhat = model_fit.forecast()[0]\n",
        "    # invert transformed prediction\n",
        "    predictions.append(yhat)\n",
        "    # observation\n",
        "    obs = y[i]\n",
        "    history.append(obs)\n",
        "    \n",
        "plt.figure(figsize=(14,8))\n",
        "plt.plot(data.index, data['Open'], color='green', label = 'Train Stock Price')\n",
        "plt.plot(test_data.index, y, color = 'red', label = 'Real Stock Price')\n",
        "plt.plot(test_data.index, predictions, color = 'blue', label = 'Predicted Stock Price')\n",
        "plt.legend()\n",
        "plt.grid(True)\n",
        "plt.show()\n",
        "plt.figure(figsize=(14,8))\n",
        "plt.plot(data.index[-600:], data['Open'].tail(600), color='green', label = 'Train Stock Price')\n",
        "plt.plot(test_data.index, y, color = 'red', label = 'Real Stock Price')\n",
        "plt.plot(test_data.index, predictions, color = 'blue', label = 'Predicted Stock Price')\n",
        "plt.legend()\n",
        "plt.grid(True)\n",
        "plt.show()\n",
        "\n",
        "print('MSE: '+str(mean_squared_error(y, predictions)))\n",
        "print('MAE: '+str(mean_absolute_error(y, predictions)))\n",
        "print('RMSE: '+str(sqrt(mean_squared_error(y, predictions))))"
      ],
      "execution_count": 0,
      "outputs": []
    },
    {
      "cell_type": "code",
      "metadata": {
        "id": "1RKfVxenKRCF",
        "colab_type": "code",
        "colab": {}
      },
      "source": [
        "# Facebook Prophet\n",
        "\n",
        "# Drop the columns\n",
        "ph_df_train = train_data.drop(['Close', 'High', 'Low','Volume', 'OpenInt'], axis=1)\n",
        "ph_df_train['Date'] = ph_df_train.index\n",
        "ph_df_train.rename(columns={'Open': 'y', 'Date': 'ds'}, inplace=True)\n",
        "\n",
        "prop = Prophet(changepoint_prior_scale=0.1)\n",
        "prop.fit(ph_df_train)\n",
        "# Create Future dates\n",
        "future_prices = prop.make_future_dataframe(periods=73)\n",
        "\n",
        "# Predict Prices\n",
        "forecast = prop.predict(future_prices)"
      ],
      "execution_count": 0,
      "outputs": []
    },
    {
      "cell_type": "code",
      "metadata": {
        "id": "r3Pfzf61KZqq",
        "colab_type": "code",
        "colab": {}
      },
      "source": [
        "plt.figure(figsize=(14,8))\n",
        "plt.plot(data.index, data['Open'], color='green', label = 'Train Stock Price')\n",
        "plt.plot(test_data.index, test_data['Open'], color = 'red', label = 'Real Stock Price')\n",
        "plt.plot(test_data.index, forecast['yhat'][-73:], color = 'blue', label = 'Predicted Stock Price')\n",
        "plt.fill_between(test_data.index, forecast['yhat_lower'][-73:], forecast['yhat_upper'][-73:], color='grey', label=\"Band Range\")\n",
        "plt.legend()\n",
        "plt.grid(True)\n",
        "plt.show()\n",
        "\n",
        "plt.figure(figsize=(14,8))\n",
        "plt.plot(data.index[-600:], data['Open'].tail(600), color='green', label = 'Train Stock Price')\n",
        "plt.plot(test_data.index, test_data['Open'], color = 'red', label = 'Real Stock Price')\n",
        "plt.plot(test_data.index, forecast['yhat'][-73:], color = 'blue', label = 'Predicted Stock Price')\n",
        "plt.fill_between(test_data.index, forecast['yhat_lower'][-73:], forecast['yhat_upper'][-73:], color='grey', label=\"Band Range\")\n",
        "plt.legend()\n",
        "plt.grid(True)\n",
        "plt.show()\n",
        "\n",
        "print('MSE: '+str(mean_squared_error(test_data['Open'], forecast['yhat'][-73:])))\n",
        "print('MAE: '+str(mean_absolute_error(test_data['Open'], forecast['yhat'][-73:])))\n",
        "print('RMSE: '+str(sqrt(mean_squared_error(test_data['Open'], forecast['yhat'][-73:]))))"
      ],
      "execution_count": 0,
      "outputs": []
    },
    {
      "cell_type": "code",
      "metadata": {
        "id": "U8QAJwGOKfFg",
        "colab_type": "code",
        "colab": {}
      },
      "source": [
        "# LSTM\n",
        "\n",
        "train = train_data.iloc[:, 0:1].values # selecting open prices\n",
        "# Feature Scaling\n",
        "scaler = MinMaxScaler()\n",
        "train_scaled = scaler.fit_transform(train) \n",
        "# Train dataset\n",
        "timesteps = 7\n",
        "X_train = []\n",
        "y_train = []\n",
        "for i in range(timesteps, train.shape[0]):\n",
        "    X_train.append(train_scaled[i-timesteps:i, 0]) # we take 30 previous prices\n",
        "    y_train.append(train_scaled[i, 0]) # and 60-th price as y value\n",
        "X_train, y_train = np.array(X_train), np.array(y_train)\n",
        "# Reshaping\n",
        "X_train = np.reshape(X_train, (X_train.shape[0], X_train.shape[1], 1))\n",
        "from numpy.random import seed\n",
        "seed(2019)"
      ],
      "execution_count": 0,
      "outputs": []
    },
    {
      "cell_type": "code",
      "metadata": {
        "id": "A4Bf5q67KmO9",
        "colab_type": "code",
        "colab": {}
      },
      "source": [
        "model = Sequential()\n",
        "\n",
        "# Adding the first LSTM layer \n",
        "# Here return_sequences=True means whether to return the last output in the output sequence, or the full sequence.\n",
        "# it basically tells us that there is another(or more) LSTM layer ahead in the network.\n",
        "model.add(LSTM(units = 60, return_sequences = True, input_shape = (X_train.shape[1], 1)))\n",
        "# Dropout regularisation for tackling overfitting\n",
        "model.add(Dropout(0.2))\n",
        "\n",
        "model.add(LSTM(units = 50))\n",
        "model.add(Dropout(0.25))\n",
        "\n",
        "# Adding the output layer\n",
        "model.add(Dense(units = 1))\n",
        "\n",
        "# Compiling the RNN\n",
        "# RMSprop is a recommended optimizer as per keras documentation\n",
        "# check out https://keras.io/optimizers/ for more details\n",
        "model.compile(optimizer = 'adam', loss = 'mean_squared_error')\n",
        "\n",
        "# Fitting the RNN to the Training set\n",
        "model.fit(X_train, y_train, epochs = 65, batch_size = 16)"
      ],
      "execution_count": 0,
      "outputs": []
    },
    {
      "cell_type": "code",
      "metadata": {
        "id": "_J07MjvjKraU",
        "colab_type": "code",
        "colab": {}
      },
      "source": [
        "# this will be used later while comparing and visualization\n",
        "real_stock_price = test_data.iloc[:,0:1].values # taking open price\n",
        "# combine original train and test data vertically\n",
        "# as previous Open Prices are not present in test dataset\n",
        "# e.g. for predicting Open price for first date in test data, we will need stock open prices on timesteps previous dates  \n",
        "combine = pd.concat((train_data['Open'], test_data['Open']), axis = 0)\n",
        "# our test inputs also contains stock open Prices of last timesteps dates (as described above)\n",
        "test_inputs = combine[len(combine) - len(test_data) - timesteps:].values\n",
        "test_inputs = test_inputs.reshape(-1,1)\n",
        "test_inputs = scaler.transform(test_inputs)\n",
        "# same steps as we followed while processing training data\n",
        "X_test = []\n",
        "for i in range(timesteps, test_data.shape[0]+timesteps):\n",
        "    X_test.append(test_inputs[i-timesteps:i, 0])\n",
        "X_test = np.array(X_test)\n",
        "X_test = np.reshape(X_test, (X_test.shape[0], X_test.shape[1], 1))\n",
        "predicted_stock_price = model.predict(X_test)\n",
        "# inverse_transform because prediction is done on scaled inputs\n",
        "predicted_stock_price = scaler.inverse_transform(predicted_stock_price)\n",
        "\n",
        "plt.figure(figsize=(16,8))\n",
        "plt.plot(data.index[-600:], data['Open'].tail(600), color='green', label = 'Train Stock Price')\n",
        "plt.plot(test_data.index, real_stock_price, color = 'red', label = 'Real Stock Price')\n",
        "plt.plot(test_data.index, predicted_stock_price, color = 'blue', label = 'Predicted Stock Price')\n",
        "plt.title('Goldman Sachs Stock Price Prediction')\n",
        "plt.xlabel('Time')\n",
        "plt.ylabel('Goldman Sachs Stock Price')\n",
        "plt.legend()\n",
        "plt.grid(True)\n",
        "plt.savefig('lstm_30.pdf')\n",
        "plt.show()\n",
        "\n",
        "mse = mean_squared_error(real_stock_price, predicted_stock_price)\n",
        "print('MSE: '+str(mse))\n",
        "mae = mean_absolute_error(real_stock_price, predicted_stock_price)\n",
        "print('MAE: '+str(mae))\n",
        "rmse = sqrt(mean_squared_error(real_stock_price, predicted_stock_price))\n",
        "print('RMSE: '+str(rmse))"
      ],
      "execution_count": 0,
      "outputs": []
    }
  ]
}