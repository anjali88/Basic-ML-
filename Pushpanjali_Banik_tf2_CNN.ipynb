{
  "nbformat": 4,
  "nbformat_minor": 0,
  "metadata": {
    "colab": {
      "name": "Pushpanjali_Banik_tf2_CNN.ipynb",
      "provenance": [],
      "collapsed_sections": [],
      "authorship_tag": "ABX9TyN/bRAd28FtQUi3ca0Z5rjQ",
      "include_colab_link": true
    },
    "kernelspec": {
      "name": "python3",
      "display_name": "Python 3"
    }
  },
  "cells": [
    {
      "cell_type": "markdown",
      "metadata": {
        "id": "view-in-github",
        "colab_type": "text"
      },
      "source": [
        "<a href=\"https://colab.research.google.com/github/anjali88/Data-Science/blob/master/Pushpanjali_Banik_tf2_CNN.ipynb\" target=\"_parent\"><img src=\"https://colab.research.google.com/assets/colab-badge.svg\" alt=\"Open In Colab\"/></a>"
      ]
    },
    {
      "cell_type": "markdown",
      "metadata": {
        "id": "-dEV0V9tAUgx",
        "colab_type": "text"
      },
      "source": [
        "In this notebook, we will use another dataset - the **`mnist`** dataset -  to build on our knowledge. In particular, we will:\n",
        "  * introduce **`Computer Vision`** \n",
        "  * introduce **`convolutional layers`** into our models \n",
        "  * introduce the concept of **`regularisation`**\n",
        "  * introduce the **`validation set`** in training our model \n",
        "  * introduce how to **`save`** and reuse our model \n",
        "* The image below sets out how this fits within our deep learning framework and exising knowledge"
      ]
    },
    {
      "cell_type": "markdown",
      "metadata": {
        "id": "sd6vVodbAl-n",
        "colab_type": "text"
      },
      "source": [
        "![alt text](https://github.com/DanRHowarth/Tensorflow-2.0/blob/master/Notebook%202%20-%20Summary_final.png?raw=true)"
      ]
    },
    {
      "cell_type": "code",
      "metadata": {
        "id": "XvwTjn1tAbRr",
        "colab_type": "code",
        "outputId": "26c487d2-1cf2-4aa5-d20e-c9329cb10610",
        "colab": {
          "base_uri": "https://localhost:8080/",
          "height": 632
        }
      },
      "source": [
        "#Load Libraries\n",
        "!pip install --upgrade tensorflow"
      ],
      "execution_count": 0,
      "outputs": [
        {
          "output_type": "stream",
          "text": [
            "Requirement already up-to-date: tensorflow in /usr/local/lib/python3.6/dist-packages (2.1.0)\n",
            "Requirement already satisfied, skipping upgrade: scipy==1.4.1; python_version >= \"3\" in /usr/local/lib/python3.6/dist-packages (from tensorflow) (1.4.1)\n",
            "Requirement already satisfied, skipping upgrade: wheel>=0.26; python_version >= \"3\" in /usr/local/lib/python3.6/dist-packages (from tensorflow) (0.34.2)\n",
            "Requirement already satisfied, skipping upgrade: wrapt>=1.11.1 in /usr/local/lib/python3.6/dist-packages (from tensorflow) (1.11.2)\n",
            "Requirement already satisfied, skipping upgrade: numpy<2.0,>=1.16.0 in /usr/local/lib/python3.6/dist-packages (from tensorflow) (1.17.5)\n",
            "Requirement already satisfied, skipping upgrade: absl-py>=0.7.0 in /usr/local/lib/python3.6/dist-packages (from tensorflow) (0.9.0)\n",
            "Requirement already satisfied, skipping upgrade: tensorboard<2.2.0,>=2.1.0 in /usr/local/lib/python3.6/dist-packages (from tensorflow) (2.1.1)\n",
            "Requirement already satisfied, skipping upgrade: google-pasta>=0.1.6 in /usr/local/lib/python3.6/dist-packages (from tensorflow) (0.1.8)\n",
            "Requirement already satisfied, skipping upgrade: protobuf>=3.8.0 in /usr/local/lib/python3.6/dist-packages (from tensorflow) (3.10.0)\n",
            "Requirement already satisfied, skipping upgrade: termcolor>=1.1.0 in /usr/local/lib/python3.6/dist-packages (from tensorflow) (1.1.0)\n",
            "Requirement already satisfied, skipping upgrade: grpcio>=1.8.6 in /usr/local/lib/python3.6/dist-packages (from tensorflow) (1.27.1)\n",
            "Requirement already satisfied, skipping upgrade: gast==0.2.2 in /usr/local/lib/python3.6/dist-packages (from tensorflow) (0.2.2)\n",
            "Requirement already satisfied, skipping upgrade: keras-preprocessing>=1.1.0 in /usr/local/lib/python3.6/dist-packages (from tensorflow) (1.1.0)\n",
            "Requirement already satisfied, skipping upgrade: tensorflow-estimator<2.2.0,>=2.1.0rc0 in /usr/local/lib/python3.6/dist-packages (from tensorflow) (2.1.0)\n",
            "Requirement already satisfied, skipping upgrade: astor>=0.6.0 in /usr/local/lib/python3.6/dist-packages (from tensorflow) (0.8.1)\n",
            "Requirement already satisfied, skipping upgrade: opt-einsum>=2.3.2 in /usr/local/lib/python3.6/dist-packages (from tensorflow) (3.1.0)\n",
            "Requirement already satisfied, skipping upgrade: six>=1.12.0 in /usr/local/lib/python3.6/dist-packages (from tensorflow) (1.12.0)\n",
            "Requirement already satisfied, skipping upgrade: keras-applications>=1.0.8 in /usr/local/lib/python3.6/dist-packages (from tensorflow) (1.0.8)\n",
            "Requirement already satisfied, skipping upgrade: google-auth-oauthlib<0.5,>=0.4.1 in /usr/local/lib/python3.6/dist-packages (from tensorboard<2.2.0,>=2.1.0->tensorflow) (0.4.1)\n",
            "Requirement already satisfied, skipping upgrade: requests<3,>=2.21.0 in /usr/local/lib/python3.6/dist-packages (from tensorboard<2.2.0,>=2.1.0->tensorflow) (2.21.0)\n",
            "Requirement already satisfied, skipping upgrade: setuptools>=41.0.0 in /usr/local/lib/python3.6/dist-packages (from tensorboard<2.2.0,>=2.1.0->tensorflow) (45.2.0)\n",
            "Requirement already satisfied, skipping upgrade: werkzeug>=0.11.15 in /usr/local/lib/python3.6/dist-packages (from tensorboard<2.2.0,>=2.1.0->tensorflow) (1.0.0)\n",
            "Requirement already satisfied, skipping upgrade: google-auth<2,>=1.6.3 in /usr/local/lib/python3.6/dist-packages (from tensorboard<2.2.0,>=2.1.0->tensorflow) (1.7.2)\n",
            "Requirement already satisfied, skipping upgrade: markdown>=2.6.8 in /usr/local/lib/python3.6/dist-packages (from tensorboard<2.2.0,>=2.1.0->tensorflow) (3.2.1)\n",
            "Requirement already satisfied, skipping upgrade: h5py in /usr/local/lib/python3.6/dist-packages (from keras-applications>=1.0.8->tensorflow) (2.8.0)\n",
            "Requirement already satisfied, skipping upgrade: requests-oauthlib>=0.7.0 in /usr/local/lib/python3.6/dist-packages (from google-auth-oauthlib<0.5,>=0.4.1->tensorboard<2.2.0,>=2.1.0->tensorflow) (1.3.0)\n",
            "Requirement already satisfied, skipping upgrade: idna<2.9,>=2.5 in /usr/local/lib/python3.6/dist-packages (from requests<3,>=2.21.0->tensorboard<2.2.0,>=2.1.0->tensorflow) (2.8)\n",
            "Requirement already satisfied, skipping upgrade: certifi>=2017.4.17 in /usr/local/lib/python3.6/dist-packages (from requests<3,>=2.21.0->tensorboard<2.2.0,>=2.1.0->tensorflow) (2019.11.28)\n",
            "Requirement already satisfied, skipping upgrade: urllib3<1.25,>=1.21.1 in /usr/local/lib/python3.6/dist-packages (from requests<3,>=2.21.0->tensorboard<2.2.0,>=2.1.0->tensorflow) (1.24.3)\n",
            "Requirement already satisfied, skipping upgrade: chardet<3.1.0,>=3.0.2 in /usr/local/lib/python3.6/dist-packages (from requests<3,>=2.21.0->tensorboard<2.2.0,>=2.1.0->tensorflow) (3.0.4)\n",
            "Requirement already satisfied, skipping upgrade: cachetools<3.2,>=2.0.0 in /usr/local/lib/python3.6/dist-packages (from google-auth<2,>=1.6.3->tensorboard<2.2.0,>=2.1.0->tensorflow) (3.1.1)\n",
            "Requirement already satisfied, skipping upgrade: rsa<4.1,>=3.1.4 in /usr/local/lib/python3.6/dist-packages (from google-auth<2,>=1.6.3->tensorboard<2.2.0,>=2.1.0->tensorflow) (4.0)\n",
            "Requirement already satisfied, skipping upgrade: pyasn1-modules>=0.2.1 in /usr/local/lib/python3.6/dist-packages (from google-auth<2,>=1.6.3->tensorboard<2.2.0,>=2.1.0->tensorflow) (0.2.8)\n",
            "Requirement already satisfied, skipping upgrade: oauthlib>=3.0.0 in /usr/local/lib/python3.6/dist-packages (from requests-oauthlib>=0.7.0->google-auth-oauthlib<0.5,>=0.4.1->tensorboard<2.2.0,>=2.1.0->tensorflow) (3.1.0)\n",
            "Requirement already satisfied, skipping upgrade: pyasn1>=0.1.3 in /usr/local/lib/python3.6/dist-packages (from rsa<4.1,>=3.1.4->google-auth<2,>=1.6.3->tensorboard<2.2.0,>=2.1.0->tensorflow) (0.4.8)\n"
          ],
          "name": "stdout"
        }
      ]
    },
    {
      "cell_type": "code",
      "metadata": {
        "id": "k0LSGp87BwS4",
        "colab_type": "code",
        "outputId": "db2c1b9c-2ae0-455b-8044-f54b58f7f7bd",
        "colab": {
          "base_uri": "https://localhost:8080/",
          "height": 34
        }
      },
      "source": [
        "#We are future proofing by importing modules that modify or replace exising modules that we may have used now \n",
        "from __future__ import absolute_import, division, print_function, unicode_literals\n",
        "import tensorflow as tf\n",
        "from tensorflow import keras\n",
        "\n",
        "#import helper libraries\n",
        "import numpy as np\n",
        "import matplotlib.pyplot as plt\n",
        "\n",
        "#print out the version we are using \n",
        "print(tf.__version__)"
      ],
      "execution_count": 0,
      "outputs": [
        {
          "output_type": "stream",
          "text": [
            "2.1.0\n"
          ],
          "name": "stdout"
        }
      ]
    },
    {
      "cell_type": "code",
      "metadata": {
        "id": "tS_8WCQFC8KI",
        "colab_type": "code",
        "colab": {}
      },
      "source": [
        "# additional imports for this notebook\n",
        "from tensorflow.keras import datasets, layers, models"
      ],
      "execution_count": 0,
      "outputs": []
    },
    {
      "cell_type": "markdown",
      "metadata": {
        "id": "-1miHVOwDGey",
        "colab_type": "text"
      },
      "source": [
        "# 1.2 Loading our Data\n"
      ]
    },
    {
      "cell_type": "code",
      "metadata": {
        "id": "omozhltdDLAt",
        "colab_type": "code",
        "colab": {}
      },
      "source": [
        "# split data\n",
        "(train_images, train_labels), (test_images, test_labels) = datasets.mnist.load_data()"
      ],
      "execution_count": 0,
      "outputs": []
    },
    {
      "cell_type": "code",
      "metadata": {
        "id": "5NHvV_R3DbxK",
        "colab_type": "code",
        "outputId": "f8e2fbba-886b-4efc-ffd4-72c88207b99a",
        "colab": {
          "base_uri": "https://localhost:8080/",
          "height": 282
        }
      },
      "source": [
        "# look at data\n",
        "plt.imshow(train_images[0])"
      ],
      "execution_count": 0,
      "outputs": [
        {
          "output_type": "execute_result",
          "data": {
            "text/plain": [
              "<matplotlib.image.AxesImage at 0x7fec2599fbe0>"
            ]
          },
          "metadata": {
            "tags": []
          },
          "execution_count": 31
        },
        {
          "output_type": "display_data",
          "data": {
            "image/png": "[encoded data removed]",
            "text/plain": [
              "<Figure size 432x288 with 1 Axes>"
            ]
          },
          "metadata": {
            "tags": []
          }
        }
      ]
    },
    {
      "cell_type": "code",
      "metadata": {
        "id": "qDhH0_UKEnlQ",
        "colab_type": "code",
        "outputId": "79946dae-16e5-472a-f651-32e3a7be8923",
        "colab": {
          "base_uri": "https://localhost:8080/",
          "height": 34
        }
      },
      "source": [
        "#look at labels\n",
        "np.unique(train_labels)"
      ],
      "execution_count": 0,
      "outputs": [
        {
          "output_type": "execute_result",
          "data": {
            "text/plain": [
              "array([0, 1, 2, 3, 4, 5, 6, 7, 8, 9], dtype=uint8)"
            ]
          },
          "metadata": {
            "tags": []
          },
          "execution_count": 32
        }
      ]
    },
    {
      "cell_type": "markdown",
      "metadata": {
        "id": "Cg9toyDrEsl7",
        "colab_type": "text"
      },
      "source": [
        "**What is the problem we are trying to solve?**\n",
        "* As we can see, we have images of digits from 0 - 9, and labels from 0 - 9. We are trying to build a model that correctly classifies the digits in the image."
      ]
    },
    {
      "cell_type": "markdown",
      "metadata": {
        "id": "TVVXSv2UE8pN",
        "colab_type": "text"
      },
      "source": [
        "## 2. Data: Introduction to Computer Vision \n",
        "\n",
        "**What is Computer Vision?**\n",
        "* Computer Vision is the field of how computers can gain understanding from images and videos. It includes tasks such as **`image recognition`** and **`object detection`**. Deep Learning is seen as the state of the art technology for solving computer vision problems. \n",
        "\n",
        "**Why is Deep Learning particularly good at it?**\n",
        "* The layers within a deep learning model are good for identifying and modelling the different aspects of an image (such as edges, parts of faces, and other important parts of an image). The meaning that each layer extracts can be built up to form representations for lots of different image types that can then be classified.  \n",
        "* In particular, **`convolutional layers`** are good at extracting representation from image data and they form the basis of deep learning models for image recognition. The ability to build larger and larger models that consist of these convolutional layers, and to train them with more and more data (thanks to increasing compute power), led to a leap forward in state of the art for computer vision. \n",
        "\n",
        "**How does it work?**\n",
        "* Every image is represented by an array of numbers. You may have noticed this when we looked at the **`shape`** of the images we were processing. This shape represents the number of pixels in an image, and each pixel has a numerical value. This numerical value maps to a colour value that is displayed. It is also what we use as input values to our model. "
      ]
    },
    {
      "cell_type": "code",
      "metadata": {
        "id": "6ewAAnAuE4mT",
        "colab_type": "code",
        "outputId": "53803741-33a4-4073-ca13-948c7f585d86",
        "colab": {
          "base_uri": "https://localhost:8080/",
          "height": 34
        }
      },
      "source": [
        "## lets start by looking at the shape of an image\n",
        "\n",
        "## we can see that it is 28 x 28 pixels\n",
        "train_images[0].shape"
      ],
      "execution_count": 0,
      "outputs": [
        {
          "output_type": "execute_result",
          "data": {
            "text/plain": [
              "(28, 28)"
            ]
          },
          "metadata": {
            "tags": []
          },
          "execution_count": 33
        }
      ]
    },
    {
      "cell_type": "code",
      "metadata": {
        "id": "W8f4u7aAFN0E",
        "colab_type": "code",
        "outputId": "93431260-4841-4fc7-8996-245ed6354760",
        "colab": {
          "base_uri": "https://localhost:8080/",
          "height": 1000
        }
      },
      "source": [
        "## we can also see that these pixels are represented in an array of numbers \n",
        "train_images[0]"
      ],
      "execution_count": 0,
      "outputs": [
        {
          "output_type": "execute_result",
          "data": {
            "text/plain": [
              "array([[  0,   0,   0,   0,   0,   0,   0,   0,   0,   0,   0,   0,   0,\n",
              "          0,   0,   0,   0,   0,   0,   0,   0,   0,   0,   0,   0,   0,\n",
              "          0,   0],\n",
              "       [  0,   0,   0,   0,   0,   0,   0,   0,   0,   0,   0,   0,   0,\n",
              "          0,   0,   0,   0,   0,   0,   0,   0,   0,   0,   0,   0,   0,\n",
              "          0,   0],\n",
              "       [  0,   0,   0,   0,   0,   0,   0,   0,   0,   0,   0,   0,   0,\n",
              "          0,   0,   0,   0,   0,   0,   0,   0,   0,   0,   0,   0,   0,\n",
              "          0,   0],\n",
              "       [  0,   0,   0,   0,   0,   0,   0,   0,   0,   0,   0,   0,   0,\n",
              "          0,   0,   0,   0,   0,   0,   0,   0,   0,   0,   0,   0,   0,\n",
              "          0,   0],\n",
              "       [  0,   0,   0,   0,   0,   0,   0,   0,   0,   0,   0,   0,   0,\n",
              "          0,   0,   0,   0,   0,   0,   0,   0,   0,   0,   0,   0,   0,\n",
              "          0,   0],\n",
              "       [  0,   0,   0,   0,   0,   0,   0,   0,   0,   0,   0,   0,   3,\n",
              "         18,  18,  18, 126, 136, 175,  26, 166, 255, 247, 127,   0,   0,\n",
              "          0,   0],\n",
              "       [  0,   0,   0,   0,   0,   0,   0,   0,  30,  36,  94, 154, 170,\n",
              "        253, 253, 253, 253, 253, 225, 172, 253, 242, 195,  64,   0,   0,\n",
              "          0,   0],\n",
              "       [  0,   0,   0,   0,   0,   0,   0,  49, 238, 253, 253, 253, 253,\n",
              "        253, 253, 253, 253, 251,  93,  82,  82,  56,  39,   0,   0,   0,\n",
              "          0,   0],\n",
              "       [  0,   0,   0,   0,   0,   0,   0,  18, 219, 253, 253, 253, 253,\n",
              "        253, 198, 182, 247, 241,   0,   0,   0,   0,   0,   0,   0,   0,\n",
              "          0,   0],\n",
              "       [  0,   0,   0,   0,   0,   0,   0,   0,  80, 156, 107, 253, 253,\n",
              "        205,  11,   0,  43, 154,   0,   0,   0,   0,   0,   0,   0,   0,\n",
              "          0,   0],\n",
              "       [  0,   0,   0,   0,   0,   0,   0,   0,   0,  14,   1, 154, 253,\n",
              "         90,   0,   0,   0,   0,   0,   0,   0,   0,   0,   0,   0,   0,\n",
              "          0,   0],\n",
              "       [  0,   0,   0,   0,   0,   0,   0,   0,   0,   0,   0, 139, 253,\n",
              "        190,   2,   0,   0,   0,   0,   0,   0,   0,   0,   0,   0,   0,\n",
              "          0,   0],\n",
              "       [  0,   0,   0,   0,   0,   0,   0,   0,   0,   0,   0,  11, 190,\n",
              "        253,  70,   0,   0,   0,   0,   0,   0,   0,   0,   0,   0,   0,\n",
              "          0,   0],\n",
              "       [  0,   0,   0,   0,   0,   0,   0,   0,   0,   0,   0,   0,  35,\n",
              "        241, 225, 160, 108,   1,   0,   0,   0,   0,   0,   0,   0,   0,\n",
              "          0,   0],\n",
              "       [  0,   0,   0,   0,   0,   0,   0,   0,   0,   0,   0,   0,   0,\n",
              "         81, 240, 253, 253, 119,  25,   0,   0,   0,   0,   0,   0,   0,\n",
              "          0,   0],\n",
              "       [  0,   0,   0,   0,   0,   0,   0,   0,   0,   0,   0,   0,   0,\n",
              "          0,  45, 186, 253, 253, 150,  27,   0,   0,   0,   0,   0,   0,\n",
              "          0,   0],\n",
              "       [  0,   0,   0,   0,   0,   0,   0,   0,   0,   0,   0,   0,   0,\n",
              "          0,   0,  16,  93, 252, 253, 187,   0,   0,   0,   0,   0,   0,\n",
              "          0,   0],\n",
              "       [  0,   0,   0,   0,   0,   0,   0,   0,   0,   0,   0,   0,   0,\n",
              "          0,   0,   0,   0, 249, 253, 249,  64,   0,   0,   0,   0,   0,\n",
              "          0,   0],\n",
              "       [  0,   0,   0,   0,   0,   0,   0,   0,   0,   0,   0,   0,   0,\n",
              "          0,  46, 130, 183, 253, 253, 207,   2,   0,   0,   0,   0,   0,\n",
              "          0,   0],\n",
              "       [  0,   0,   0,   0,   0,   0,   0,   0,   0,   0,   0,   0,  39,\n",
              "        148, 229, 253, 253, 253, 250, 182,   0,   0,   0,   0,   0,   0,\n",
              "          0,   0],\n",
              "       [  0,   0,   0,   0,   0,   0,   0,   0,   0,   0,  24, 114, 221,\n",
              "        253, 253, 253, 253, 201,  78,   0,   0,   0,   0,   0,   0,   0,\n",
              "          0,   0],\n",
              "       [  0,   0,   0,   0,   0,   0,   0,   0,  23,  66, 213, 253, 253,\n",
              "        253, 253, 198,  81,   2,   0,   0,   0,   0,   0,   0,   0,   0,\n",
              "          0,   0],\n",
              "       [  0,   0,   0,   0,   0,   0,  18, 171, 219, 253, 253, 253, 253,\n",
              "        195,  80,   9,   0,   0,   0,   0,   0,   0,   0,   0,   0,   0,\n",
              "          0,   0],\n",
              "       [  0,   0,   0,   0,  55, 172, 226, 253, 253, 253, 253, 244, 133,\n",
              "         11,   0,   0,   0,   0,   0,   0,   0,   0,   0,   0,   0,   0,\n",
              "          0,   0],\n",
              "       [  0,   0,   0,   0, 136, 253, 253, 253, 212, 135, 132,  16,   0,\n",
              "          0,   0,   0,   0,   0,   0,   0,   0,   0,   0,   0,   0,   0,\n",
              "          0,   0],\n",
              "       [  0,   0,   0,   0,   0,   0,   0,   0,   0,   0,   0,   0,   0,\n",
              "          0,   0,   0,   0,   0,   0,   0,   0,   0,   0,   0,   0,   0,\n",
              "          0,   0],\n",
              "       [  0,   0,   0,   0,   0,   0,   0,   0,   0,   0,   0,   0,   0,\n",
              "          0,   0,   0,   0,   0,   0,   0,   0,   0,   0,   0,   0,   0,\n",
              "          0,   0],\n",
              "       [  0,   0,   0,   0,   0,   0,   0,   0,   0,   0,   0,   0,   0,\n",
              "          0,   0,   0,   0,   0,   0,   0,   0,   0,   0,   0,   0,   0,\n",
              "          0,   0]], dtype=uint8)"
            ]
          },
          "metadata": {
            "tags": []
          },
          "execution_count": 34
        }
      ]
    },
    {
      "cell_type": "code",
      "metadata": {
        "id": "2pkrAPvTFSJ4",
        "colab_type": "code",
        "outputId": "076a67f5-4ef6-4a4e-e1ba-fb6e6ac096ab",
        "colab": {
          "base_uri": "https://localhost:8080/",
          "height": 282
        }
      },
      "source": [
        "# we need plt.imshow() - or another library such as OpenCV or PIL - to output an image from this array\n",
        "plt.imshow(train_images[0])"
      ],
      "execution_count": 0,
      "outputs": [
        {
          "output_type": "execute_result",
          "data": {
            "text/plain": [
              "<matplotlib.image.AxesImage at 0x7fec259020f0>"
            ]
          },
          "metadata": {
            "tags": []
          },
          "execution_count": 35
        },
        {
          "output_type": "display_data",
          "data": {
            "image/png": "[encoded data removed]",
            "text/plain": [
              "<Figure size 432x288 with 1 Axes>"
            ]
          },
          "metadata": {
            "tags": []
          }
        }
      ]
    },
    {
      "cell_type": "markdown",
      "metadata": {
        "id": "Jn_wP715F6m0",
        "colab_type": "text"
      },
      "source": [
        "**What do the array values mean?**\n",
        "* Each value leads to a colour for the pixel that the array value represents. Actualy what colour is displayed depends somewhat on the number of colour channels the array has. We have only one channel present in this dataset. This is grayscale channel. Typically, we will see three channels for colour images, with each channel representing one of Red, Green, Blue. A value in one channel will display a different colour than a value in another channel. \n",
        "* See the tutorials [here](https://www.w3schools.com/colors/default.asp) for more detail on how the values within a channel map to a colour.\n",
        "* Its worth noting here that there are typically 256 values (0 - 255) available in each channel, making a total combination of c. 16.8m colours available per a three channel image!\n",
        "* As per the previous notebook, we will rescale the arrays to between 0 and 1. This needs to happen in order to maximise the success of the training. \n",
        "\n",
        "**What about images of different shapes?**\n",
        "* The size of an image can and does vary. In this case, we have small image of 28 x 28 pixels (or 28, 28, 1) given we have one channel. This was the same for the previous dataset and it makes it easy to train models. \n",
        "* Outside of introductory tutorials, It is likely that you will see much larger images, meaning many more pixels and therefore larger arrays to train and learn representations on. This will make the models larger and training more involved. \n",
        "* One final thing to note is that Deep Learning models always require an array of the same size to be passed to it. This means that images which differ in size need to be preprocessed so that they are the same size before being passed to the model. "
      ]
    },
    {
      "cell_type": "code",
      "metadata": {
        "id": "ukmTUss2F7yh",
        "colab_type": "code",
        "outputId": "e8d5f6d7-5155-41ef-e331-ccee12469d3d",
        "colab": {
          "base_uri": "https://localhost:8080/",
          "height": 68
        }
      },
      "source": [
        "# we now need to reshape the data to add a colour channel \n",
        "train_images = train_images.reshape((60000, 28, 28, 1))\n",
        "test_images = test_images.reshape((10000, 28, 28, 1))\n",
        "# we can view the new shape \n",
        "print('\\n train image shape')\n",
        "print(train_images.shape)\n",
        "# normalize the data \n",
        "train_images, test_images = train_images / 255.0, test_images / 255.0"
      ],
      "execution_count": 0,
      "outputs": [
        {
          "output_type": "stream",
          "text": [
            "\n",
            " train image shape\n",
            "(60000, 28, 28, 1)\n"
          ],
          "name": "stdout"
        }
      ]
    },
    {
      "cell_type": "markdown",
      "metadata": {
        "id": "AelRP-nHIbcA",
        "colab_type": "text"
      },
      "source": [
        "**What else can I learn to improve my knowledge?**\n",
        "* Images have to be fed into the model in the same shape each time. This requires pre-processing.\n",
        "* Prior to feed images into a model, we can also change the image in certain ways to add noise and variety to the training data. This should mean that the model is more robust and better at generalizing to unseen data. \n",
        "\n",
        "## 3. Model Building \n",
        "### 3.1 Convolutional Models\n",
        "\n",
        "**How do we build a convolutional neural network?**\n",
        "* A convolutional neural network (CNN) contains both dense and convolutional layers. The convolutional layers form the **`base`** of the model and extracts representation from the image. The dense layers form the **`head`** of the model and takes this represetation and maps it to our output classes\n",
        "* A convolutional layer takes our image as it (subject to any preprocessing to get it in a standard shape or augmented to add noise and variety to the dataset) - that is, we do not need to flatten the image into a **`1D`** array. We flatten the array after our final convolutional layer and prior to passing our input to the dense layer.\n",
        "\n",
        "**Why use a convolutional layer?**\n",
        "* A convolution better encodes the key information in an image than other types of layers. Their application to computer vision resulted in a marked improvement in what was state of the art. That's why we use them. \n",
        "\n",
        "**What is a convolutional layer?**\n",
        "* Simply, a convolutional layer is a layer that performs a mathematical operations known as convolutional on the input data.  In contrast, a dense layer perfornms matrix multiplicaiton on its inputs. \n",
        "* Each convolutional layer have a user-defined set of filters (or windows) that we pass over the image. We define the number and size of filters, although they are typically a 3 x 3 matrix. \n",
        "* This filter contains a set of weights that will be learned by the model and which are used to multiply the input values and return a new value in the layer's output. Its these filters that contain the learning of the convolutional layers of the model, whose weights will be updated as we train so that they are more and more able to extract key information from the image.\n",
        "* The filter is applied to all the image channels as it passes over each pixel location such that it will look at a specific row and column index position and all the array values available at that index:\n",
        "$$(row, column, :)$$\n",
        "* We won't go in to *how* convolutional works here, but see the cell at the end of this section for links that do explain how it works. \n",
        "\n",
        "**So what does a convolutional layer return?**\n",
        "* A convolutional layer returns an output array of the same (row, column) shape as the input array, but with one channel only. \n",
        "* It tends to be the case that convolutional layer is paired with a **`pooling layer`**. We won't cover these in any detail, but its sufficient to know that a pooling layer tries to extract the key information from the convolutional layer while typically halving its size. \n",
        "* The diagram below set this out. \n",
        "\n",
        "![alt text](https://github.com/DanRHowarth/Tensorflow-2.0/blob/master/Notebook%202%20Convolution%20and%20Pooling%20Layers.png?raw=true)\n"
      ]
    },
    {
      "cell_type": "code",
      "metadata": {
        "id": "euQS8p13Ie1e",
        "colab_type": "code",
        "colab": {}
      },
      "source": [
        "## lets build our convolutional base\n",
        "## we use the Sequential API but use .add() rather than passing the layers in as a list\n",
        "\n",
        "# build model using sequential \n",
        "model = models.Sequential() \n",
        "# start adding layers. input shape has been defined, including the channel value we added via reshape earlier\n",
        "model.add(layers.Conv2D(32, (3, 3), activation='relu', input_shape=(28, 28, 1)))\n",
        "# max pooling layers\n",
        "model.add(layers.MaxPooling2D((2,2)))\n",
        "# this is then repeated to build \n",
        "model.add(layers.Conv2D(64, (3, 3), activation='relu'))\n",
        "# max pooling layers\n",
        "model.add(layers.MaxPooling2D((2,2)))\n",
        "# additional convolutional layer \n",
        "model.add(layers.Conv2D(64, (3, 3), activation='relu'))"
      ],
      "execution_count": 0,
      "outputs": []
    },
    {
      "cell_type": "code",
      "metadata": {
        "id": "gUKXQr7JJ2Df",
        "colab_type": "code",
        "outputId": "7eefd77c-858a-4504-8784-9a9392ea169c",
        "colab": {
          "base_uri": "https://localhost:8080/",
          "height": 323
        }
      },
      "source": [
        "# print model \n",
        "model.summary()"
      ],
      "execution_count": 0,
      "outputs": [
        {
          "output_type": "stream",
          "text": [
            "Model: \"sequential_3\"\n",
            "_________________________________________________________________\n",
            "Layer (type)                 Output Shape              Param #   \n",
            "=================================================================\n",
            "conv2d_4 (Conv2D)            (None, 26, 26, 32)        320       \n",
            "_________________________________________________________________\n",
            "max_pooling2d_2 (MaxPooling2 (None, 13, 13, 32)        0         \n",
            "_________________________________________________________________\n",
            "conv2d_5 (Conv2D)            (None, 11, 11, 64)        18496     \n",
            "_________________________________________________________________\n",
            "max_pooling2d_3 (MaxPooling2 (None, 5, 5, 64)          0         \n",
            "_________________________________________________________________\n",
            "conv2d_6 (Conv2D)            (None, 3, 3, 64)          36928     \n",
            "=================================================================\n",
            "Total params: 55,744\n",
            "Trainable params: 55,744\n",
            "Non-trainable params: 0\n",
            "_________________________________________________________________\n"
          ],
          "name": "stdout"
        }
      ]
    },
    {
      "cell_type": "markdown",
      "metadata": {
        "id": "jNfUgqssKJta",
        "colab_type": "text"
      },
      "source": [
        "**How do we get to the parameter count?**\n",
        "* The parameters of a convolutional layer are defined by:\n",
        "$$((filter\\ height\\ \\times filter\\ width)\\ +\\ bias\\ term)\\ \\times number\\ of\\ filters$$\n",
        "\n",
        "* The bias term is a value of 1 so the number of parameters for the first convolutional layer is:\n",
        "$$((3 \\times 3)+ 1)\\ \\times 32 = 320$$\n",
        "\n",
        "\n",
        "\n",
        "\n",
        "\n",
        "**What about the classificaiton layer?**\n",
        "* As we said above, a convolutional based needs a classification layer to take the information extracted from an image and map it to output classes. \n",
        "* We take the final output shape of the Convolutional layer and flatten it to a 1D array. We then define our output layer, which in this instance is a layer of 10 with a softmax activation function. We have also added an additional layer to provide additional parameters between the flattened and output layer. "
      ]
    },
    {
      "cell_type": "code",
      "metadata": {
        "id": "hdeu9gZrKYQH",
        "colab_type": "code",
        "outputId": "5600602e-8191-4590-c2cc-5534711e1799",
        "colab": {
          "base_uri": "https://localhost:8080/",
          "height": 425
        }
      },
      "source": [
        "# flatten \n",
        "model.add(layers.Flatten())\n",
        "# add a fully connected layer\n",
        "model.add(layers.Dense(64, activation='relu'))\n",
        "# add the output layer, a fully connected layer with a softmax activation\n",
        "model.add(layers.Dense(10, activation='softmax'))\n",
        "model.summary()\n"
      ],
      "execution_count": 0,
      "outputs": [
        {
          "output_type": "stream",
          "text": [
            "Model: \"sequential_3\"\n",
            "_________________________________________________________________\n",
            "Layer (type)                 Output Shape              Param #   \n",
            "=================================================================\n",
            "conv2d_4 (Conv2D)            (None, 26, 26, 32)        320       \n",
            "_________________________________________________________________\n",
            "max_pooling2d_2 (MaxPooling2 (None, 13, 13, 32)        0         \n",
            "_________________________________________________________________\n",
            "conv2d_5 (Conv2D)            (None, 11, 11, 64)        18496     \n",
            "_________________________________________________________________\n",
            "max_pooling2d_3 (MaxPooling2 (None, 5, 5, 64)          0         \n",
            "_________________________________________________________________\n",
            "conv2d_6 (Conv2D)            (None, 3, 3, 64)          36928     \n",
            "_________________________________________________________________\n",
            "flatten_1 (Flatten)          (None, 576)               0         \n",
            "_________________________________________________________________\n",
            "dense_2 (Dense)              (None, 64)                36928     \n",
            "_________________________________________________________________\n",
            "dense_3 (Dense)              (None, 10)                650       \n",
            "=================================================================\n",
            "Total params: 93,322\n",
            "Trainable params: 93,322\n",
            "Non-trainable params: 0\n",
            "_________________________________________________________________\n"
          ],
          "name": "stdout"
        }
      ]
    },
    {
      "cell_type": "markdown",
      "metadata": {
        "id": "sxz0SEyCKtH2",
        "colab_type": "text"
      },
      "source": [
        "**What else can I learn to improve my knowledge?**\n",
        "* Understand more about convolution:\n",
        "  * There are a lot of good articles out there too. For example, [Cezanne Comacho](https://cezannec.github.io/Convolutional_Neural_Networks/), and [Chris Olah](https://colah.github.io/posts/2014-07-Conv-Nets-Modular/) all provide a good understanding of how convolution works.\n",
        "  * For the maths of convolution, have a look at [this paper](https://arxiv.org/pdf/1603.07285.pdf).\n",
        "\n",
        "\n",
        "## 4. Training \n",
        "### 4.1 Validation Sets, Batch Sizes and Learning Rates\n",
        "\n",
        "**What will we cover now?**\n",
        "* We will cover more concepts around training the model: the purpose of a **`validation set;`** **`overfitting`**; and **`regularization`**. We will add in a validation and look for overfitting in our model performance. We won't add any regularization methods \n",
        "* We will also cover **`learning rates`** and  **`batch sizes`**. \n",
        "\n",
        "**What is validation set?**\n",
        "* A validation set is a dataset that is kept aside from the training dataset. Tpyically, at the end of each epoch, the trained model is passed the validation set in inference model, and the loss and other metrics recorded. The model is then trained again for another epoch, and at the end of this epoch is passed the validation set in inference mode. \n",
        "* This allows us to see during training how the model performs on unseen data and also whether the model is **`under- or over-fitting`**. \n",
        "\n",
        "**How do we create a validation set?**\n",
        "* We can set aside some data from our training set prior to beginning training, store it as a variable (or a set of (data, label) variables) and pass this to the validation_data argument in model.fit()\n",
        "* We can use the validation_split parameter in model.fit() to specify the fraction of the data to be used as training data.\n",
        "\n",
        "**What is under and overfitting?**\n",
        "* When we train our models, they can sometimes struggle to generalise well. This means that they do not perform well on unseen data. \n",
        "* A model that overfits will get better and better results (loss and metrics) on the training data and decreasing results on the validation set. This is because it is fitting too much to the specific characteristics of the training data, which may not be present in the unseen data.\n",
        "* A model that underfits does not perform well on either the training or validation data. \n",
        "* By incluidng a validation set,  we can monitor how well the model performs, and if the performance on the training and validation sets diverge too much then we can start to conclude that something need to be changed. \n",
        "\n",
        "**What can we do to address this?**\n",
        "* We can use **`regularization`** to help prevent overfitting.\n",
        "* We can regularize our model and its training in a number of ways, and to some extent they all penalize actions that may cause the model to overfit to the trianing data:\n",
        "  * When building a model, we add a **`dropout`** layer. This turns off a user defined number of outputs from a layer r during training and helps prevents the model becoming reliant on certain paths through the model.\n",
        "  *  During training, **`weight regularization`**. This penalises large weights (our learned parameters) in the model. Larger weights will create a larger loss value that the mdoel will then use to update the weights. A model with fewer larger weights, i.e. with the learning more evenly spread across the nodes, will have a better chance of generalizing well.   \n",
        "\n",
        "**What is a batch_size?**\n",
        "* A batch size is the number of samples the model trains on before performing a backward pass (model update). The number of batches in an epoch is equal to:\n",
        "$$ \\frac{number\\ of\\ sample\\ in\\ a\\ training\\ set}{batch\\ size}$$\n",
        "* We can set the batch size and choose to see the model performance as trains per batch size (using a parameter in **`model.fit()`**). \n",
        "\n",
        "**What is the learning rate?**\n",
        "* The learning rate controls the size of the update to the learnable parameters (weights and biases) during the backward pass, based on the loss of the model.\n",
        "* It is a parameter of the optimizer, set at the **`model.compile()`** stage, and can be set by the user. The trick is to set the learning to update the weights sufficiently to change performance, but not update them too much so that the model weights swing between higher and lower values without settling on a path to the best model.\n",
        "* There are various strategies for mitigating this problem that are worth investigating."
      ]
    },
    {
      "cell_type": "code",
      "metadata": {
        "id": "2VAnmnIsKuXD",
        "colab_type": "code",
        "outputId": "c6038fa9-87df-492e-cb44-48ef0d87ea16",
        "colab": {
          "base_uri": "https://localhost:8080/",
          "height": 374
        }
      },
      "source": [
        "## Lets compile the model again\n",
        "model.compile(optimizer='adam',\n",
        "              \n",
        "              loss='sparse_categorical_crossentropy',\n",
        "              \n",
        "              metrics=['accuracy'])\n",
        "\n",
        "## and build a training loop\n",
        "\n",
        "history = model.fit(train_images, train_labels, \n",
        "          # add batch size\n",
        "          batch_size = 32,\n",
        "          # epochs           \n",
        "          epochs = 10,\n",
        "          # and add a validation set \n",
        "          validation_split=0.2)"
      ],
      "execution_count": 0,
      "outputs": [
        {
          "output_type": "stream",
          "text": [
            "Train on 48000 samples, validate on 12000 samples\n",
            "Epoch 1/10\n",
            "48000/48000 [==============================] - 53s 1ms/sample - loss: 0.1669 - accuracy: 0.9483 - val_loss: 0.0586 - val_accuracy: 0.9822\n",
            "Epoch 2/10\n",
            "48000/48000 [==============================] - 54s 1ms/sample - loss: 0.0481 - accuracy: 0.9846 - val_loss: 0.0529 - val_accuracy: 0.9841\n",
            "Epoch 3/10\n",
            "48000/48000 [==============================] - 52s 1ms/sample - loss: 0.0356 - accuracy: 0.9888 - val_loss: 0.0447 - val_accuracy: 0.9862\n",
            "Epoch 4/10\n",
            "48000/48000 [==============================] - 53s 1ms/sample - loss: 0.0265 - accuracy: 0.9915 - val_loss: 0.0311 - val_accuracy: 0.9908\n",
            "Epoch 5/10\n",
            "48000/48000 [==============================] - 53s 1ms/sample - loss: 0.0214 - accuracy: 0.9928 - val_loss: 0.0378 - val_accuracy: 0.9888\n",
            "Epoch 6/10\n",
            "48000/48000 [==============================] - 53s 1ms/sample - loss: 0.0158 - accuracy: 0.9950 - val_loss: 0.0415 - val_accuracy: 0.9876\n",
            "Epoch 7/10\n",
            "48000/48000 [==============================] - 53s 1ms/sample - loss: 0.0137 - accuracy: 0.9957 - val_loss: 0.0389 - val_accuracy: 0.9899\n",
            "Epoch 8/10\n",
            "48000/48000 [==============================] - 54s 1ms/sample - loss: 0.0115 - accuracy: 0.9964 - val_loss: 0.0375 - val_accuracy: 0.9899\n",
            "Epoch 9/10\n",
            "48000/48000 [==============================] - 52s 1ms/sample - loss: 0.0102 - accuracy: 0.9968 - val_loss: 0.0421 - val_accuracy: 0.9910\n",
            "Epoch 10/10\n",
            "48000/48000 [==============================] - 52s 1ms/sample - loss: 0.0094 - accuracy: 0.9967 - val_loss: 0.0360 - val_accuracy: 0.9908\n"
          ],
          "name": "stdout"
        }
      ]
    },
    {
      "cell_type": "markdown",
      "metadata": {
        "id": "u_tN8N86SNZg",
        "colab_type": "text"
      },
      "source": [
        "Accuracy is 99% on validation set. "
      ]
    },
    {
      "cell_type": "code",
      "metadata": {
        "id": "iWSnZF8TSS-X",
        "colab_type": "code",
        "outputId": "af0d86e0-1ac9-4a69-df01-c956aec3eb33",
        "colab": {
          "base_uri": "https://localhost:8080/",
          "height": 34
        }
      },
      "source": [
        "# plot loss and accuracy\n",
        "# if we print out our history object we can see that it now includes validation values\n",
        "history_dict = history.history\n",
        "history_dict.keys()"
      ],
      "execution_count": 0,
      "outputs": [
        {
          "output_type": "execute_result",
          "data": {
            "text/plain": [
              "dict_keys(['loss', 'accuracy', 'val_loss', 'val_accuracy'])"
            ]
          },
          "metadata": {
            "tags": []
          },
          "execution_count": 41
        }
      ]
    },
    {
      "cell_type": "code",
      "metadata": {
        "id": "waUHLWvIS6X0",
        "colab_type": "code",
        "outputId": "c87e08a7-d110-441b-a5b3-6ec5770188f7",
        "colab": {
          "base_uri": "https://localhost:8080/",
          "height": 204
        }
      },
      "source": [
        "# pass to dataframe\n",
        "import pandas as pd\n",
        "\n",
        "# pass history to dataframe object\n",
        "history_df = pd.DataFrame(history_dict)\n",
        "\n",
        "print(history_df)"
      ],
      "execution_count": 0,
      "outputs": [
        {
          "output_type": "stream",
          "text": [
            "       loss  accuracy  val_loss  val_accuracy\n",
            "0  0.166867  0.948271  0.058602      0.982167\n",
            "1  0.048083  0.984563  0.052934      0.984083\n",
            "2  0.035623  0.988833  0.044679      0.986250\n",
            "3  0.026467  0.991458  0.031059      0.990833\n",
            "4  0.021376  0.992813  0.037821      0.988833\n",
            "5  0.015825  0.995021  0.041481      0.987583\n",
            "6  0.013664  0.995687  0.038927      0.989917\n",
            "7  0.011536  0.996396  0.037506      0.989917\n",
            "8  0.010196  0.996833  0.042076      0.991000\n",
            "9  0.009436  0.996708  0.035985      0.990750\n"
          ],
          "name": "stdout"
        }
      ]
    },
    {
      "cell_type": "code",
      "metadata": {
        "id": "kmBoRHsOTcA3",
        "colab_type": "code",
        "outputId": "3abe8140-db6a-4c1c-d9a6-6d7dd43cccd5",
        "colab": {
          "base_uri": "https://localhost:8080/",
          "height": 324
        }
      },
      "source": [
        "# we can use plot functionality of pandas to quickly plot our results\n",
        "history_df.plot(figsize=(8,5))\n",
        "# tailor our plot. Show the grid\n",
        "plt.grid(True)\n",
        "# set the vertical range to [0 -1]\n",
        "plt.gca().set_ylim(0, 1)\n",
        "# display plot\n",
        "plt.show()"
      ],
      "execution_count": 0,
      "outputs": [
        {
          "output_type": "display_data",
          "data": {
            "image/png": "[encoded data removed]",
            "text/plain": [
              "<Figure size 576x360 with 1 Axes>"
            ]
          },
          "metadata": {
            "tags": []
          }
        }
      ]
    },
    {
      "cell_type": "markdown",
      "metadata": {
        "id": "j98UlrK8Tjh6",
        "colab_type": "text"
      },
      "source": [
        "### 4.4 Saving Models\n",
        "\n",
        "**What do we mean by *saving a model*?**\n",
        "* We can save our progress as we train our models. We can save our progress in two ways:\n",
        "  * *during training*, so that our models are saved after each epoch (or, after an epoch that shows model improvement). \n",
        "  * *after training*, so that our model has completed its training before we save it\n",
        "* Of course, we can opt to save the model both during *and* after training. \n",
        "* Using `tensorflow 2.0`, we can opt to save the model either manually, i.e. after the model has trained, or by using callbacks - i.e. incorporating saving into the training process. \n",
        "  \n",
        "**What are we saving?**\n",
        "* We can save the model weights only, the full model (including the weights and the architecture), and the optimizer state.\n",
        "* Its useful to remember that when we are training a model, the parameters we are updating during the training process are the weights at each layer of the model. Our aim is to train on (data, labels) pairs that mean we can predict effectively on unseen data using the weights we have trained. So it is these weights that are saved, optionally along with the model architecture. \n",
        "* Optimizer state. We haven't focussed too much on optimizers, but remember that this is the way that the model weights are updated. The size of the update is set by the (user defined) **`learning rate`**. When we save a model we can therefore save the **`optimizer-state`**, meaning we can continue training a loaded model from the state it was in when the model was saved.  \n",
        "\n",
        "**Why save a model?**\n",
        "* So that we can reuse it later. This could be to deploy it and use it in inference mode, or to continue training from the point at which we stopped. \n",
        "\n",
        "**Once we have saved a model, how do we use it again?**\n",
        "* Once we have saved our weights and/or model, we can restore the model in a couple of different ways. If we decide to save the weights only, we need to create an identical model to the one that was used to create our weights. If we saved both the model and weights, we can load this entire model.\n",
        "\n",
        "**What are the ways of doing it?**\n",
        "* In this tutorial (notebook 2), we will look at saving and loading model weights and model + weight manually, i.e. after training. \n",
        "* In notebook 3, we will look at how to save during and after training using callbacks. \n",
        "* We will use the Keras API. Note there are some other ways to save the model covered in the [tensorflow 2.0 tutorials](https://www.tensorflow.org/beta/tutorials/keras/save_and_restore_models) provided by Google.\n",
        "\n"
      ]
    },
    {
      "cell_type": "code",
      "metadata": {
        "id": "Skh_Q4e1TqTy",
        "colab_type": "code",
        "colab": {}
      },
      "source": [
        "## lets go through the steps of saving the model weights only\n",
        "\n",
        "# here we define a location for the weights to be saved \n",
        "model.save_weights('./checkpoints/my_checkpoint')"
      ],
      "execution_count": 0,
      "outputs": []
    },
    {
      "cell_type": "code",
      "metadata": {
        "id": "P8iEdn6PUuRk",
        "colab_type": "code",
        "colab": {}
      },
      "source": [
        "# to load the weights we need to create a new instance of the same model architecture \n",
        "new_instance = model"
      ],
      "execution_count": 0,
      "outputs": []
    },
    {
      "cell_type": "code",
      "metadata": {
        "id": "00kcN73GUzRO",
        "colab_type": "code",
        "outputId": "b872e49d-7562-4586-bdcd-2cfc8d209606",
        "colab": {
          "base_uri": "https://localhost:8080/",
          "height": 34
        }
      },
      "source": [
        "# then we can load the weights \n",
        "new_instance.load_weights('./checkpoints/my_checkpoint')"
      ],
      "execution_count": 0,
      "outputs": [
        {
          "output_type": "execute_result",
          "data": {
            "text/plain": [
              "<tensorflow.python.training.tracking.util.CheckpointLoadStatus at 0x7fec259f1fd0>"
            ]
          },
          "metadata": {
            "tags": []
          },
          "execution_count": 46
        }
      ]
    },
    {
      "cell_type": "code",
      "metadata": {
        "id": "oAZXFXDwU2nQ",
        "colab_type": "code",
        "outputId": "71e94c94-7e2d-4623-e995-27fc2e0de040",
        "colab": {
          "base_uri": "https://localhost:8080/",
          "height": 153
        }
      },
      "source": [
        "new_instance.weights[0][0][0][0]"
      ],
      "execution_count": 0,
      "outputs": [
        {
          "output_type": "execute_result",
          "data": {
            "text/plain": [
              "<tf.Tensor: shape=(32,), dtype=float32, numpy=\n",
              "array([ 0.04556673, -0.26932698, -0.03634606, -0.31952682,  0.0472606 ,\n",
              "       -0.00215081,  0.08703726,  0.03582785, -0.29666814,  0.00171104,\n",
              "        0.08579903, -0.32776594, -0.2396187 ,  0.12862141, -0.00797031,\n",
              "        0.2182629 , -0.05623506, -0.28996643,  0.03816007, -0.03198093,\n",
              "        0.22306302,  0.26011452, -0.1934522 ,  0.05250368, -0.01064176,\n",
              "       -0.01398766, -0.06618564,  0.1420222 ,  0.07068293,  0.07796174,\n",
              "       -0.04445089,  0.26675996], dtype=float32)>"
            ]
          },
          "metadata": {
            "tags": []
          },
          "execution_count": 47
        }
      ]
    },
    {
      "cell_type": "markdown",
      "metadata": {
        "id": "do9vQVKeU5XZ",
        "colab_type": "text"
      },
      "source": [
        "#### 4.3.2 Saving and Loading an entire model"
      ]
    },
    {
      "cell_type": "code",
      "metadata": {
        "id": "eXn0_RkxU7rv",
        "colab_type": "code",
        "outputId": "fb88cea4-7833-409c-922e-2023f6685b56",
        "colab": {
          "base_uri": "https://localhost:8080/",
          "height": 425
        }
      },
      "source": [
        "# save model to HDF5 format\n",
        "model.save('my_model.h5')\n",
        "\n",
        "# recreate the saved model, including weights and optimizer \n",
        "new_model = keras.models.load_model('my_model.h5')\n",
        "\n",
        "# view summary\n",
        "new_model.summary()"
      ],
      "execution_count": 0,
      "outputs": [
        {
          "output_type": "stream",
          "text": [
            "Model: \"sequential_3\"\n",
            "_________________________________________________________________\n",
            "Layer (type)                 Output Shape              Param #   \n",
            "=================================================================\n",
            "conv2d_4 (Conv2D)            (None, 26, 26, 32)        320       \n",
            "_________________________________________________________________\n",
            "max_pooling2d_2 (MaxPooling2 (None, 13, 13, 32)        0         \n",
            "_________________________________________________________________\n",
            "conv2d_5 (Conv2D)            (None, 11, 11, 64)        18496     \n",
            "_________________________________________________________________\n",
            "max_pooling2d_3 (MaxPooling2 (None, 5, 5, 64)          0         \n",
            "_________________________________________________________________\n",
            "conv2d_6 (Conv2D)            (None, 3, 3, 64)          36928     \n",
            "_________________________________________________________________\n",
            "flatten_1 (Flatten)          (None, 576)               0         \n",
            "_________________________________________________________________\n",
            "dense_2 (Dense)              (None, 64)                36928     \n",
            "_________________________________________________________________\n",
            "dense_3 (Dense)              (None, 10)                650       \n",
            "=================================================================\n",
            "Total params: 93,322\n",
            "Trainable params: 93,322\n",
            "Non-trainable params: 0\n",
            "_________________________________________________________________\n"
          ],
          "name": "stdout"
        }
      ]
    },
    {
      "cell_type": "markdown",
      "metadata": {
        "id": "qoMj8FBNWDEq",
        "colab_type": "text"
      },
      "source": [
        "###So, what did we cover in this section?\n",
        "* Validation sets\n",
        "* Overfitting \n",
        "* Regularization\n",
        "* Learning Rates, Batch Sizes\n",
        "* Saving Models\n",
        "\n",
        "**How does it add to our existing knowledge?**\n",
        "* We have built on our undertanding of the training loop by adding different aspects to it such as batch size and validation set, as well as getting a feel for what we need to guard against in training models (e.g. overfitting)\n",
        "\n",
        "**What else can I learn to improve my knowledge?**\n",
        "* In the next notebook, we will use a callback to save a model as it trains. \n",
        "* Overfitting - there is much more to this topic. There is a good treatment of this subject in [Introduction to Statistical Learning](http://www-bcf.usc.edu/~gareth/ISL/). \n",
        "\n",
        "##5. Evaluation and Inference "
      ]
    },
    {
      "cell_type": "code",
      "metadata": {
        "id": "9ytH_42kWErE",
        "colab_type": "code",
        "outputId": "0c3f8f82-b6ac-4132-9d9c-ce48044a6d29",
        "colab": {
          "base_uri": "https://localhost:8080/",
          "height": 34
        }
      },
      "source": [
        "## using the model we have just saved, evaluate it on the test set \n",
        "## if you are stuck, use some of the code from notebook 1\n",
        "# \n",
        "test_loss, test_acc = model.evaluate(test_images, test_labels)\n",
        "\n",
        "## if we had saved our weights or model and loaded them up, we would use the model\n",
        "## variable name we had saved here"
      ],
      "execution_count": 0,
      "outputs": [
        {
          "output_type": "stream",
          "text": [
            "10000/10000 [==============================] - 4s 379us/sample - loss: 0.0325 - accuracy: 0.9912\n"
          ],
          "name": "stdout"
        }
      ]
    },
    {
      "cell_type": "code",
      "metadata": {
        "id": "KJEpaA29NnI3",
        "colab_type": "code",
        "outputId": "bcd9cb9a-6a06-4812-d9e8-4082d8b5dd21",
        "colab": {
          "base_uri": "https://localhost:8080/",
          "height": 51
        }
      },
      "source": [
        "# show how the model performs in inference mode. Again, use some code from previous notebook\n",
        "print(test_acc)\n",
        "print(test_loss)"
      ],
      "execution_count": 0,
      "outputs": [
        {
          "output_type": "stream",
          "text": [
            "0.9912\n",
            "0.032465098444359686\n"
          ],
          "name": "stdout"
        }
      ]
    },
    {
      "cell_type": "markdown",
      "metadata": {
        "id": "Msd20ulfx5K7",
        "colab_type": "text"
      },
      "source": [
        "## 6. Summary\n",
        "\n",
        "![alt text](https://github.com/DanRHowarth/Tensorflow-2.0/blob/master/Notebook%202%20-%20Summary_final.png?raw=true)"
      ]
    },
    {
      "cell_type": "markdown",
      "metadata": {
        "id": "qyNa94NH5ytp",
        "colab_type": "text"
      },
      "source": [
        "# 8. Excercises"
      ]
    },
    {
      "cell_type": "code",
      "metadata": {
        "id": "_OsTsB0L5tnK",
        "colab_type": "code",
        "colab": {}
      },
      "source": [
        "## build another convolution model\n",
        "## add more layers, vary their size and look up dropout and how to add that\n",
        "\n",
        "\n",
        "## build our convolutional base\n",
        "## use the Sequential API but use .add() rather than passing the layers in as a list\n",
        "\n",
        "# build model using sequential \n",
        "model1 = models.Sequential() \n",
        "# start adding layers. input shape has been defined, including the channel value we added via reshape earlier\n",
        "model1.add(layers.Conv2D(32, (3, 3), activation='relu', input_shape=(28, 28, 1)))\n",
        "model1.add(layers.Conv2D(64, (3, 3), activation='relu'))\n",
        "# max pooling layers\n",
        "model1.add(layers.MaxPooling2D((2,2)))\n",
        "# this is then repeated to build \n",
        "model1.add(layers.Conv2D(64, (3, 3), activation='relu'))\n",
        "model1.add(layers.MaxPooling2D((2,2)))\n",
        "model1.add(layers.Dropout(0.25))\n",
        "model1.add(layers.Flatten())\n",
        "# additional layer \n",
        "model1.add(layers.Dense(128, activation='relu'))\n",
        "model1.add(layers.Dropout(0.5))\n",
        "model1.add(layers.Dense(10, activation='softmax'))"
      ],
      "execution_count": 0,
      "outputs": []
    },
    {
      "cell_type": "code",
      "metadata": {
        "id": "bu48SMP5_Z1L",
        "colab_type": "code",
        "outputId": "5f0da255-55bb-40e9-8865-7b140673c015",
        "colab": {
          "base_uri": "https://localhost:8080/",
          "height": 493
        }
      },
      "source": [
        "model1.summary()"
      ],
      "execution_count": 0,
      "outputs": [
        {
          "output_type": "stream",
          "text": [
            "Model: \"sequential_8\"\n",
            "_________________________________________________________________\n",
            "Layer (type)                 Output Shape              Param #   \n",
            "=================================================================\n",
            "conv2d_19 (Conv2D)           (None, 26, 26, 32)        320       \n",
            "_________________________________________________________________\n",
            "conv2d_20 (Conv2D)           (None, 24, 24, 64)        18496     \n",
            "_________________________________________________________________\n",
            "max_pooling2d_10 (MaxPooling (None, 12, 12, 64)        0         \n",
            "_________________________________________________________________\n",
            "conv2d_21 (Conv2D)           (None, 10, 10, 64)        36928     \n",
            "_________________________________________________________________\n",
            "max_pooling2d_11 (MaxPooling (None, 5, 5, 64)          0         \n",
            "_________________________________________________________________\n",
            "dropout_3 (Dropout)          (None, 5, 5, 64)          0         \n",
            "_________________________________________________________________\n",
            "flatten_4 (Flatten)          (None, 1600)              0         \n",
            "_________________________________________________________________\n",
            "dense_6 (Dense)              (None, 128)               204928    \n",
            "_________________________________________________________________\n",
            "dropout_4 (Dropout)          (None, 128)               0         \n",
            "_________________________________________________________________\n",
            "dense_7 (Dense)              (None, 10)                1290      \n",
            "=================================================================\n",
            "Total params: 261,962\n",
            "Trainable params: 261,962\n",
            "Non-trainable params: 0\n",
            "_________________________________________________________________\n"
          ],
          "name": "stdout"
        }
      ]
    },
    {
      "cell_type": "code",
      "metadata": {
        "id": "-VdegDEh_dfM",
        "colab_type": "code",
        "outputId": "da0fee63-17b8-47f8-d1ef-c12b35ec6677",
        "colab": {
          "base_uri": "https://localhost:8080/",
          "height": 459
        }
      },
      "source": [
        "#compile the model\n",
        "model1.compile(loss=keras.losses.sparse_categorical_crossentropy,\n",
        "              optimizer=keras.optimizers.Adam(),\n",
        "              metrics=['accuracy'])\n",
        "\n",
        "#fit the model\n",
        "history1 = model1.fit(train_images, train_labels,\n",
        "          batch_size= 32,\n",
        "          epochs=10,\n",
        "          validation_split=0.3)\n",
        "\n",
        "print(\"\\n\")\n",
        "\n",
        "## evaluate the model and use it inference mode \n",
        "test_loss1, test_acc1 = model1.evaluate(test_images, test_labels)\n",
        "print(test_acc1)\n",
        "print(test_loss1)\n",
        "\n",
        "## save the model \n",
        "model1.save('my_model1.h5')"
      ],
      "execution_count": 0,
      "outputs": [
        {
          "output_type": "stream",
          "text": [
            "Train on 42000 samples, validate on 18000 samples\n",
            "Epoch 1/10\n",
            "42000/42000 [==============================] - 143s 3ms/sample - loss: 0.0247 - accuracy: 0.9920 - val_loss: 0.0354 - val_accuracy: 0.9905\n",
            "Epoch 2/10\n",
            "42000/42000 [==============================] - 143s 3ms/sample - loss: 0.0239 - accuracy: 0.9923 - val_loss: 0.0344 - val_accuracy: 0.9915\n",
            "Epoch 3/10\n",
            "42000/42000 [==============================] - 143s 3ms/sample - loss: 0.0238 - accuracy: 0.9925 - val_loss: 0.0288 - val_accuracy: 0.9932\n",
            "Epoch 4/10\n",
            "42000/42000 [==============================] - 142s 3ms/sample - loss: 0.0202 - accuracy: 0.9935 - val_loss: 0.0299 - val_accuracy: 0.9929\n",
            "Epoch 5/10\n",
            "42000/42000 [==============================] - 142s 3ms/sample - loss: 0.0193 - accuracy: 0.9939 - val_loss: 0.0382 - val_accuracy: 0.9916\n",
            "Epoch 6/10\n",
            "42000/42000 [==============================] - 141s 3ms/sample - loss: 0.0200 - accuracy: 0.9938 - val_loss: 0.0368 - val_accuracy: 0.9914\n",
            "Epoch 7/10\n",
            "42000/42000 [==============================] - 141s 3ms/sample - loss: 0.0177 - accuracy: 0.9944 - val_loss: 0.0317 - val_accuracy: 0.9928\n",
            "Epoch 8/10\n",
            "42000/42000 [==============================] - 141s 3ms/sample - loss: 0.0160 - accuracy: 0.9942 - val_loss: 0.0412 - val_accuracy: 0.9913\n",
            "Epoch 9/10\n",
            "42000/42000 [==============================] - 141s 3ms/sample - loss: 0.0181 - accuracy: 0.9939 - val_loss: 0.0370 - val_accuracy: 0.9917\n",
            "Epoch 10/10\n",
            "42000/42000 [==============================] - 141s 3ms/sample - loss: 0.0152 - accuracy: 0.9954 - val_loss: 0.0382 - val_accuracy: 0.9923\n",
            "\n",
            "\n",
            "10000/10000 [==============================] - 9s 876us/sample - loss: 0.0228 - accuracy: 0.9943\n",
            "0.9943\n",
            "0.02278540663353216\n"
          ],
          "name": "stdout"
        }
      ]
    },
    {
      "cell_type": "code",
      "metadata": {
        "id": "q1BfndcADMdV",
        "colab_type": "code",
        "outputId": "17a19460-2472-4fc9-89a5-4f72bd8028ad",
        "colab": {
          "base_uri": "https://localhost:8080/",
          "height": 616
        }
      },
      "source": [
        "# plot loss and accuracy\n",
        "# if we print out our history object we can see that it now includes validation values\n",
        "history_dict1 = history1.history\n",
        "print(history_dict1.keys())\n",
        "\n",
        "print(\"\\n\")\n",
        "history_df1 = pd.DataFrame(history_dict1)\n",
        "print(history_df1)\n",
        "\n",
        "# we can use plot functionality of pandas to quickly plot our results\n",
        "history_df1.plot(figsize=(10,6))\n",
        "# tailor our plot. Show the grid\n",
        "plt.grid(True)\n",
        "# set the vertical range \n",
        "plt.gca().set_ylim(0, 1)\n",
        "# display plot\n",
        "plt.show()\n"
      ],
      "execution_count": 0,
      "outputs": [
        {
          "output_type": "stream",
          "text": [
            "dict_keys(['loss', 'accuracy', 'val_loss', 'val_accuracy'])\n",
            "\n",
            "\n",
            "       loss  accuracy  val_loss  val_accuracy\n",
            "0  0.024676  0.991976  0.035439      0.990500\n",
            "1  0.023860  0.992310  0.034404      0.991500\n",
            "2  0.023785  0.992500  0.028803      0.993222\n",
            "3  0.020168  0.993548  0.029872      0.992944\n",
            "4  0.019315  0.993905  0.038243      0.991556\n",
            "5  0.019964  0.993810  0.036769      0.991389\n",
            "6  0.017682  0.994405  0.031680      0.992833\n",
            "7  0.015954  0.994190  0.041183      0.991333\n",
            "8  0.018124  0.993881  0.037014      0.991667\n",
            "9  0.015186  0.995405  0.038197      0.992278\n"
          ],
          "name": "stdout"
        },
        {
          "output_type": "display_data",
          "data": {
            "image/png": "[encoded data removed]",
            "text/plain": [
              "<Figure size 720x432 with 1 Axes>"
            ]
          },
          "metadata": {
            "tags": []
          }
        }
      ]
    },
    {
      "cell_type": "markdown",
      "metadata": {
        "id": "nTLYrAq0APFh",
        "colab_type": "text"
      },
      "source": [
        "# 9. Further Reading\n",
        "* Work through Chapter 15 - page 517 - of Python Machine Learning for another implementation of a Convolutional Neural Network\n",
        "* Optionally, work through Chapter 14 for a deeper understanding of tensorflow 2.0"
      ]
    }
  ]
}