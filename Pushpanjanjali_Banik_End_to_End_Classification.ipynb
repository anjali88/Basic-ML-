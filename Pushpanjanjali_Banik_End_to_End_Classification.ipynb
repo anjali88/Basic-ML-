{
  "nbformat": 4,
  "nbformat_minor": 0,
  "metadata": {
    "colab": {
      "name": "Pushpanjanjali_Banik_End-to End_Classification.ipynb",
      "provenance": [],
      "authorship_tag": "ABX9TyMT5dJKlO8LD/1hcp0l4XcS",
      "include_colab_link": true
    },
    "kernelspec": {
      "name": "python3",
      "display_name": "Python 3"
    }
  },
  "cells": [
    {
      "cell_type": "markdown",
      "metadata": {
        "id": "view-in-github",
        "colab_type": "text"
      },
      "source": [
        "<a href=\"https://colab.research.google.com/github/anjali88/Basic-ML-/blob/master/Pushpanjanjali_Banik_End_to_End_Classification.ipynb\" target=\"_parent\"><img src=\"https://colab.research.google.com/assets/colab-badge.svg\" alt=\"Open In Colab\"/></a>"
      ]
    },
    {
      "cell_type": "markdown",
      "metadata": {
        "id": "yOln6MiZBsCF",
        "colab_type": "text"
      },
      "source": [
        "**End to End ML Problem: Classification**\n",
        "This is a binary classification problem, as we are training a model to differentiate between two different target classes, or categories. This is different from a mutli-class classification problem, which has more than two classes. The principles are the same, but the algorithms we use and the evaluation metrics can be different deoending on the type of problem.\n",
        "We will tackle this problem using the same ML workflow as before; we will introduce you to the key libraries and algorithms; and we will provide code that you can use yourself. So let's begin wiht a recap of the machine learning workflow before moving on to the libraries we will use and the problem we will solve."
      ]
    },
    {
      "cell_type": "markdown",
      "metadata": {
        "id": "cy6gO2H7oL3E",
        "colab_type": "text"
      },
      "source": [
        "## Machine Learning Workflow\n",
        "\n",
        "![alt text](https://github.com/DanRHowarth/Artificial-Intelligence-Cloud-and-Edge-Implementations/blob/master/Screenshot%202019-11-11%20at%2022.01.44.png?raw=true)\n",
        "\n",
        "### 1. Define the Problem Statement\n",
        "\n",
        "### 2. Analyze and Preprocess Data\n",
        "\n",
        "### 3. Split the data set \n",
        "\n",
        "### 4. Choose the most appropriate baseline algorithm\n",
        "\n",
        "### 5. Train and test your baseline model\n",
        "\n",
        "### 6. Chose quality evaluation metric(s)\n",
        "\n",
        "### 7. Refine our dataset to improve the baseline model\n",
        "\n",
        "### 8. Test alternative models\n",
        "\n",
        "### 9. Choose the best model and optimize it's parameters\n",
        "\n",
        "* numpy, which provides vectorised arrays, and maths, algebra functionality;\n",
        "* pandas, which provides data structures and data analysis tools;\n",
        "* matplotlib, which provides highly customisable plotting functionality (and we also use seaborn, built on top of matplotlib, which is less customisable but can generate charts with less code); and,\n",
        "* scikit-learn, which provides models and tools for most machine learning algorithms"
      ]
    },
    {
      "cell_type": "code",
      "metadata": {
        "id": "8pkornebB-u8",
        "colab_type": "code",
        "colab": {}
      },
      "source": [
        "# import data analysis libraries\n"
      ],
      "execution_count": 0,
      "outputs": []
    }
  ]
}