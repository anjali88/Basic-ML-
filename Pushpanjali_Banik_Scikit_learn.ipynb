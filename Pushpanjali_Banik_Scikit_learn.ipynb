{
  "nbformat": 4,
  "nbformat_minor": 0,
  "metadata": {
    "colab": {
      "name": "Pushpanjali_Banik_Scikit-learn.ipynb",
      "provenance": [],
      "machine_shape": "hm",
      "include_colab_link": true
    },
    "kernelspec": {
      "name": "python3",
      "display_name": "Python 3"
    }
  },
  "cells": [
    {
      "cell_type": "markdown",
      "metadata": {
        "id": "view-in-github",
        "colab_type": "text"
      },
      "source": [
        "<a href=\"https://colab.research.google.com/github/anjali88/Basic-ML-/blob/master/Pushpanjali_Banik_Scikit_learn.ipynb\" target=\"_parent\"><img src=\"https://colab.research.google.com/assets/colab-badge.svg\" alt=\"Open In Colab\"/></a>"
      ]
    },
    {
      "cell_type": "code",
      "metadata": {
        "id": "6qniekiBjsmH",
        "colab_type": "code",
        "outputId": "3823ab0b-d214-4372-ee80-4d7def621842",
        "colab": {
          "base_uri": "https://localhost:8080/",
          "height": 52
        }
      },
      "source": [
        "#Excercise 1\n",
        "#Import statements\n",
        "#import scikit learn libraries when the are required to understand which specifc libraries are required\n",
        "from sklearn.datasets import load_breast_cancer\n",
        "from sklearn.datasets import load_boston\n",
        "import pandas as pd\n",
        "import numpy as np\n",
        "\n",
        "#load classification dataset\n",
        "class_data = load_breast_cancer()\n",
        "class_X = pd.DataFrame(class_data.data, columns = class_data.feature_names)\n",
        "class_y = class_data.target\n",
        "\n",
        "#check the data has loaded successfully\n",
        "print(class_X.shape)\n",
        "print(class_y.shape)\n"
      ],
      "execution_count": 29,
      "outputs": [
        {
          "output_type": "stream",
          "text": [
            "(569, 30)\n",
            "(569,)\n"
          ],
          "name": "stdout"
        }
      ]
    },
    {
      "cell_type": "code",
      "metadata": {
        "id": "cG16QyOBp_Jf",
        "colab_type": "code",
        "outputId": "b0d781ab-7ef4-42f0-d265-55c7aa1314f8",
        "colab": {
          "base_uri": "https://localhost:8080/",
          "height": 52
        }
      },
      "source": [
        "#load the regression dataset\n",
        "boston = load_boston()\n",
        "boston_X = pd.DataFrame(boston.data, columns = boston.feature_names)\n",
        "boston_y = boston.target\n",
        "\n",
        "##check the data has loaded successfully\n",
        "print(boston_X.shape)\n",
        "print(boston_y.shape)"
      ],
      "execution_count": 30,
      "outputs": [
        {
          "output_type": "stream",
          "text": [
            "(506, 13)\n",
            "(506,)\n"
          ],
          "name": "stdout"
        }
      ]
    },
    {
      "cell_type": "code",
      "metadata": {
        "id": "Cf5AEMKXqh58",
        "colab_type": "code",
        "outputId": "bdab698c-3623-4a87-d1d0-4581e9972af4",
        "colab": {
          "base_uri": "https://localhost:8080/",
          "height": 265
        }
      },
      "source": [
        "#Excercise 2 - Rescaling and Standardizing Data\n",
        "# Rescaling using MinMaxScaler, which converts data to a specified range, usually (0,1) or (-1,1)\n",
        "# many machine learning algorithms assume data is on the same scale\n",
        "#import minmaxscaler\n",
        "from sklearn.preprocessing import MinMaxScaler\n",
        "#create feature - use one feature but may pass all the features to rescaler\n",
        "feature = class_X['texture error']\n",
        "#print feature prior to rescaling\n",
        "print(\"Features prior to rescaling:\\n\")\n",
        "print(feature[0:8])\n",
        "#print the shape\n",
        "print(\"\\nFeature shape prior to reshaping:\")\n",
        "print(feature.shape)\n"
      ],
      "execution_count": 31,
      "outputs": [
        {
          "output_type": "stream",
          "text": [
            "Features prior to rescaling:\n",
            "\n",
            "0    0.9053\n",
            "1    0.7339\n",
            "2    0.7869\n",
            "3    1.1560\n",
            "4    0.7813\n",
            "5    0.8902\n",
            "6    0.7732\n",
            "7    1.3770\n",
            "Name: texture error, dtype: float64\n",
            "\n",
            "Feature shape prior to reshaping:\n",
            "(569,)\n"
          ],
          "name": "stdout"
        }
      ]
    },
    {
      "cell_type": "code",
      "metadata": {
        "id": "QLKZgv6SuZqE",
        "colab_type": "code",
        "outputId": "d867fcdb-c776-47a4-e774-efad74f2b4c2",
        "colab": {
          "base_uri": "https://localhost:8080/",
          "height": 70
        }
      },
      "source": [
        "# we used a pandas column, so data data has wrong shape for the function\n",
        "# we need a 2D tuple\n",
        "#reshape the data\n",
        "feature = feature.values.reshape(-1,1)\n",
        "\n",
        "# notice we now have a (samples,feature) tuple not just a (samples,) tuple\n",
        "print(\"\\nFeature shape after reshaping:\")\n",
        "feature.shape"
      ],
      "execution_count": 32,
      "outputs": [
        {
          "output_type": "stream",
          "text": [
            "\n",
            "Feature shape after reshaping:\n"
          ],
          "name": "stdout"
        },
        {
          "output_type": "execute_result",
          "data": {
            "text/plain": [
              "(569, 1)"
            ]
          },
          "metadata": {
            "tags": []
          },
          "execution_count": 32
        }
      ]
    },
    {
      "cell_type": "code",
      "metadata": {
        "id": "aNS67gfLvh3R",
        "colab_type": "code",
        "outputId": "100da5a7-6305-4f7e-f8fa-522d28d6faf7",
        "colab": {
          "base_uri": "https://localhost:8080/",
          "height": 194
        }
      },
      "source": [
        "#instantiate the scaler and pass in the range we want our value to be scaled within\n",
        "minmax_scale = MinMaxScaler(feature_range=(0,1))\n",
        "#Scale the feature - note the fit transform function, in the next example we will separate these steps\n",
        "scaled_feature = minmax_scale.fit_transform(feature)\n",
        "#view feautures we have rescaled\n",
        "print(\"Features after  rescaling:\\n\")\n",
        "scaled_feature[0:8]"
      ],
      "execution_count": 33,
      "outputs": [
        {
          "output_type": "stream",
          "text": [
            "Features after  rescaling:\n",
            "\n"
          ],
          "name": "stdout"
        },
        {
          "output_type": "execute_result",
          "data": {
            "text/plain": [
              "array([[0.12046941],\n",
              "       [0.08258929],\n",
              "       [0.09430251],\n",
              "       [0.17587518],\n",
              "       [0.09306489],\n",
              "       [0.11713225],\n",
              "       [0.09127475],\n",
              "       [0.22471711]])"
            ]
          },
          "metadata": {
            "tags": []
          },
          "execution_count": 33
        }
      ]
    },
    {
      "cell_type": "code",
      "metadata": {
        "id": "HAgBF9c-wPAT",
        "colab_type": "code",
        "outputId": "6b16c8c2-8cc6-4871-a16b-e3143f614d2c",
        "colab": {
          "base_uri": "https://localhost:8080/",
          "height": 287
        }
      },
      "source": [
        "#standardising rescale features so that they are normally distributed. with a mean of 0 and std. deviation of 1\n",
        "#import appropriate library\n",
        "from sklearn.preprocessing import StandardScaler\n",
        "\n",
        "#transform all features in dataset, look at it before transformation\n",
        "mean_std = pd.DataFrame(data={'mean':class_X.mean(), 'std':class_X.std()})\n",
        "\n",
        "#call dataframe\n",
        "mean_std[0:8]"
      ],
      "execution_count": 34,
      "outputs": [
        {
          "output_type": "execute_result",
          "data": {
            "text/html": [
              "<div>\n",
              "<style scoped>\n",
              "    .dataframe tbody tr th:only-of-type {\n",
              "        vertical-align: middle;\n",
              "    }\n",
              "\n",
              "    .dataframe tbody tr th {\n",
              "        vertical-align: top;\n",
              "    }\n",
              "\n",
              "    .dataframe thead th {\n",
              "        text-align: right;\n",
              "    }\n",
              "</style>\n",
              "<table border=\"1\" class=\"dataframe\">\n",
              "  <thead>\n",
              "    <tr style=\"text-align: right;\">\n",
              "      <th></th>\n",
              "      <th>mean</th>\n",
              "      <th>std</th>\n",
              "    </tr>\n",
              "  </thead>\n",
              "  <tbody>\n",
              "    <tr>\n",
              "      <th>mean radius</th>\n",
              "      <td>14.127292</td>\n",
              "      <td>3.524049</td>\n",
              "    </tr>\n",
              "    <tr>\n",
              "      <th>mean texture</th>\n",
              "      <td>19.289649</td>\n",
              "      <td>4.301036</td>\n",
              "    </tr>\n",
              "    <tr>\n",
              "      <th>mean perimeter</th>\n",
              "      <td>91.969033</td>\n",
              "      <td>24.298981</td>\n",
              "    </tr>\n",
              "    <tr>\n",
              "      <th>mean area</th>\n",
              "      <td>654.889104</td>\n",
              "      <td>351.914129</td>\n",
              "    </tr>\n",
              "    <tr>\n",
              "      <th>mean smoothness</th>\n",
              "      <td>0.096360</td>\n",
              "      <td>0.014064</td>\n",
              "    </tr>\n",
              "    <tr>\n",
              "      <th>mean compactness</th>\n",
              "      <td>0.104341</td>\n",
              "      <td>0.052813</td>\n",
              "    </tr>\n",
              "    <tr>\n",
              "      <th>mean concavity</th>\n",
              "      <td>0.088799</td>\n",
              "      <td>0.079720</td>\n",
              "    </tr>\n",
              "    <tr>\n",
              "      <th>mean concave points</th>\n",
              "      <td>0.048919</td>\n",
              "      <td>0.038803</td>\n",
              "    </tr>\n",
              "  </tbody>\n",
              "</table>\n",
              "</div>"
            ],
            "text/plain": [
              "                           mean         std\n",
              "mean radius           14.127292    3.524049\n",
              "mean texture          19.289649    4.301036\n",
              "mean perimeter        91.969033   24.298981\n",
              "mean area            654.889104  351.914129\n",
              "mean smoothness        0.096360    0.014064\n",
              "mean compactness       0.104341    0.052813\n",
              "mean concavity         0.088799    0.079720\n",
              "mean concave points    0.048919    0.038803"
            ]
          },
          "metadata": {
            "tags": []
          },
          "execution_count": 34
        }
      ]
    },
    {
      "cell_type": "code",
      "metadata": {
        "id": "rCCn6Rq_Y_zs",
        "colab_type": "code",
        "outputId": "34f4e912-7f8b-4815-c369-e89e65a4d139",
        "colab": {
          "base_uri": "https://localhost:8080/",
          "height": 34
        }
      },
      "source": [
        "#create scaler\n",
        "scaler = StandardScaler()\n",
        "\n",
        "#fit the scaler - this calculates the min and max values of the dates\n",
        "scaler.fit(class_X)"
      ],
      "execution_count": 35,
      "outputs": [
        {
          "output_type": "execute_result",
          "data": {
            "text/plain": [
              "StandardScaler(copy=True, with_mean=True, with_std=True)"
            ]
          },
          "metadata": {
            "tags": []
          },
          "execution_count": 35
        }
      ]
    },
    {
      "cell_type": "code",
      "metadata": {
        "id": "5vn0EMhyZCWE",
        "colab_type": "code",
        "outputId": "e1b2341f-9859-4c87-e13b-7a06b030f7f2",
        "colab": {
          "base_uri": "https://localhost:8080/",
          "height": 1000
        }
      },
      "source": [
        "# transform the data using the fitted scaler - this applies the transform using the fit\n",
        "standardized = scaler.transform(class_X)\n",
        "# this shows the features transformed - note that this returns an array not a dataframe\n",
        "standardized[0:8]"
      ],
      "execution_count": 36,
      "outputs": [
        {
          "output_type": "execute_result",
          "data": {
            "text/plain": [
              "array([[ 1.09706398e+00, -2.07333501e+00,  1.26993369e+00,\n",
              "         9.84374905e-01,  1.56846633e+00,  3.28351467e+00,\n",
              "         2.65287398e+00,  2.53247522e+00,  2.21751501e+00,\n",
              "         2.25574689e+00,  2.48973393e+00, -5.65265059e-01,\n",
              "         2.83303087e+00,  2.48757756e+00, -2.14001647e-01,\n",
              "         1.31686157e+00,  7.24026158e-01,  6.60819941e-01,\n",
              "         1.14875667e+00,  9.07083081e-01,  1.88668963e+00,\n",
              "        -1.35929347e+00,  2.30360062e+00,  2.00123749e+00,\n",
              "         1.30768627e+00,  2.61666502e+00,  2.10952635e+00,\n",
              "         2.29607613e+00,  2.75062224e+00,  1.93701461e+00],\n",
              "       [ 1.82982061e+00, -3.53632408e-01,  1.68595471e+00,\n",
              "         1.90870825e+00, -8.26962447e-01, -4.87071673e-01,\n",
              "        -2.38458552e-02,  5.48144156e-01,  1.39236330e-03,\n",
              "        -8.68652457e-01,  4.99254601e-01, -8.76243603e-01,\n",
              "         2.63326966e-01,  7.42401948e-01, -6.05350847e-01,\n",
              "        -6.92926270e-01, -4.40780058e-01,  2.60162067e-01,\n",
              "        -8.05450380e-01, -9.94437403e-02,  1.80592744e+00,\n",
              "        -3.69203222e-01,  1.53512599e+00,  1.89048899e+00,\n",
              "        -3.75611957e-01, -4.30444219e-01, -1.46748968e-01,\n",
              "         1.08708430e+00, -2.43889668e-01,  2.81189987e-01],\n",
              "       [ 1.57988811e+00,  4.56186952e-01,  1.56650313e+00,\n",
              "         1.55888363e+00,  9.42210440e-01,  1.05292554e+00,\n",
              "         1.36347845e+00,  2.03723076e+00,  9.39684817e-01,\n",
              "        -3.98007910e-01,  1.22867595e+00, -7.80083377e-01,\n",
              "         8.50928301e-01,  1.18133606e+00, -2.97005012e-01,\n",
              "         8.14973504e-01,  2.13076435e-01,  1.42482747e+00,\n",
              "         2.37035535e-01,  2.93559404e-01,  1.51187025e+00,\n",
              "        -2.39743838e-02,  1.34747521e+00,  1.45628455e+00,\n",
              "         5.27407405e-01,  1.08293217e+00,  8.54973944e-01,\n",
              "         1.95500035e+00,  1.15225500e+00,  2.01391209e-01],\n",
              "       [-7.68909287e-01,  2.53732112e-01, -5.92687167e-01,\n",
              "        -7.64463792e-01,  3.28355348e+00,  3.40290899e+00,\n",
              "         1.91589718e+00,  1.45170736e+00,  2.86738293e+00,\n",
              "         4.91091929e+00,  3.26373441e-01, -1.10409044e-01,\n",
              "         2.86593405e-01, -2.88378148e-01,  6.89701660e-01,\n",
              "         2.74428041e+00,  8.19518384e-01,  1.11500701e+00,\n",
              "         4.73268037e+00,  2.04751088e+00, -2.81464464e-01,\n",
              "         1.33984094e-01, -2.49939304e-01, -5.50021228e-01,\n",
              "         3.39427470e+00,  3.89339743e+00,  1.98958826e+00,\n",
              "         2.17578601e+00,  6.04604135e+00,  4.93501034e+00],\n",
              "       [ 1.75029663e+00, -1.15181643e+00,  1.77657315e+00,\n",
              "         1.82622928e+00,  2.80371830e-01,  5.39340452e-01,\n",
              "         1.37101143e+00,  1.42849277e+00, -9.56046689e-03,\n",
              "        -5.62449981e-01,  1.27054278e+00, -7.90243702e-01,\n",
              "         1.27318941e+00,  1.19035676e+00,  1.48306716e+00,\n",
              "        -4.85198799e-02,  8.28470780e-01,  1.14420474e+00,\n",
              "        -3.61092272e-01,  4.99328134e-01,  1.29857524e+00,\n",
              "        -1.46677038e+00,  1.33853946e+00,  1.22072425e+00,\n",
              "         2.20556166e-01, -3.13394511e-01,  6.13178758e-01,\n",
              "         7.29259257e-01, -8.68352984e-01, -3.97099619e-01],\n",
              "       [-4.76374665e-01, -8.35335303e-01, -3.87148067e-01,\n",
              "        -5.05650454e-01,  2.23742148e+00,  1.24433549e+00,\n",
              "         8.66301596e-01,  8.24655646e-01,  1.00540180e+00,\n",
              "         1.89000504e+00, -2.55070294e-01, -5.92661652e-01,\n",
              "        -3.21304185e-01, -2.89258217e-01,  1.56346702e-01,\n",
              "         4.45543649e-01,  1.60025198e-01, -6.91235537e-02,\n",
              "         1.34118807e-01,  4.86845840e-01, -1.65498247e-01,\n",
              "        -3.13836333e-01, -1.15009456e-01, -2.44320208e-01,\n",
              "         2.04851283e+00,  1.72161644e+00,  1.26324320e+00,\n",
              "         9.05887786e-01,  1.75406939e+00,  2.24180161e+00],\n",
              "       [ 1.17090767e+00,  1.60649427e-01,  1.13812505e+00,\n",
              "         1.09529491e+00, -1.23136226e-01,  8.82952423e-02,\n",
              "         3.00072399e-01,  6.46935108e-01, -6.43246179e-02,\n",
              "        -7.62332153e-01,  1.49883071e-01, -8.04939888e-01,\n",
              "         1.55410293e-01,  2.98627465e-01, -9.09029826e-01,\n",
              "        -6.51568010e-01, -3.10141387e-01, -2.28089026e-01,\n",
              "        -8.29666081e-01, -6.11217806e-01,  1.36898330e+00,\n",
              "         3.22882892e-01,  1.36832530e+00,  1.27521954e+00,\n",
              "         5.18640227e-01,  2.12149800e-02,  5.09552250e-01,\n",
              "         1.19671580e+00,  2.62475664e-01, -1.47304787e-02],\n",
              "       [-1.18516778e-01,  3.58450132e-01, -7.28668396e-02,\n",
              "        -2.18964911e-01,  1.60404905e+00,  1.14010235e+00,\n",
              "         6.10257495e-02,  2.81950258e-01,  1.40335463e+00,\n",
              "         1.66035318e+00,  6.43623001e-01,  2.90560957e-01,\n",
              "         4.90050986e-01,  2.33722421e-01,  5.88030871e-01,\n",
              "         2.68932704e-01, -2.32553954e-01,  4.35348506e-01,\n",
              "        -6.88004232e-01,  6.11668783e-01,  1.63762976e-01,\n",
              "         4.01047912e-01,  9.94485804e-02,  2.88594274e-02,\n",
              "         1.44796112e+00,  7.24785507e-01, -2.10538519e-02,\n",
              "         6.24195735e-01,  4.77640485e-01,  1.72643451e+00]])"
            ]
          },
          "metadata": {
            "tags": []
          },
          "execution_count": 36
        }
      ]
    },
    {
      "cell_type": "code",
      "metadata": {
        "id": "l9BZb-9tZI0b",
        "colab_type": "code",
        "outputId": "ff341eeb-fb69-4a5f-95b3-767be7c02554",
        "colab": {
          "base_uri": "https://localhost:8080/",
          "height": 287
        }
      },
      "source": [
        "#have another look at the transformed data\n",
        "mean_std_transformed = pd.DataFrame(data={'mean':standardized.mean(), 'std':standardized.std()}, index=class_X.columns)\n",
        "\n",
        "# call the dataframe\n",
        "mean_std_transformed[0:8]"
      ],
      "execution_count": 37,
      "outputs": [
        {
          "output_type": "execute_result",
          "data": {
            "text/html": [
              "<div>\n",
              "<style scoped>\n",
              "    .dataframe tbody tr th:only-of-type {\n",
              "        vertical-align: middle;\n",
              "    }\n",
              "\n",
              "    .dataframe tbody tr th {\n",
              "        vertical-align: top;\n",
              "    }\n",
              "\n",
              "    .dataframe thead th {\n",
              "        text-align: right;\n",
              "    }\n",
              "</style>\n",
              "<table border=\"1\" class=\"dataframe\">\n",
              "  <thead>\n",
              "    <tr style=\"text-align: right;\">\n",
              "      <th></th>\n",
              "      <th>mean</th>\n",
              "      <th>std</th>\n",
              "    </tr>\n",
              "  </thead>\n",
              "  <tbody>\n",
              "    <tr>\n",
              "      <th>mean radius</th>\n",
              "      <td>-6.118909e-16</td>\n",
              "      <td>1.0</td>\n",
              "    </tr>\n",
              "    <tr>\n",
              "      <th>mean texture</th>\n",
              "      <td>-6.118909e-16</td>\n",
              "      <td>1.0</td>\n",
              "    </tr>\n",
              "    <tr>\n",
              "      <th>mean perimeter</th>\n",
              "      <td>-6.118909e-16</td>\n",
              "      <td>1.0</td>\n",
              "    </tr>\n",
              "    <tr>\n",
              "      <th>mean area</th>\n",
              "      <td>-6.118909e-16</td>\n",
              "      <td>1.0</td>\n",
              "    </tr>\n",
              "    <tr>\n",
              "      <th>mean smoothness</th>\n",
              "      <td>-6.118909e-16</td>\n",
              "      <td>1.0</td>\n",
              "    </tr>\n",
              "    <tr>\n",
              "      <th>mean compactness</th>\n",
              "      <td>-6.118909e-16</td>\n",
              "      <td>1.0</td>\n",
              "    </tr>\n",
              "    <tr>\n",
              "      <th>mean concavity</th>\n",
              "      <td>-6.118909e-16</td>\n",
              "      <td>1.0</td>\n",
              "    </tr>\n",
              "    <tr>\n",
              "      <th>mean concave points</th>\n",
              "      <td>-6.118909e-16</td>\n",
              "      <td>1.0</td>\n",
              "    </tr>\n",
              "  </tbody>\n",
              "</table>\n",
              "</div>"
            ],
            "text/plain": [
              "                             mean  std\n",
              "mean radius         -6.118909e-16  1.0\n",
              "mean texture        -6.118909e-16  1.0\n",
              "mean perimeter      -6.118909e-16  1.0\n",
              "mean area           -6.118909e-16  1.0\n",
              "mean smoothness     -6.118909e-16  1.0\n",
              "mean compactness    -6.118909e-16  1.0\n",
              "mean concavity      -6.118909e-16  1.0\n",
              "mean concave points -6.118909e-16  1.0"
            ]
          },
          "metadata": {
            "tags": []
          },
          "execution_count": 37
        }
      ]
    },
    {
      "cell_type": "code",
      "metadata": {
        "id": "sLrEiyw0ZMxG",
        "colab_type": "code",
        "outputId": "e7ed8569-45f6-4d08-9541-088b88b3aa14",
        "colab": {
          "base_uri": "https://localhost:8080/",
          "height": 1000
        }
      },
      "source": [
        "#Excercise 2 - Rescaling and Standardization\n",
        "load_boston()"
      ],
      "execution_count": 38,
      "outputs": [
        {
          "output_type": "execute_result",
          "data": {
            "text/plain": [
              "{'DESCR': \".. _boston_dataset:\\n\\nBoston house prices dataset\\n---------------------------\\n\\n**Data Set Characteristics:**  \\n\\n    :Number of Instances: 506 \\n\\n    :Number of Attributes: 13 numeric/categorical predictive. Median Value (attribute 14) is usually the target.\\n\\n    :Attribute Information (in order):\\n        - CRIM     per capita crime rate by town\\n        - ZN       proportion of residential land zoned for lots over 25,000 sq.ft.\\n        - INDUS    proportion of non-retail business acres per town\\n        - CHAS     Charles River dummy variable (= 1 if tract bounds river; 0 otherwise)\\n        - NOX      nitric oxides concentration (parts per 10 million)\\n        - RM       average number of rooms per dwelling\\n        - AGE      proportion of owner-occupied units built prior to 1940\\n        - DIS      weighted distances to five Boston employment centres\\n        - RAD      index of accessibility to radial highways\\n        - TAX      full-value property-tax rate per $10,000\\n        - PTRATIO  pupil-teacher ratio by town\\n        - B        1000(Bk - 0.63)^2 where Bk is the proportion of blacks by town\\n        - LSTAT    % lower status of the population\\n        - MEDV     Median value of owner-occupied homes in $1000's\\n\\n    :Missing Attribute Values: None\\n\\n    :Creator: Harrison, D. and Rubinfeld, D.L.\\n\\nThis is a copy of UCI ML housing dataset.\\nhttps://archive.ics.uci.edu/ml/machine-learning-databases/housing/\\n\\n\\nThis dataset was taken from the StatLib library which is maintained at Carnegie Mellon University.\\n\\nThe Boston house-price data of Harrison, D. and Rubinfeld, D.L. 'Hedonic\\nprices and the demand for clean air', J. Environ. Economics & Management,\\nvol.5, 81-102, 1978.   Used in Belsley, Kuh & Welsch, 'Regression diagnostics\\n...', Wiley, 1980.   N.B. Various transformations are used in the table on\\npages 244-261 of the latter.\\n\\nThe Boston house-price data has been used in many machine learning papers that address regression\\nproblems.   \\n     \\n.. topic:: References\\n\\n   - Belsley, Kuh & Welsch, 'Regression diagnostics: Identifying Influential Data and Sources of Collinearity', Wiley, 1980. 244-261.\\n   - Quinlan,R. (1993). Combining Instance-Based and Model-Based Learning. In Proceedings on the Tenth International Conference of Machine Learning, 236-243, University of Massachusetts, Amherst. Morgan Kaufmann.\\n\",\n",
              " 'data': array([[6.3200e-03, 1.8000e+01, 2.3100e+00, ..., 1.5300e+01, 3.9690e+02,\n",
              "         4.9800e+00],\n",
              "        [2.7310e-02, 0.0000e+00, 7.0700e+00, ..., 1.7800e+01, 3.9690e+02,\n",
              "         9.1400e+00],\n",
              "        [2.7290e-02, 0.0000e+00, 7.0700e+00, ..., 1.7800e+01, 3.9283e+02,\n",
              "         4.0300e+00],\n",
              "        ...,\n",
              "        [6.0760e-02, 0.0000e+00, 1.1930e+01, ..., 2.1000e+01, 3.9690e+02,\n",
              "         5.6400e+00],\n",
              "        [1.0959e-01, 0.0000e+00, 1.1930e+01, ..., 2.1000e+01, 3.9345e+02,\n",
              "         6.4800e+00],\n",
              "        [4.7410e-02, 0.0000e+00, 1.1930e+01, ..., 2.1000e+01, 3.9690e+02,\n",
              "         7.8800e+00]]),\n",
              " 'feature_names': array(['CRIM', 'ZN', 'INDUS', 'CHAS', 'NOX', 'RM', 'AGE', 'DIS', 'RAD',\n",
              "        'TAX', 'PTRATIO', 'B', 'LSTAT'], dtype='<U7'),\n",
              " 'filename': '/usr/local/lib/python3.6/dist-packages/sklearn/datasets/data/boston_house_prices.csv',\n",
              " 'target': array([24. , 21.6, 34.7, 33.4, 36.2, 28.7, 22.9, 27.1, 16.5, 18.9, 15. ,\n",
              "        18.9, 21.7, 20.4, 18.2, 19.9, 23.1, 17.5, 20.2, 18.2, 13.6, 19.6,\n",
              "        15.2, 14.5, 15.6, 13.9, 16.6, 14.8, 18.4, 21. , 12.7, 14.5, 13.2,\n",
              "        13.1, 13.5, 18.9, 20. , 21. , 24.7, 30.8, 34.9, 26.6, 25.3, 24.7,\n",
              "        21.2, 19.3, 20. , 16.6, 14.4, 19.4, 19.7, 20.5, 25. , 23.4, 18.9,\n",
              "        35.4, 24.7, 31.6, 23.3, 19.6, 18.7, 16. , 22.2, 25. , 33. , 23.5,\n",
              "        19.4, 22. , 17.4, 20.9, 24.2, 21.7, 22.8, 23.4, 24.1, 21.4, 20. ,\n",
              "        20.8, 21.2, 20.3, 28. , 23.9, 24.8, 22.9, 23.9, 26.6, 22.5, 22.2,\n",
              "        23.6, 28.7, 22.6, 22. , 22.9, 25. , 20.6, 28.4, 21.4, 38.7, 43.8,\n",
              "        33.2, 27.5, 26.5, 18.6, 19.3, 20.1, 19.5, 19.5, 20.4, 19.8, 19.4,\n",
              "        21.7, 22.8, 18.8, 18.7, 18.5, 18.3, 21.2, 19.2, 20.4, 19.3, 22. ,\n",
              "        20.3, 20.5, 17.3, 18.8, 21.4, 15.7, 16.2, 18. , 14.3, 19.2, 19.6,\n",
              "        23. , 18.4, 15.6, 18.1, 17.4, 17.1, 13.3, 17.8, 14. , 14.4, 13.4,\n",
              "        15.6, 11.8, 13.8, 15.6, 14.6, 17.8, 15.4, 21.5, 19.6, 15.3, 19.4,\n",
              "        17. , 15.6, 13.1, 41.3, 24.3, 23.3, 27. , 50. , 50. , 50. , 22.7,\n",
              "        25. , 50. , 23.8, 23.8, 22.3, 17.4, 19.1, 23.1, 23.6, 22.6, 29.4,\n",
              "        23.2, 24.6, 29.9, 37.2, 39.8, 36.2, 37.9, 32.5, 26.4, 29.6, 50. ,\n",
              "        32. , 29.8, 34.9, 37. , 30.5, 36.4, 31.1, 29.1, 50. , 33.3, 30.3,\n",
              "        34.6, 34.9, 32.9, 24.1, 42.3, 48.5, 50. , 22.6, 24.4, 22.5, 24.4,\n",
              "        20. , 21.7, 19.3, 22.4, 28.1, 23.7, 25. , 23.3, 28.7, 21.5, 23. ,\n",
              "        26.7, 21.7, 27.5, 30.1, 44.8, 50. , 37.6, 31.6, 46.7, 31.5, 24.3,\n",
              "        31.7, 41.7, 48.3, 29. , 24. , 25.1, 31.5, 23.7, 23.3, 22. , 20.1,\n",
              "        22.2, 23.7, 17.6, 18.5, 24.3, 20.5, 24.5, 26.2, 24.4, 24.8, 29.6,\n",
              "        42.8, 21.9, 20.9, 44. , 50. , 36. , 30.1, 33.8, 43.1, 48.8, 31. ,\n",
              "        36.5, 22.8, 30.7, 50. , 43.5, 20.7, 21.1, 25.2, 24.4, 35.2, 32.4,\n",
              "        32. , 33.2, 33.1, 29.1, 35.1, 45.4, 35.4, 46. , 50. , 32.2, 22. ,\n",
              "        20.1, 23.2, 22.3, 24.8, 28.5, 37.3, 27.9, 23.9, 21.7, 28.6, 27.1,\n",
              "        20.3, 22.5, 29. , 24.8, 22. , 26.4, 33.1, 36.1, 28.4, 33.4, 28.2,\n",
              "        22.8, 20.3, 16.1, 22.1, 19.4, 21.6, 23.8, 16.2, 17.8, 19.8, 23.1,\n",
              "        21. , 23.8, 23.1, 20.4, 18.5, 25. , 24.6, 23. , 22.2, 19.3, 22.6,\n",
              "        19.8, 17.1, 19.4, 22.2, 20.7, 21.1, 19.5, 18.5, 20.6, 19. , 18.7,\n",
              "        32.7, 16.5, 23.9, 31.2, 17.5, 17.2, 23.1, 24.5, 26.6, 22.9, 24.1,\n",
              "        18.6, 30.1, 18.2, 20.6, 17.8, 21.7, 22.7, 22.6, 25. , 19.9, 20.8,\n",
              "        16.8, 21.9, 27.5, 21.9, 23.1, 50. , 50. , 50. , 50. , 50. , 13.8,\n",
              "        13.8, 15. , 13.9, 13.3, 13.1, 10.2, 10.4, 10.9, 11.3, 12.3,  8.8,\n",
              "         7.2, 10.5,  7.4, 10.2, 11.5, 15.1, 23.2,  9.7, 13.8, 12.7, 13.1,\n",
              "        12.5,  8.5,  5. ,  6.3,  5.6,  7.2, 12.1,  8.3,  8.5,  5. , 11.9,\n",
              "        27.9, 17.2, 27.5, 15. , 17.2, 17.9, 16.3,  7. ,  7.2,  7.5, 10.4,\n",
              "         8.8,  8.4, 16.7, 14.2, 20.8, 13.4, 11.7,  8.3, 10.2, 10.9, 11. ,\n",
              "         9.5, 14.5, 14.1, 16.1, 14.3, 11.7, 13.4,  9.6,  8.7,  8.4, 12.8,\n",
              "        10.5, 17.1, 18.4, 15.4, 10.8, 11.8, 14.9, 12.6, 14.1, 13. , 13.4,\n",
              "        15.2, 16.1, 17.8, 14.9, 14.1, 12.7, 13.5, 14.9, 20. , 16.4, 17.7,\n",
              "        19.5, 20.2, 21.4, 19.9, 19. , 19.1, 19.1, 20.1, 19.9, 19.6, 23.2,\n",
              "        29.8, 13.8, 13.3, 16.7, 12. , 14.6, 21.4, 23. , 23.7, 25. , 21.8,\n",
              "        20.6, 21.2, 19.1, 20.6, 15.2,  7. ,  8.1, 13.6, 20.1, 21.8, 24.5,\n",
              "        23.1, 19.7, 18.3, 21.2, 17.5, 16.8, 22.4, 20.6, 23.9, 22. , 11.9])}"
            ]
          },
          "metadata": {
            "tags": []
          },
          "execution_count": 38
        }
      ]
    },
    {
      "cell_type": "code",
      "metadata": {
        "id": "PEYTC20SZPEI",
        "colab_type": "code",
        "outputId": "dc7b9dc7-39ab-49f3-d3f6-c44925028c58",
        "colab": {
          "base_uri": "https://localhost:8080/",
          "height": 774
        }
      },
      "source": [
        "Class1 = load_boston()\n",
        "Class1_X = pd.DataFrame(Class1.data, columns = Class1.feature_names) #features\n",
        "Class1_y = Class1.target # labels\n",
        "print(Class1_X.shape)\n",
        "print(Class1_y.shape) #  check if data loaded successfully\n",
        "\n",
        "# FEATURE RESCALING\n",
        "from sklearn.preprocessing import MinMaxScaler # import required library\n",
        "#create feature - use one feature but may pass all the features to rescaler\n",
        "F1 = Class1_X['TAX']\n",
        "\n",
        "#print feature prior to rescaling\n",
        "print(\"Features prior to rescaling:\\n\")\n",
        "print(F1[0:10])\n",
        "\n",
        "#print the shape\n",
        "print(\"\\nFeature shape prior to reshaping:\")\n",
        "print(F1.shape)\n",
        "#Reshape the data into 2D tuple for the function\n",
        "F1 = F1.values.reshape(-1,1)\n",
        "print(\"\\nFeature shape after reshaping: \")\n",
        "print(F1.shape)\n",
        "F1[0:10]\n",
        "\n",
        "# instantiate the scaler and pass the feature range \n",
        "minmax_scale = MinMaxScaler(feature_range=(0, 1))\n",
        "#Scale the feature - note the fit transform function, in the next example we will separate these steps\n",
        "scaled_F1 = minmax_scale.fit_transform(F1)\n",
        "#view feautures we have rescaled\n",
        "print(\"Features after  rescaling:\\n\")\n",
        "scaled_F1[0:10]\n",
        "\n",
        "#STANDARDISING - using Standardscaler\n",
        "#standardise the features to be normally distributed. with a mean of 0 and std. deviation of 1\n",
        "from sklearn.preprocessing import StandardScaler # import appropriate library\n",
        "mean_std = pd.DataFrame(data={'mean':Class1_X.mean(), 'std':Class1_X.std()}) # transform all the features in the dataset\n",
        "mean_std[0:10] # call the dataframe\n",
        "print()\n",
        "scaler = StandardScaler() #create the standard scaler\n",
        "scaler.fit(Class1_X) #fit the scaler - this calculates the min and max values of the dates\n",
        "standardized1 = scaler.transform(Class1_X) # transform the data using the fitted scaler - this applies the transform using the fit\n",
        "standardized1[0:8]# this shows the features transformed - note that this returns an array not a dataframe\n",
        "mean_std_transformed = pd.DataFrame(data={'mean':standardized1.mean(), 'std':standardized1.std()}, index=Class1_X.columns) #have another look at the transformed data\n",
        "mean_std_transformed[0:10] # call the dataframe"
      ],
      "execution_count": 39,
      "outputs": [
        {
          "output_type": "stream",
          "text": [
            "(506, 13)\n",
            "(506,)\n",
            "Features prior to rescaling:\n",
            "\n",
            "0    296.0\n",
            "1    242.0\n",
            "2    242.0\n",
            "3    222.0\n",
            "4    222.0\n",
            "5    222.0\n",
            "6    311.0\n",
            "7    311.0\n",
            "8    311.0\n",
            "9    311.0\n",
            "Name: TAX, dtype: float64\n",
            "\n",
            "Feature shape prior to reshaping:\n",
            "(506,)\n",
            "\n",
            "Feature shape after reshaping: \n",
            "(506, 1)\n",
            "Features after  rescaling:\n",
            "\n",
            "\n"
          ],
          "name": "stdout"
        },
        {
          "output_type": "execute_result",
          "data": {
            "text/html": [
              "<div>\n",
              "<style scoped>\n",
              "    .dataframe tbody tr th:only-of-type {\n",
              "        vertical-align: middle;\n",
              "    }\n",
              "\n",
              "    .dataframe tbody tr th {\n",
              "        vertical-align: top;\n",
              "    }\n",
              "\n",
              "    .dataframe thead th {\n",
              "        text-align: right;\n",
              "    }\n",
              "</style>\n",
              "<table border=\"1\" class=\"dataframe\">\n",
              "  <thead>\n",
              "    <tr style=\"text-align: right;\">\n",
              "      <th></th>\n",
              "      <th>mean</th>\n",
              "      <th>std</th>\n",
              "    </tr>\n",
              "  </thead>\n",
              "  <tbody>\n",
              "    <tr>\n",
              "      <th>CRIM</th>\n",
              "      <td>-1.114746e-15</td>\n",
              "      <td>1.0</td>\n",
              "    </tr>\n",
              "    <tr>\n",
              "      <th>ZN</th>\n",
              "      <td>-1.114746e-15</td>\n",
              "      <td>1.0</td>\n",
              "    </tr>\n",
              "    <tr>\n",
              "      <th>INDUS</th>\n",
              "      <td>-1.114746e-15</td>\n",
              "      <td>1.0</td>\n",
              "    </tr>\n",
              "    <tr>\n",
              "      <th>CHAS</th>\n",
              "      <td>-1.114746e-15</td>\n",
              "      <td>1.0</td>\n",
              "    </tr>\n",
              "    <tr>\n",
              "      <th>NOX</th>\n",
              "      <td>-1.114746e-15</td>\n",
              "      <td>1.0</td>\n",
              "    </tr>\n",
              "    <tr>\n",
              "      <th>RM</th>\n",
              "      <td>-1.114746e-15</td>\n",
              "      <td>1.0</td>\n",
              "    </tr>\n",
              "    <tr>\n",
              "      <th>AGE</th>\n",
              "      <td>-1.114746e-15</td>\n",
              "      <td>1.0</td>\n",
              "    </tr>\n",
              "    <tr>\n",
              "      <th>DIS</th>\n",
              "      <td>-1.114746e-15</td>\n",
              "      <td>1.0</td>\n",
              "    </tr>\n",
              "    <tr>\n",
              "      <th>RAD</th>\n",
              "      <td>-1.114746e-15</td>\n",
              "      <td>1.0</td>\n",
              "    </tr>\n",
              "    <tr>\n",
              "      <th>TAX</th>\n",
              "      <td>-1.114746e-15</td>\n",
              "      <td>1.0</td>\n",
              "    </tr>\n",
              "  </tbody>\n",
              "</table>\n",
              "</div>"
            ],
            "text/plain": [
              "               mean  std\n",
              "CRIM  -1.114746e-15  1.0\n",
              "ZN    -1.114746e-15  1.0\n",
              "INDUS -1.114746e-15  1.0\n",
              "CHAS  -1.114746e-15  1.0\n",
              "NOX   -1.114746e-15  1.0\n",
              "RM    -1.114746e-15  1.0\n",
              "AGE   -1.114746e-15  1.0\n",
              "DIS   -1.114746e-15  1.0\n",
              "RAD   -1.114746e-15  1.0\n",
              "TAX   -1.114746e-15  1.0"
            ]
          },
          "metadata": {
            "tags": []
          },
          "execution_count": 39
        }
      ]
    },
    {
      "cell_type": "code",
      "metadata": {
        "id": "HVGfJXrgZZNM",
        "colab_type": "code",
        "outputId": "6979d0f6-36a5-44ce-aeda-027d21529c78",
        "colab": {
          "base_uri": "https://localhost:8080/",
          "height": 596
        }
      },
      "source": [
        "# NORMALIZER\n",
        "# Normalize samples individually to unit norm.\n",
        "# Each sample (i.e. each row of the data matrix) with at least one non zero component is rescaled independently of other samples so that its norm (l1 or l2) equals one.\n",
        "# Scaling inputs to unit norms is a common operation for text classification or clustering for instance\n",
        "from sklearn.preprocessing import Normalizer #import appropriate library\n",
        "transformer = Normalizer().fit(Class1_X) # fit does nothing\n",
        "print(transformer)\n",
        "normalised = transformer.transform(Class1_X)\n",
        "print(normalised)\n",
        "mean_std_transformed = pd.DataFrame(data={'mean':normalised.mean(), 'std':normalised.std()}, index=Class1_X.columns) #have another look at the transformed data\n",
        "mean_std_transformed[0:10] # call the dataframe"
      ],
      "execution_count": 40,
      "outputs": [
        {
          "output_type": "stream",
          "text": [
            "Normalizer(copy=True, norm='l2')\n",
            "[[1.26388341e-05 3.59966795e-02 4.61957387e-03 ... 3.05971776e-02\n",
            "  7.93726783e-01 9.95908132e-03]\n",
            " [5.78529889e-05 0.00000000e+00 1.49769546e-02 ... 3.77071843e-02\n",
            "  8.40785474e-01 1.93620036e-02]\n",
            " [5.85729947e-05 0.00000000e+00 1.51744622e-02 ... 3.82044450e-02\n",
            "  8.43137761e-01 8.64965806e-03]\n",
            " ...\n",
            " [1.23765824e-04 0.00000000e+00 2.43009593e-02 ... 4.27762066e-02\n",
            "  8.08470305e-01 1.14884669e-02]\n",
            " [2.24644719e-04 0.00000000e+00 2.44548909e-02 ... 4.30471676e-02\n",
            "  8.06519433e-01 1.32831260e-02]\n",
            " [9.69214289e-05 0.00000000e+00 2.43887924e-02 ... 4.29308164e-02\n",
            "  8.11392431e-01 1.61092778e-02]]\n"
          ],
          "name": "stdout"
        },
        {
          "output_type": "execute_result",
          "data": {
            "text/html": [
              "<div>\n",
              "<style scoped>\n",
              "    .dataframe tbody tr th:only-of-type {\n",
              "        vertical-align: middle;\n",
              "    }\n",
              "\n",
              "    .dataframe tbody tr th {\n",
              "        vertical-align: top;\n",
              "    }\n",
              "\n",
              "    .dataframe thead th {\n",
              "        text-align: right;\n",
              "    }\n",
              "</style>\n",
              "<table border=\"1\" class=\"dataframe\">\n",
              "  <thead>\n",
              "    <tr style=\"text-align: right;\">\n",
              "      <th></th>\n",
              "      <th>mean</th>\n",
              "      <th>std</th>\n",
              "    </tr>\n",
              "  </thead>\n",
              "  <tbody>\n",
              "    <tr>\n",
              "      <th>CRIM</th>\n",
              "      <td>0.123567</td>\n",
              "      <td>0.248303</td>\n",
              "    </tr>\n",
              "    <tr>\n",
              "      <th>ZN</th>\n",
              "      <td>0.123567</td>\n",
              "      <td>0.248303</td>\n",
              "    </tr>\n",
              "    <tr>\n",
              "      <th>INDUS</th>\n",
              "      <td>0.123567</td>\n",
              "      <td>0.248303</td>\n",
              "    </tr>\n",
              "    <tr>\n",
              "      <th>CHAS</th>\n",
              "      <td>0.123567</td>\n",
              "      <td>0.248303</td>\n",
              "    </tr>\n",
              "    <tr>\n",
              "      <th>NOX</th>\n",
              "      <td>0.123567</td>\n",
              "      <td>0.248303</td>\n",
              "    </tr>\n",
              "    <tr>\n",
              "      <th>RM</th>\n",
              "      <td>0.123567</td>\n",
              "      <td>0.248303</td>\n",
              "    </tr>\n",
              "    <tr>\n",
              "      <th>AGE</th>\n",
              "      <td>0.123567</td>\n",
              "      <td>0.248303</td>\n",
              "    </tr>\n",
              "    <tr>\n",
              "      <th>DIS</th>\n",
              "      <td>0.123567</td>\n",
              "      <td>0.248303</td>\n",
              "    </tr>\n",
              "    <tr>\n",
              "      <th>RAD</th>\n",
              "      <td>0.123567</td>\n",
              "      <td>0.248303</td>\n",
              "    </tr>\n",
              "    <tr>\n",
              "      <th>TAX</th>\n",
              "      <td>0.123567</td>\n",
              "      <td>0.248303</td>\n",
              "    </tr>\n",
              "  </tbody>\n",
              "</table>\n",
              "</div>"
            ],
            "text/plain": [
              "           mean       std\n",
              "CRIM   0.123567  0.248303\n",
              "ZN     0.123567  0.248303\n",
              "INDUS  0.123567  0.248303\n",
              "CHAS   0.123567  0.248303\n",
              "NOX    0.123567  0.248303\n",
              "RM     0.123567  0.248303\n",
              "AGE    0.123567  0.248303\n",
              "DIS    0.123567  0.248303\n",
              "RAD    0.123567  0.248303\n",
              "TAX    0.123567  0.248303"
            ]
          },
          "metadata": {
            "tags": []
          },
          "execution_count": 40
        }
      ]
    },
    {
      "cell_type": "code",
      "metadata": {
        "id": "gsv_ION1Zav2",
        "colab_type": "code",
        "outputId": "3b589913-27d3-449b-ff49-5665d783a91d",
        "colab": {
          "base_uri": "https://localhost:8080/",
          "height": 194
        }
      },
      "source": [
        "#Model Evaluation and Metrics\n",
        "#testing and training splits\n",
        "from sklearn.model_selection import train_test_split\n",
        "# splits data into a test and training set\n",
        "# function shuffles our data before splitting (we will get both classes in both sets)\n",
        "# setting a random_state means that this shuffling will be consistent for each run\n",
        "#setting stratify=class_y tells the function to have an even number of class labels in each set\n",
        "X_train, X_test, y_train, y_test = train_test_split(class_X,class_y, test_size=0.3, random_state=1, stratify = class_y)\n",
        "\n",
        "# verify the stratifications using np.bincount\n",
        "print('Labels counts in y:', np.bincount(class_y))\n",
        "print('Percentage of class zeroes in class_y',np.round(np.bincount(class_y)[0]/len(class_y)*100))\n",
        "\n",
        "print(\"\\n\")\n",
        "print('Labels counts in y_train:', np.bincount(y_train))\n",
        "print('Percentage of class zeroes in y_train',np.round(np.bincount(y_train)[0]/len(y_train)*100))\n",
        "\n",
        "print(\"\\n\")\n",
        "print('Labels counts in y_test:', np.bincount(y_test))\n",
        "print('Percentage of class zeroes in y_test',np.round(np.bincount(y_test)[0]/len(y_test)*100))"
      ],
      "execution_count": 41,
      "outputs": [
        {
          "output_type": "stream",
          "text": [
            "Labels counts in y: [212 357]\n",
            "Percentage of class zeroes in class_y 37.0\n",
            "\n",
            "\n",
            "Labels counts in y_train: [148 250]\n",
            "Percentage of class zeroes in y_train 37.0\n",
            "\n",
            "\n",
            "Labels counts in y_test: [ 64 107]\n",
            "Percentage of class zeroes in y_test 37.0\n"
          ],
          "name": "stdout"
        }
      ]
    },
    {
      "cell_type": "markdown",
      "metadata": {
        "id": "KtPajTn7Zf2A",
        "colab_type": "text"
      },
      "source": [
        "Additional ways to divide data into test and training sets exist, and we cover K-fold cross validation in the Pipeline section"
      ]
    },
    {
      "cell_type": "code",
      "metadata": {
        "id": "46H72GAoZiNl",
        "colab_type": "code",
        "outputId": "88ebddc1-6626-4dae-ac79-18ccae945f65",
        "colab": {
          "base_uri": "https://localhost:8080/",
          "height": 34
        }
      },
      "source": [
        "#create a basiline model to benchmark our other estimators against\n",
        "#this can be simple estimator or we can use a dummy estimator to make predictions in a random manner\n",
        "#import appropriate statement\n",
        "from sklearn.dummy import DummyClassifier\n",
        "# creates our dummy classifier and the value we pass in to the strategy\n",
        "dummy = DummyClassifier(strategy='uniform', random_state=1)\n",
        "dummy.fit(X_train,y_train) # #train the model"
      ],
      "execution_count": 42,
      "outputs": [
        {
          "output_type": "execute_result",
          "data": {
            "text/plain": [
              "DummyClassifier(constant=None, random_state=1, strategy='uniform')"
            ]
          },
          "metadata": {
            "tags": []
          },
          "execution_count": 42
        }
      ]
    },
    {
      "cell_type": "code",
      "metadata": {
        "id": "z3tC7pJAZlEK",
        "colab_type": "code",
        "outputId": "defdb142-1242-4d6c-f754-a7d7d985c8eb",
        "colab": {
          "base_uri": "https://localhost:8080/",
          "height": 34
        }
      },
      "source": [
        "#evaluate model metrics\n",
        "dummy.score(X_test, y_test) # get an accuracy score"
      ],
      "execution_count": 43,
      "outputs": [
        {
          "output_type": "execute_result",
          "data": {
            "text/plain": [
              "0.47953216374269003"
            ]
          },
          "metadata": {
            "tags": []
          },
          "execution_count": 43
        }
      ]
    },
    {
      "cell_type": "markdown",
      "metadata": {
        "id": "F3yDxq4KZod3",
        "colab_type": "text"
      },
      "source": [
        "Remember that to get a score, we need to instantiate a model, fit it to the data, predict using unseen data, compare the predictions against actual data, and score the difference. This is true for classification and regression problems, and is true no matter the method used to get there.\n",
        "\n",
        "* So, in the end-to-end tutorials we split the training and test data, fitted our data to an estimator, and called the .predict method on the estimator to get our predictions, and then passed this to a scoring function (four steps)\n",
        "* In using the estimator.score() method above, we are passing in our split data and the method is then making predictions and returning the score (three steps).\n",
        "* In the cross_val_score() method used below we are effectively using one step as the method takes an estimator and our data and returns a score."
      ]
    },
    {
      "cell_type": "code",
      "metadata": {
        "id": "FLPyEdVlZuJl",
        "colab_type": "code",
        "outputId": "b7935840-b397-4802-ff55-720b3c2c5529",
        "colab": {
          "base_uri": "https://localhost:8080/",
          "height": 34
        }
      },
      "source": [
        "#hide all warnings\n",
        "import warnings\n",
        "warnings.filterwarnings('ignore')\n",
        "#fit a new estimator and use cross_val_score to get a score based defined metric\n",
        "#import statements\n",
        "from sklearn.model_selection import cross_val_score\n",
        "from sklearn.linear_model import LogisticRegression\n",
        "logistic = LogisticRegression() # instantiate logistic regression classifier\n",
        "\n",
        "#pass estimator and data to the method. also specify the number of folds (default is 3)\n",
        "# the default scoring method is associated with the estimator we pass in\n",
        "# use scoring parameter to pass in different scoring methods. here we use recall\n",
        "cross_val_score(logistic, class_X, class_y, cv=5, scoring=\"recall\")"
      ],
      "execution_count": 44,
      "outputs": [
        {
          "output_type": "execute_result",
          "data": {
            "text/plain": [
              "array([0.98611111, 0.97222222, 0.98591549, 0.95774648, 0.95774648])"
            ]
          },
          "metadata": {
            "tags": []
          },
          "execution_count": 44
        }
      ]
    },
    {
      "cell_type": "code",
      "metadata": {
        "id": "GtmHOziNZx5l",
        "colab_type": "code",
        "outputId": "ea988331-e0b7-492d-b9e4-d9698fd70954",
        "colab": {
          "base_uri": "https://localhost:8080/",
          "height": 301
        }
      },
      "source": [
        "#Excercise 3\n",
        "\n",
        "#Part 1 -Implement binary classification scoring functions\n",
        "\n",
        "#Implement f1 score - also known as balanced F-score or F-measure\n",
        "# F1 score can be interpreted as a weighted average of the precision and recall, where an F1 score reaches its best value at 1 and worst score at 0. The relative contribution of precision and recall to the F1 score are equal. The formula for the F1 score is:\n",
        "# F1 = 2 * (precision * recall) / (precision + recall) \n",
        "#import appropriate statements\n",
        "from sklearn.metrics import f1_score\n",
        "\n",
        "f1 = cross_val_score(logistic, class_X, class_y, cv=5, scoring='f1') \n",
        "print('f1')\n",
        "print(f1)\n",
        "f1macro = cross_val_score(logistic, class_X, class_y, cv=5, scoring='f1_macro') #Calculate metrics for each label, and find their unweighted mean. This does not take label imbalance into account.\n",
        "print('f1macro')\n",
        "print(f1macro)\n",
        "f1micro = cross_val_score(logistic, class_X, class_y, cv=5, scoring='f1_micro') #Calculate metrics globally by counting the total true positives, false negatives and false positives.\n",
        "print('f1micro')\n",
        "print(f1micro)\n",
        "f1weighted = cross_val_score(logistic, class_X, class_y, cv=5, scoring='f1_weighted') #Calculate metrics for each label, and find their average weighted by support (the number of true instances for each label). This alters ‘macro’ to account for label imbalance; it can result in an F-score that is not between precision and recall.\n",
        "print('f1weighted')\n",
        "print(f1weighted)\n",
        "\n",
        "\n",
        "##implement precision score\n",
        "#The precision is the ratio tp / (tp + fp) where tp is the number of true positives and fp the number of false positives. The precision is intuitively the ability of the classifier not to label as positive a sample that is negative.\n",
        "#The best value is 1 and the worst value is 0.\n",
        "#import appropriate statements\n",
        "from sklearn.metrics import precision_score\n",
        "precision = cross_val_score(logistic, class_X, class_y, cv=5, scoring='precision') \n",
        "print('precision')\n",
        "print(precision)\n",
        "precisionmacro = cross_val_score(logistic, class_X, class_y, cv=5, scoring='precision_macro') #Calculate metrics for each label, and find their unweighted mean. This does not take label imbalance into account\n",
        "print('precisionmacro')\n",
        "print(precisionmacro)\n",
        "precisionmicro = cross_val_score(logistic, class_X, class_y, cv=5, scoring='precision_micro') #Calculate metrics globally by counting the total true positives, false negatives and false positives.\n",
        "print('precisionmicro')\n",
        "print(precisionmicro)\n",
        "precisionweighted = cross_val_score(logistic, class_X, class_y, cv=5, scoring='precision_weighted') #Calculate metrics for each label, and find their average weighted by support (the number of true instances for each label). This alters ‘macro’ to account for label imbalance; it can result in an F-score that is not between precision and recall.\n",
        "print('precisionweighted')\n",
        "print(precisionweighted)"
      ],
      "execution_count": 45,
      "outputs": [
        {
          "output_type": "stream",
          "text": [
            "f1\n",
            "[0.94666667 0.95238095 0.97902098 0.96453901 0.97142857]\n",
            "f1macro\n",
            "[0.92333333 0.9340218  0.9714382  0.95285774 0.96245847]\n",
            "f1micro\n",
            "[0.93043478 0.93913043 0.97345133 0.95575221 0.96460177]\n",
            "f1weighted\n",
            "[0.92921739 0.9386515  0.97338422 0.95585559 0.96476053]\n",
            "precision\n",
            "[0.91025641 0.93333333 0.97222222 0.97142857 0.98550725]\n",
            "precisionmacro\n",
            "[0.94161469 0.94166667 0.97391599 0.95083056 0.95866271]\n",
            "precisionmicro\n",
            "[0.93043478 0.93913043 0.97345133 0.95575221 0.96460177]\n",
            "precisionweighted\n",
            "[0.93370695 0.93956522 0.97348131 0.95611678 0.96555202]\n"
          ],
          "name": "stdout"
        }
      ]
    },
    {
      "cell_type": "code",
      "metadata": {
        "id": "K9R4CrSAZ-Un",
        "colab_type": "code",
        "colab": {}
      },
      "source": [
        "# Part 2\n",
        "#Assessing our model's performance with the Receiving Operating Characteristic (ROC) Curve."
      ],
      "execution_count": 0,
      "outputs": []
    },
    {
      "cell_type": "markdown",
      "metadata": {
        "id": "uGGYWIA4aDTj",
        "colab_type": "text"
      },
      "source": [
        "A useful tool when predicting the probability of a binary outcome is the Receiver Operating Characteristic curve, or ROC curve. \n",
        "It is a plot of the false positive rate (x-axis) versus the true positive rate (y-axis) for a number of different candidate threshold values between 0.0 and 1.0. Put another way, it plots the false alarm rate versus the hit rate.\n",
        "\n",
        "The true positive rate is calculated as the number of true positives divided by the sum of the number of true positives and the number of false negatives. It describes how good the model is at predicting the positive class when the actual outcome is positive.\n",
        "\n",
        "\n",
        "* *True Positive Rate* = True Positives / (True Positives + False Negatives)\n",
        "\n",
        "The true positive rate is also referred to as sensitivity.\n",
        "\n",
        "* *Sensitivity* = True Positives / (True Positives + False Negatives)\n",
        "\n",
        "The false positive rate is calculated as the number of false positives divided by the sum of the number of false positives and the number of true negatives. It is also called the false alarm rate as it summarizes how often a positive class is predicted when the actual outcome is negative.\n",
        "\n",
        "* False Positive Rate = False Positives / (False Positives + True Negatives)\n",
        "\n",
        "The false positive rate is also referred to as the inverted specificity where specificity is the total number of true negatives divided by the sum of the number of true negatives and false positives.\n",
        "\n",
        "* Specificity = True Negatives / (True Negatives + False Positives)  \n",
        "Where:            False Positive Rate = 1 - Specificity\n",
        "      \n",
        "The ROC curve is a useful tool for a few reasons:\n",
        "* The curves of different models can be compared directly in general or for different thresholds.\n",
        "* The area under the curve (AUC) can be used as a summary of the model skill.\n",
        "The shape of the curve contains a lot of information, including what we might care about most for a problem, the expected false positive rate, and the false negative rate. To make this clear: a. Smaller values on the x-axis of the plot indicate lower false positives and higher true negatives. b. Larger values on the y-axis of the plot indicate higher true positives and lower false negatives."
      ]
    },
    {
      "cell_type": "code",
      "metadata": {
        "id": "kLKJG36JaKvj",
        "colab_type": "code",
        "outputId": "9dd7168c-76aa-4247-dd99-387fbd89ff24",
        "colab": {
          "base_uri": "https://localhost:8080/",
          "height": 1000
        }
      },
      "source": [
        "# import roc_curve() to plot a ROC curve. \n",
        "# The function takes both the true outcomes (0,1) from the test set and the predicted probabilities for the 1 class. The function returns the false positive rates for each threshold, true positive rates for each threshold and thresholds.\n",
        "from sklearn.metrics import roc_curve \n",
        "# import roc_auc_score() to calculate AUC for ROC\n",
        "# AUC function takes both the true outcomes (0,1) from the test set and the predicted probabilities for the 1 class. It returns the AUC score between 0.0 and 1.0 for no skill and perfect skill respectively.\n",
        "from sklearn.metrics import roc_auc_score \n",
        "import matplotlib.pyplot as plt \n",
        "from sklearn.linear_model import LogisticRegression\n",
        "from sklearn.model_selection import train_test_split\n",
        "from sklearn import svm\n",
        "#shuffle and split training and test sets\n",
        "X_train, X_test, y_train, y_test = train_test_split(class_X,class_y, test_size=0.5, random_state=1)\n",
        "logistic = LogisticRegression()\n",
        "#predict\n",
        "Predict_Y = svm.SVC(kernel='linear', probability=True, random_state=1)\n",
        "print(Predict_Y)\n",
        "score_Y = Predict_Y.fit(X_train, y_train).decision_function(X_test)\n",
        "print(score_Y)\n",
        "#compute ROC curve and ROC area\n",
        "fpr, tpr, threshold = roc_curve(y_test, score_Y)\n",
        "roc_auc = roc_auc_score(y_test, score_Y)\n",
        "print(roc_auc)\n",
        "plt.figure()\n",
        "plt.plot(fpr, tpr, color='red', label='ROC curve (area = %0.2f)' % roc_auc)\n",
        "plt.xlabel('False Positive Rate')\n",
        "plt.ylabel('True Positive Rate')\n",
        "plt.title('Receiver operating characteristic Curve')\n",
        "plt.legend(loc=\"lower right\")\n",
        "plt.show()"
      ],
      "execution_count": 46,
      "outputs": [
        {
          "output_type": "stream",
          "text": [
            "SVC(C=1.0, cache_size=200, class_weight=None, coef0=0.0,\n",
            "    decision_function_shape='ovr', degree=3, gamma='auto_deprecated',\n",
            "    kernel='linear', max_iter=-1, probability=True, random_state=1,\n",
            "    shrinking=True, tol=0.001, verbose=False)\n",
            "[-1.06923266e+00 -1.29891176e+00  5.61895210e+00 -3.86980040e+00\n",
            " -1.88558814e-01 -6.25936209e+00 -3.95054394e+00  9.59540708e-02\n",
            "  4.01447965e+00  3.82038204e+00  3.63341162e+00 -4.38891749e+00\n",
            " -2.94887382e+00  4.40562556e+00  8.43109984e-01  3.42275087e-01\n",
            "  2.99971461e+00  3.36922732e+00  6.23624054e+00 -7.38527470e+00\n",
            "  4.40167439e+00  2.50609190e+00 -1.27530280e+00  2.87881002e+00\n",
            " -3.03204447e+00  1.10942621e+00  2.46355750e+00 -1.04239785e+01\n",
            " -1.81838538e+01 -2.87980800e+00 -8.53657025e+00  5.51272883e+00\n",
            " -1.00605766e+01 -4.06640033e+00  4.91427365e+00  3.74079660e+00\n",
            " -4.43476802e+00  2.75477264e+00 -5.31823157e-01  4.99311746e+00\n",
            "  6.74786021e+00  9.72271499e-01  1.96420850e+00  4.41307146e+00\n",
            "  2.78465875e+00 -2.67312982e+00  7.73322809e+00  6.90793245e+00\n",
            "  1.07239974e+00 -2.92079812e+00 -6.99689199e+00 -2.57654301e+01\n",
            "  4.25604618e+00  5.62641845e+00  5.25682842e+00  3.05419720e+00\n",
            "  4.49722566e+00  2.66771760e+00  4.10701024e+00  7.05267416e+00\n",
            "  5.68908592e+00 -4.12677026e+00  1.03895883e+00 -1.35746085e+00\n",
            "  4.12233903e+00  1.78406453e+00  2.58788561e+00 -9.86991084e+00\n",
            "  5.38697239e+00  3.28791927e+00  6.51335400e+00  6.74849130e+00\n",
            " -1.54475902e-01 -1.77436752e+00  7.48972501e+00 -1.40647361e+01\n",
            "  6.24672151e+00  1.55004106e+00  5.22138582e+00 -7.39287946e+00\n",
            "  6.30016907e+00 -1.09764454e+01  4.33606881e+00 -5.02931553e+00\n",
            "  4.56190591e+00  4.83693528e+00 -1.35542560e+00  2.33678744e+00\n",
            " -5.48357681e+00  5.47388272e+00  3.40526898e+00 -1.03121228e+01\n",
            "  5.95128556e+00  7.18672376e+00 -7.97427638e+00 -2.57491842e+00\n",
            "  9.14538809e+00  2.52833036e+00  4.73801796e+00  3.45219010e+00\n",
            "  2.42306269e+00  4.56268450e+00  6.14186344e+00  1.73313062e-01\n",
            "  3.93384171e+00  3.99547721e+00  7.19210382e+00  5.60146407e+00\n",
            " -1.86280183e+00 -4.45576243e+00 -2.09171199e+00  5.75434802e+00\n",
            " -2.95365951e-01  4.70478233e+00 -4.05557574e+00 -2.90797554e+00\n",
            "  8.41072479e+00  4.58627920e+00  6.73528175e+00  4.47720858e+00\n",
            "  2.44092216e+00 -7.95565565e+00 -7.64718185e+00  4.76480302e+00\n",
            "  4.22422243e+00 -2.42023880e+01 -8.01064897e+00 -5.77216758e-01\n",
            " -1.90993273e+01 -1.28793867e+01  1.46444231e+00  3.07273810e+00\n",
            "  4.17991269e+00 -1.81092685e+01  8.28886115e+00 -5.16337813e+00\n",
            " -4.81726298e+00  1.26144960e+00  4.53923995e+00 -5.26757108e-01\n",
            " -2.01455862e+00 -4.15763251e+00  4.23692986e+00 -7.27000054e+00\n",
            "  1.20941060e+00 -7.36274932e+00  7.07881600e+00  3.97165457e+00\n",
            "  5.51941867e+00 -1.33853007e+01  3.04423107e+00  5.45089014e+00\n",
            " -4.48242119e-02 -2.67924705e-02  2.54806517e+00  5.09091570e+00\n",
            "  3.41876674e+00  2.74458881e-01  3.68037032e+00  5.80096550e+00\n",
            "  5.24908423e+00  4.04189594e+00 -1.93758273e-01  1.83950401e+00\n",
            "  2.85230793e+00  2.71769609e+00 -1.02730986e+01 -1.03961829e+01\n",
            " -9.89861043e+00  4.11007176e+00  4.45065770e+00  5.11743152e+00\n",
            "  5.17006143e+00 -1.65045954e+00  5.39866266e+00  5.89700013e+00\n",
            "  7.28103468e+00  4.66930038e+00  9.58434282e-01  8.90812382e+00\n",
            "  5.65569765e+00  6.06815990e+00  1.82109517e+00  5.21880482e+00\n",
            "  3.79996207e+00 -2.32241103e+01 -1.45721205e+01  3.44221236e+00\n",
            " -7.73112215e+00  7.02749542e+00  2.36936516e+00  1.70374965e+00\n",
            " -3.43470593e+00 -2.72168930e+00 -1.05081026e+01  1.38895230e+00\n",
            "  8.80466751e+00 -4.65604968e+00 -5.57551984e+00  1.78418919e+00\n",
            " -1.06914367e-01  2.27187818e+00  2.04458697e+00  1.07558254e-01\n",
            " -1.54586571e+01  2.58676464e+00  3.62464430e+00  2.43380563e+00\n",
            " -2.13889559e+00 -2.50605178e+00  1.09840979e+00  3.85331897e+00\n",
            "  7.05800970e+00  1.85941313e+00 -1.01814676e+01  9.11251957e-01\n",
            "  4.65169503e+00  1.80838832e+00  4.61956809e+00  5.11746577e+00\n",
            "  2.48403637e+00  5.11126059e+00 -8.32973600e+00  5.81089189e+00\n",
            " -9.29515935e+00  8.60426148e+00  6.44793426e+00 -2.24326390e+01\n",
            " -1.13191306e+01  2.69529426e+00 -3.97752631e+00  6.54102584e+00\n",
            "  1.52111604e+00 -2.85652670e+01 -1.17347812e+00 -4.44171710e-01\n",
            " -9.15052586e+00 -1.39889931e+01  1.62171609e+00 -4.25177413e-01\n",
            "  5.44905888e+00  1.68648565e+00  4.58436715e+00  3.06271192e+00\n",
            "  5.32663388e+00 -1.55561833e+00  4.42694420e+00  1.71404384e+00\n",
            " -1.42808090e+01 -6.46803154e+00 -1.76748754e+01 -7.66904837e+00\n",
            "  3.20228642e+00 -4.65925128e+00  1.27586543e+00  4.32544738e+00\n",
            " -9.87332832e-01  1.85404044e+00 -6.86444731e+00  4.44821450e+00\n",
            "  4.62075959e+00  7.89362141e+00  3.48416434e+00  2.84489124e-01\n",
            "  2.55008441e+00  4.42101218e+00 -7.77730981e+00  4.05484193e+00\n",
            "  6.77490454e+00  5.44765724e+00 -7.92636997e-01 -2.08818848e+01\n",
            "  1.59055798e+00  6.42743969e+00 -1.68271730e+01 -1.93352755e+00\n",
            " -1.95925010e-01  3.11621699e+00  1.40854772e+00 -5.01617613e+00\n",
            "  6.58683529e+00  5.90889244e+00  4.83353088e+00  6.62014860e+00\n",
            "  3.13678217e+00]\n",
            "0.9666595540381948\n"
          ],
          "name": "stdout"
        },
        {
          "output_type": "display_data",
          "data": {
            "image/png": "[encoded data removed]",
            "text/plain": [
              "<Figure size 432x288 with 1 Axes>"
            ]
          },
          "metadata": {
            "tags": []
          }
        }
      ]
    },
    {
      "cell_type": "code",
      "metadata": {
        "id": "YgJTIpwS3evD",
        "colab_type": "code",
        "colab": {}
      },
      "source": [
        "# What are the main ways of evaluating a mutliclass classification problem?"
      ],
      "execution_count": 0,
      "outputs": []
    },
    {
      "cell_type": "markdown",
      "metadata": {
        "id": "wV7vP2-X3Y5r",
        "colab_type": "text"
      },
      "source": [
        "Micro-averaging may be preferred in multilabel settings, including multiclass classification where a majority class is to be ignored.\n",
        "\n",
        "In multiclass classification task, the notions of precision, recall, and F-measures can be applied to each label independently. \n",
        "* Note that if all labels are included, “micro”-averaging in a multiclass setting will produce precision, recall and  that are all identical to accuracy.\n"
      ]
    },
    {
      "cell_type": "code",
      "metadata": {
        "id": "B7YuQ4393d_4",
        "colab_type": "code",
        "outputId": "dcb55b2b-180a-4faf-9e09-2f57b7b025d4",
        "colab": {
          "base_uri": "https://localhost:8080/",
          "height": 887
        }
      },
      "source": [
        "#Part 4\n",
        "## Implement a baseline model and evaluation metric for the Boston dataset (regression)\n",
        "load_boston()\n",
        "from sklearn.model_selection import train_test_split\n",
        "boston_X_train,boston_X_test, boston_y_train, boston_y_test = train_test_split(Class1_X,Class1_y, test_size=0.5, random_state=1)\n",
        "\n",
        "from sklearn.dummy import DummyRegressor\n",
        "# creates our dummy regressor and the value we pass in to the strategy\n",
        "dummy_regr = DummyRegressor(strategy='mean')\n",
        "boston1_Y = dummy_regr.fit(boston_X_train,boston_y_train) # train the model\n",
        "print(boston1_Y)\n",
        "X1_predict = dummy_regr.predict(boston_X_train) #predict\n",
        "print(\"\\n\")\n",
        "print(X1_predict)\n",
        "boston_score = dummy_regr.score(boston_X_test,boston_y_test)\n",
        "print(\"\\n\")\n",
        "print(boston_score)"
      ],
      "execution_count": 47,
      "outputs": [
        {
          "output_type": "stream",
          "text": [
            "DummyRegressor(constant=None, quantile=None, strategy='mean')\n",
            "\n",
            "\n",
            "[22.04664032 22.04664032 22.04664032 22.04664032 22.04664032 22.04664032\n",
            " 22.04664032 22.04664032 22.04664032 22.04664032 22.04664032 22.04664032\n",
            " 22.04664032 22.04664032 22.04664032 22.04664032 22.04664032 22.04664032\n",
            " 22.04664032 22.04664032 22.04664032 22.04664032 22.04664032 22.04664032\n",
            " 22.04664032 22.04664032 22.04664032 22.04664032 22.04664032 22.04664032\n",
            " 22.04664032 22.04664032 22.04664032 22.04664032 22.04664032 22.04664032\n",
            " 22.04664032 22.04664032 22.04664032 22.04664032 22.04664032 22.04664032\n",
            " 22.04664032 22.04664032 22.04664032 22.04664032 22.04664032 22.04664032\n",
            " 22.04664032 22.04664032 22.04664032 22.04664032 22.04664032 22.04664032\n",
            " 22.04664032 22.04664032 22.04664032 22.04664032 22.04664032 22.04664032\n",
            " 22.04664032 22.04664032 22.04664032 22.04664032 22.04664032 22.04664032\n",
            " 22.04664032 22.04664032 22.04664032 22.04664032 22.04664032 22.04664032\n",
            " 22.04664032 22.04664032 22.04664032 22.04664032 22.04664032 22.04664032\n",
            " 22.04664032 22.04664032 22.04664032 22.04664032 22.04664032 22.04664032\n",
            " 22.04664032 22.04664032 22.04664032 22.04664032 22.04664032 22.04664032\n",
            " 22.04664032 22.04664032 22.04664032 22.04664032 22.04664032 22.04664032\n",
            " 22.04664032 22.04664032 22.04664032 22.04664032 22.04664032 22.04664032\n",
            " 22.04664032 22.04664032 22.04664032 22.04664032 22.04664032 22.04664032\n",
            " 22.04664032 22.04664032 22.04664032 22.04664032 22.04664032 22.04664032\n",
            " 22.04664032 22.04664032 22.04664032 22.04664032 22.04664032 22.04664032\n",
            " 22.04664032 22.04664032 22.04664032 22.04664032 22.04664032 22.04664032\n",
            " 22.04664032 22.04664032 22.04664032 22.04664032 22.04664032 22.04664032\n",
            " 22.04664032 22.04664032 22.04664032 22.04664032 22.04664032 22.04664032\n",
            " 22.04664032 22.04664032 22.04664032 22.04664032 22.04664032 22.04664032\n",
            " 22.04664032 22.04664032 22.04664032 22.04664032 22.04664032 22.04664032\n",
            " 22.04664032 22.04664032 22.04664032 22.04664032 22.04664032 22.04664032\n",
            " 22.04664032 22.04664032 22.04664032 22.04664032 22.04664032 22.04664032\n",
            " 22.04664032 22.04664032 22.04664032 22.04664032 22.04664032 22.04664032\n",
            " 22.04664032 22.04664032 22.04664032 22.04664032 22.04664032 22.04664032\n",
            " 22.04664032 22.04664032 22.04664032 22.04664032 22.04664032 22.04664032\n",
            " 22.04664032 22.04664032 22.04664032 22.04664032 22.04664032 22.04664032\n",
            " 22.04664032 22.04664032 22.04664032 22.04664032 22.04664032 22.04664032\n",
            " 22.04664032 22.04664032 22.04664032 22.04664032 22.04664032 22.04664032\n",
            " 22.04664032 22.04664032 22.04664032 22.04664032 22.04664032 22.04664032\n",
            " 22.04664032 22.04664032 22.04664032 22.04664032 22.04664032 22.04664032\n",
            " 22.04664032 22.04664032 22.04664032 22.04664032 22.04664032 22.04664032\n",
            " 22.04664032 22.04664032 22.04664032 22.04664032 22.04664032 22.04664032\n",
            " 22.04664032 22.04664032 22.04664032 22.04664032 22.04664032 22.04664032\n",
            " 22.04664032 22.04664032 22.04664032 22.04664032 22.04664032 22.04664032\n",
            " 22.04664032 22.04664032 22.04664032 22.04664032 22.04664032 22.04664032\n",
            " 22.04664032 22.04664032 22.04664032 22.04664032 22.04664032 22.04664032\n",
            " 22.04664032 22.04664032 22.04664032 22.04664032 22.04664032 22.04664032\n",
            " 22.04664032]\n",
            "\n",
            "\n",
            "-0.010773786729562529\n"
          ],
          "name": "stdout"
        }
      ]
    },
    {
      "cell_type": "code",
      "metadata": {
        "id": "VyD62bFHw3hm",
        "colab_type": "code",
        "colab": {}
      },
      "source": [
        "# Excercise 4: Classification and regression machine learning algorithms"
      ],
      "execution_count": 0,
      "outputs": []
    },
    {
      "cell_type": "markdown",
      "metadata": {
        "id": "KY7Xxft4xPeA",
        "colab_type": "text"
      },
      "source": [
        "\n",
        "\n",
        "\n",
        "> **DECISION TREE ALGORITHM (DT)**\n",
        "\n",
        "\n",
        "Decision tree classifiers are attractive models when focusing on interpretability. The model breaks down data by making decision based on asking a series of question. Based on features in our training dataset, the decision tree model learns a series of questions to infer the class labels of the dataset.\n",
        "\n",
        "* Using decision tree algorithm we start at the tree root and split the data on the feature that results in the largest information gain (IG) \n",
        "\n",
        " IG is simply the difference between impurity of the parent node and the sum of child node impurities. The lower the child node impurities, the larger the IG. \n",
        "\n",
        " However, to reduce combinational search space, most libraries implement binary decision trees, where each parent node is split into two child nodes (D-left and D-right)\n",
        "\n",
        "* In an iterative process, we can then repeat this splitting procedure at each child node until the leaves are pure - means the training examples at each node all belong to the same class. \n",
        "* to avoid overfitting since the above step can result in a very deep tree with many modes, we typically prune the tree by setting a limit for max. depth of the tree\n",
        "\n",
        "\n",
        "\n",
        "> **SUPPORT VECTOR MACHINE ALGORITHM (SVM)**\n",
        "\n",
        "Support Vector Machines is considered to be a classification approach, it but can be employed in both types of classification and regression problems. It can easily handle multiple continuous and categorical variables. SVM constructs a hyperplane in multidimensional space to separate different classes. SVM generates optimal hyperplane in an iterative manner, which is used to minimize an error. The core idea of SVM is to find a maximum marginal hyperplane(MMH) that best divides the dataset into classes.\n",
        "\n",
        "The main objective is to segregate the given dataset in the best possible way. The distance between the either nearest points is known as the margin. The objective is to select a hyperplane with the maximum possible margin between support vectors in the given dataset. SVM searches for the maximum marginal hyperplane in the following steps:\n",
        "\n",
        "* Generate hyperplanes which segregates the classes in the best way. Left-hand side figure showing three hyperplanes black, blue and orange. Here, the blue and orange have higher classification error, but the black is separating the two classes correctly.\n",
        "\n",
        "* Select the right hyperplane with the maximum segregation from the either nearest data points as shown in the right-hand side figure.\n",
        "\n",
        "The SVM algorithm is implemented in practice using a kernel. A kernel transforms an input data space into the required form. SVM uses a technique called the kernel trick. Here, the kernel takes a low-dimensional input space and transforms it into a higher dimensional space. In other words, you can say that it converts nonseparable problem to separable problems by adding more dimension to it. It is most useful in non-linear separation problem. Kernel trick helps you to build a more accurate classifier.\n",
        "\n",
        "* Linear Kernel A linear kernel can be used as normal dot product any two given observations. The product between two vectors is the sum of the multiplication of each pair of input values.\n",
        "                   K(x, xi) = sum(x * xi)\n",
        "Where d is the degree of the polynomial. d=1 is similar to the linear transformation. The degree needs to be manually specified in the learning algorithm.\n",
        "*Polynomial Kernel A polynomial kernel is a more generalized form of the linear kernel. The polynomial kernel can distinguish curved or nonlinear input space.\n",
        "                   K(x,xi) = 1 + sum(x * xi)^d\n",
        "*Radial Basis Function Kernel The Radial basis function kernel is a popular kernel function commonly used in support vector machine classification. RBF can map an input space in infinite dimensional space.\n",
        "                   K(x,xi) = exp(-gamma * sum((x – xi^2))\n",
        "gamma is a parameter, which ranges from 0 to 1. A higher value of gamma will perfectly fit the training dataset, which causes over-fitting. Gamma=0.1 is considered to be a good default value. The value of gamma needs to be manually specified in the learning algorithm.\n",
        "\n",
        "> **LOGISTRIC REGRESSION ALGORITHM(LR)**\n",
        "\n",
        "The logistic regression is a predictive analysis.  Logistic regression is used to describe data and to explain the relationship between one dependent binary variable and one or more nominal, ordinal, interval or ratio-level independent variables.Logistic Regression is used when the dependent variable(target) is categorical.\n",
        "For example,\n",
        "* To predict whether an email is spam (1) or (0)\n",
        "* Whether the tumor is malignant (1) or not (0)\n",
        "\n",
        "> **K NEAREST NEIGHBOR ALGORITHM(KNN)**\n",
        "\n",
        "KNN is a non-parametric and lazy learning algorithm. Non-parametric means there is no assumption for underlying data distribution. In other words, the model structure determined from the dataset. This will be very helpful in practice where most of the real world datasets do not follow mathematical theoretical assumptions. Lazy algorithm means it does not need any training data points for model generation. All training data used in the testing phase. This makes training faster and testing phase slower and costlier.\n",
        "\n",
        "In KNN, K is the number of nearest neighbors. The number of neighbors is the core deciding factor. K is generally an odd number if the number of classes is 2. When K=1, then the algorithm is known as the nearest neighbor algorithm. This is the simplest case. Suppose P1 is the point, for which label needs to predict. First, you find the one closest point to P1 and then the label of the nearest point assigned to P1."
      ]
    },
    {
      "cell_type": "code",
      "metadata": {
        "id": "S8u3Oenp1wJ_",
        "colab_type": "code",
        "outputId": "65268ad2-d87b-415a-c4d7-c44f682fcb5d",
        "colab": {
          "base_uri": "https://localhost:8080/",
          "height": 603
        }
      },
      "source": [
        "from sklearn.model_selection import train_test_split\n",
        "# using train_test_split function, we randomly split the boston_X and boston_y arrays into 50% test data and 50% training data\n",
        "# using train_test_split function, we shuffle the training dataset internally before splitting\n",
        "# via random_state, we provided a fixed random seed (random_state=1) for internal pseudo-random generator used for shuffling dataset prior to splitting\n",
        "X_train,X_test,y_train,y_test = train_test_split(class_X, class_y, test_size=0.5, random_state=1)\n",
        "\n",
        "# DECISION TREE (DT)\n",
        "\n",
        "#import approriate library\n",
        "from sklearn.tree import DecisionTreeClassifier\n",
        "#train a decision tree of max. depth of 4, using Gini impurity as criterion for impurity\n",
        "DTclassifier = DecisionTreeClassifier(criterion = 'gini', max_depth=4, random_state=1) \n",
        "DTclassifier.fit(X_train, y_train)\n",
        "Y_pred = DTclassifier.predict(X_test)\n",
        "# To check the accuracy we need to import confusion_matrix method of metrics class. \n",
        "# The confusion matrix is a way of tabulating the number of mis-classifications, i.e., the number of predicted classes which ended up in a wrong classification bin based on the true classes.\n",
        "from sklearn.metrics import confusion_matrix\n",
        "cm = confusion_matrix(y_test, Y_pred)\n",
        "print('Decision Tree Confusion Matrix:\\n', cm)\n",
        "#Return the mean accuracy on the given test data and labels.\n",
        "DTscore = DTclassifier.score(X_test, y_test)\n",
        "print('Decision Tree Score:\\n', DTscore)\n",
        "print(\"\\n\")\n",
        "\n",
        "# SUPPORT VECTOR MACHINE(SVM)\n",
        "\n",
        "#Using SVC method of svm class to use Kernel SVM Algorithm\n",
        "from sklearn.svm import SVC\n",
        "kernel_SVM_classifier = SVC(kernel = 'rbf', random_state = 0)\n",
        "kernel_SVM_classifier.fit(X_train, y_train)\n",
        "Y1_pred = kernel_SVM_classifier.predict(X_test)\n",
        "from sklearn.metrics import confusion_matrix\n",
        "cm = confusion_matrix(y_test, Y1_pred)\n",
        "print('Kernel SVM Confusion Matrix:\\n', cm)\n",
        "#Return the mean accuracy on the given test data and labels.\n",
        "kernalSVMscore = kernel_SVM_classifier.score(X_test, y_test)\n",
        "print('kernal SVM Score:\\n', kernalSVMscore)\n",
        "print(\"\\n\")\n",
        "\n",
        "##Using SVC method of svm class to use Support Vector Machine Algorithm\n",
        "from sklearn.svm import SVC\n",
        "SVC_classifier = SVC(kernel = 'linear', random_state = 0)\n",
        "SVC_classifier.fit(X_train, y_train)\n",
        "Y2_pred = SVC_classifier.predict(X_test)\n",
        "from sklearn.metrics import confusion_matrix\n",
        "cm = confusion_matrix(y_test, Y2_pred)\n",
        "print('SVC Confusion Matrix:\\n', cm)\n",
        "#Return the mean accuracy on the given test data and labels.\n",
        "SVCscore = SVC_classifier.score(X_test, y_test)\n",
        "print('SVC Score:\\n', SVCscore)\n",
        "print(\"\\n\")\n",
        "\n",
        "#LOGISTIC REGRESSION (LR)\n",
        "\n",
        "from sklearn.linear_model import LogisticRegression\n",
        "LR_classifier = LogisticRegression(random_state = 0)\n",
        "LR_classifier.fit(X_train, y_train)\n",
        "Y3_pred = LR_classifier.predict(X_test)\n",
        "from sklearn.metrics import confusion_matrix\n",
        "cm = confusion_matrix(y_test, Y3_pred)\n",
        "print('LR Confusion Matrix:\\n', cm)\n",
        "#Return the mean accuracy on the given test data and labels.\n",
        "LRscore = LR_classifier.score(X_test, y_test)\n",
        "print('LR Score:\\n', LRscore)\n",
        "print(\"\\n\")\n",
        "\n",
        "#K NEAREST NEIGHBOR (KNN)\n",
        "\n",
        "# KNeighborsClassifier Method of neighbors class to use Nearest Neighbor algorithm\n",
        "from sklearn.neighbors import KNeighborsClassifier\n",
        "KNN_classifier = KNeighborsClassifier(n_neighbors = 5, metric = 'minkowski', p = 2)\n",
        "KNN_classifier.fit(X_train, y_train)\n",
        "Y4_pred = KNN_classifier.predict(X_test)\n",
        "from sklearn.metrics import confusion_matrix\n",
        "cm = confusion_matrix(y_test, Y4_pred)\n",
        "print('KNN Confusion Matrix:\\n', cm)\n",
        "#Return the mean accuracy on the given test data and labels.\n",
        "KNNscore = KNN_classifier.score(X_test, y_test)\n",
        "print('KNN Score:\\n', KNNscore)"
      ],
      "execution_count": 48,
      "outputs": [
        {
          "output_type": "stream",
          "text": [
            "Decision Tree Confusion Matrix:\n",
            " [[ 93  10]\n",
            " [ 23 159]]\n",
            "Decision Tree Score:\n",
            " 0.8842105263157894\n",
            "\n",
            "\n",
            "Kernel SVM Confusion Matrix:\n",
            " [[  0 103]\n",
            " [  0 182]]\n",
            "kernal SVM Score:\n",
            " 0.6385964912280702\n",
            "\n",
            "\n",
            "SVC Confusion Matrix:\n",
            " [[ 94   9]\n",
            " [ 11 171]]\n",
            "SVC Score:\n",
            " 0.9298245614035088\n",
            "\n",
            "\n",
            "LR Confusion Matrix:\n",
            " [[ 90  13]\n",
            " [  8 174]]\n",
            "LR Score:\n",
            " 0.9263157894736842\n",
            "\n",
            "\n",
            "KNN Confusion Matrix:\n",
            " [[ 86  17]\n",
            " [ 10 172]]\n",
            "KNN Score:\n",
            " 0.9052631578947369\n"
          ],
          "name": "stdout"
        }
      ]
    },
    {
      "cell_type": "code",
      "metadata": {
        "id": "I9ZvhJA85ZuL",
        "colab_type": "code",
        "outputId": "23e01102-0320-4bb5-c05d-d9efece8fac8",
        "colab": {
          "base_uri": "https://localhost:8080/",
          "height": 610
        }
      },
      "source": [
        "#Decision tree algorithm and plotting decision surface of decision tree\n",
        "\n",
        "from sklearn.datasets import load_iris\n",
        "iris_data = load_iris()\n",
        "# features\n",
        "iris_X = pd.DataFrame(iris_data.data, columns = iris_data.feature_names)\n",
        "# labels\n",
        "iris_y = iris_data.target\n",
        "# check the data has loaded successfully \n",
        "print(iris_X.shape)\n",
        "print(iris_y.shape)\n",
        "print(iris_data.feature_names)\n",
        "print('classlabels:', np.unique(iris_y))\n",
        "from sklearn.model_selection import train_test_split\n",
        "#using train_test_split function, we randomly split the boston_X and boston_y arrays into 50% test data and 50% training data\n",
        "# using train_test_split function, we shuffle the training dataset internally before splitting\n",
        "# via random_state, we provided a fixed random seed (random_state=1) for internal pseudo-random generator used for shuffling dataset prior to splitting\n",
        "iris_X_train,iris_X_test, iris_y_train, iris_y_test = train_test_split(iris_X,iris_y, test_size=0.5, random_state=1)\n",
        "#import approriate library\n",
        "from sklearn.tree import DecisionTreeClassifier\n",
        "#train a decision tree of max. depth of 4, using Gini impurity as criterion for impurity\n",
        "tree_model = DecisionTreeClassifier(criterion = 'gini', max_depth=4, random_state=1) \n",
        "treefit = tree_model.fit(iris_X_train, iris_y_train)\n",
        "X_combined = np.vstack((iris_X_train, iris_X_test))\n",
        "y_combined = np.hstack((iris_y_train, iris_y_test))\n",
        "\n",
        "#decision surface of a decision tree\n",
        "from sklearn.tree import plot_tree\n",
        "# Parameters\n",
        "n_classes = 3\n",
        "plot_colors = \"ryb\"\n",
        "plot_step = 0.02\n",
        "for pairidx, pair in enumerate([[0, 1], [0, 2], [0, 3],\n",
        "                                [1, 2], [1, 3], [2, 3]]):\n",
        "    # We only take the two corresponding features\n",
        "    iris_X = iris_data.data[:, pair]\n",
        "    iris_y = iris_data.target\n",
        "    # Train\n",
        "    clf = DecisionTreeClassifier().fit(iris_X, iris_y)\n",
        "\n",
        "    # Plot the decision boundary\n",
        "    plt.subplot(2, 3, pairidx + 1)\n",
        "\n",
        "    x_min, x_max = iris_X[:, 0].min() - 1, iris_X[:, 0].max() + 1\n",
        "    y_min, y_max = iris_X[:, 1].min() - 1, iris_X[:, 1].max() + 1\n",
        "    xx, yy = np.meshgrid(np.arange(x_min, x_max, plot_step),\n",
        "                         np.arange(y_min, y_max, plot_step))\n",
        "    plt.tight_layout(h_pad=0.5, w_pad=0.5, pad=2.5)\n",
        "\n",
        "    Z = clf.predict(np.c_[xx.ravel(), yy.ravel()])\n",
        "    Z = Z.reshape(xx.shape)\n",
        "    cs = plt.contourf(xx, yy, Z, cmap=plt.cm.RdYlBu)\n",
        "\n",
        "    plt.xlabel(iris_data.feature_names[pair[0]])\n",
        "    plt.ylabel(iris_data.feature_names[pair[1]])\n",
        "\n",
        "    # Plot the training points\n",
        "    for i, color in zip(range(n_classes), plot_colors):\n",
        "        idx = np.where(iris_y == i)\n",
        "        plt.scatter(iris_X[idx, 0], iris_X[idx, 1], c=color, label=iris_data.target_names[i],\n",
        "                    cmap=plt.cm.RdYlBu, edgecolor='black', s=15)\n",
        "\n",
        "plt.suptitle(\"Decision surface of a decision tree using paired features\")\n",
        "plt.legend(loc='lower right', borderpad=0, handletextpad=0)\n",
        "plt.axis(\"tight\")\n",
        "\n",
        "plt.figure()\n",
        "clf = DecisionTreeClassifier().fit(iris_data.data, iris_data.target)\n",
        "plot_tree(clf, filled=True)\n",
        "plt.show()\n",
        "\n"
      ],
      "execution_count": 49,
      "outputs": [
        {
          "output_type": "stream",
          "text": [
            "(150, 4)\n",
            "(150,)\n",
            "['sepal length (cm)', 'sepal width (cm)', 'petal length (cm)', 'petal width (cm)']\n",
            "classlabels: [0 1 2]\n"
          ],
          "name": "stdout"
        },
        {
          "output_type": "display_data",
          "data": {
            "image/png": "[encoded data removed]",
            "text/plain": [
              "<Figure size 432x288 with 6 Axes>"
            ]
          },
          "metadata": {
            "tags": []
          }
        },
        {
          "output_type": "display_data",
          "data": {
            "image/png": "[encoded data removed]",
            "text/plain": [
              "<Figure size 432x288 with 1 Axes>"
            ]
          },
          "metadata": {
            "tags": []
          }
        }
      ]
    },
    {
      "cell_type": "code",
      "metadata": {
        "id": "D6smKPvKwjjT",
        "colab_type": "code",
        "outputId": "e5335afb-4b61-4c95-829e-fb62372042f8",
        "colab": {
          "base_uri": "https://localhost:8080/",
          "height": 194
        }
      },
      "source": [
        "# Excercise 5 - Regularization\n",
        "\n",
        "# For regularization in regression we instantiate new models\n",
        "# Lasso regression is used for L1 Regularization \n",
        "#import appropriate statement\n",
        "from sklearn.linear_model import Lasso\n",
        "\n",
        "#create lasso regression with alpha value - this is our hyperparameter\n",
        "regression = Lasso(alpha=0.5)\n",
        "#fit the linear regression\n",
        "model_L1 = regression.fit(class_X, class_y)\n",
        "#Ride regression is L2 Regularization\n",
        "#import statement\n",
        "from sklearn.linear_model import Ridge\n",
        "#create ridge regression with an alpha value\n",
        "regression = Ridge(alpha=0.5)\n",
        "#Fit the linear regression\n",
        "model_l2 = regression.fit(class_X, class_y)\n",
        "\n",
        "# Part 1\n",
        "# Get a score for both the models. \n",
        "# Compare the results and see if one type of regularization works better than another.\n",
        "Lasso_score = model_L1.score(X_test, y_test)\n",
        "print('Lasso Score:\\n', Lasso_score)\n",
        "Ridge_score = model_l2.score(X_test, y_test)\n",
        "print('Ridge Score:\\n', Ridge_score)\n",
        "\n",
        "# Part 2\n",
        "# Implement ElasticNet estimator\n",
        "from sklearn.linear_model import ElasticNet\n",
        "enet = ElasticNet(alpha=0.5, l1_ratio=0.7)\n",
        "model_l3 = enet.fit(class_X, class_y)\n",
        "enet_score = model_l3.score(X_test, y_test)\n",
        "print('enet Score:\\n', enet_score)\n",
        "\n",
        "# Part3\n",
        "# RidgeCV and LassoCV to explore the best regularization parameters for each estimator\n",
        "from sklearn.linear_model import RidgeCV\n",
        "ridgecv = RidgeCV(alphas=[1e-3, 1e-2, 1e-1, 1])\n",
        "model_l4 = ridgecv.fit(class_X, class_y)\n",
        "ridgecv_score = model_l4.score(class_X, class_y)\n",
        "print('RidgeCV Score:\\n', ridgecv_score)\n",
        "\n",
        "from sklearn.linear_model import LassoCV\n",
        "lassocv = LassoCV(cv=5, random_state=0)\n",
        "model_l5 = lassocv.fit(class_X, class_y)\n",
        "lassocv_score = model_l5.score(class_X, class_y)\n",
        "print('LassoCV Score:\\n', lassocv_score)\n",
        "\n",
        "# Part 4\n",
        "# Which parameters can be set to help prevent overfitting in DecisionTreeClassifier\n",
        "# To avoid overfitting due to very deep tree with many modes, we can typically prune setting the minimum number of samples required at a leaf node or setting the maximum depth of the tree. "
      ],
      "execution_count": 50,
      "outputs": [
        {
          "output_type": "stream",
          "text": [
            "Lasso Score:\n",
            " 0.5824055808265075\n",
            "Ridge Score:\n",
            " 0.7114428906761474\n",
            "enet Score:\n",
            " 0.6027404700941736\n",
            "RidgeCV Score:\n",
            " 0.7699548108739226\n",
            "LassoCV Score:\n",
            " 0.6617948384330969\n"
          ],
          "name": "stdout"
        }
      ]
    },
    {
      "cell_type": "code",
      "metadata": {
        "id": "dRq6dVKlgKlp",
        "colab_type": "code",
        "outputId": "75f0f3ab-1087-47db-d047-bc381b902360",
        "colab": {
          "base_uri": "https://localhost:8080/",
          "height": 783
        }
      },
      "source": [
        "# Excercise 6 - Optimizing parameters\n",
        "# Implementation of RandomizedSearchCV - use this method to search over defined hyperparameters, like GridSearchCV, however a fixed number of parameters are sampled, as defined by n_iter parameter.\n",
        "# import libraries - note we use scipy for generating a uniform distribution\n",
        "# hide all warnings\n",
        "import warnings\n",
        "warnings.filterwarnings('ignore')\n",
        "from scipy.stats import uniform\n",
        "from sklearn.model_selection import RandomizedSearchCV\n",
        "#create logistic regression\n",
        "logistic = LogisticRegression()\n",
        "from pprint import pprint\n",
        "print('Parameters currently in use:\\n')\n",
        "pprint(logistic.get_params())\n",
        "# creare hyperparameters as a list, as in type regularization penalty\n",
        "penalty = ['l1', 'l2']\n",
        "# or as a distributor of values to sample from -'C' is the hyperparameter controlling the size of the regularisation penalty\n",
        "C = uniform(loc=0, scale=4)\n",
        "# we need to pass these parameters as a dictornary of {param_name: values}\n",
        "hyperparameters = dict(C=C, penalty=penalty)\n",
        "print(hyperparameters)\n",
        "#instantiate our model\n",
        "randomizedsearch = RandomizedSearchCV(logistic, hyperparameters, random_state=1, n_iter=200, cv=5, verbose=0, n_jobs=-1)\n",
        "#fit the model\n",
        "best_model = randomizedsearch.fit(class_X, class_y)\n",
        "print(best_model)\n",
        "\n",
        "# Part 1\n",
        "# find out what the best parameters were\n",
        "# predict using the best estimator returned by the search\n",
        "\n",
        "# best_params = Parameter setting that gave the best results on the hold out data.\n",
        "bestparam = best_model.best_params_\n",
        "print('Best Parameters:\\n', bestparam)\n",
        "# best_estimator = Estimator that was chosen by the search, i.e. estimator which gave highest score (or smallest loss if specified) on the left out data.\n",
        "bestestimator = best_model.best_estimator_\n",
        "print('best estimator:\\n', bestestimator)\n",
        "# best_score = Mean cross-validated score of the best_estimator.\n",
        "bestestimator_score = bestestimator.score(class_X, class_y)\n",
        "print('Best Estimator Score:\\n', bestestimator_score)"
      ],
      "execution_count": 51,
      "outputs": [
        {
          "output_type": "stream",
          "text": [
            "Parameters currently in use:\n",
            "\n",
            "{'C': 1.0,\n",
            " 'class_weight': None,\n",
            " 'dual': False,\n",
            " 'fit_intercept': True,\n",
            " 'intercept_scaling': 1,\n",
            " 'l1_ratio': None,\n",
            " 'max_iter': 100,\n",
            " 'multi_class': 'warn',\n",
            " 'n_jobs': None,\n",
            " 'penalty': 'l2',\n",
            " 'random_state': None,\n",
            " 'solver': 'warn',\n",
            " 'tol': 0.0001,\n",
            " 'verbose': 0,\n",
            " 'warm_start': False}\n",
            "{'C': <scipy.stats._distn_infrastructure.rv_frozen object at 0x7fa077ec8e10>, 'penalty': ['l1', 'l2']}\n",
            "RandomizedSearchCV(cv=5, error_score='raise-deprecating',\n",
            "                   estimator=LogisticRegression(C=1.0, class_weight=None,\n",
            "                                                dual=False, fit_intercept=True,\n",
            "                                                intercept_scaling=1,\n",
            "                                                l1_ratio=None, max_iter=100,\n",
            "                                                multi_class='warn', n_jobs=None,\n",
            "                                                penalty='l2', random_state=None,\n",
            "                                                solver='warn', tol=0.0001,\n",
            "                                                verbose=0, warm_start=False),\n",
            "                   iid='warn', n_iter=200, n_jobs=-1,\n",
            "                   param_distributions={'C': <scipy.stats._distn_infrastructure.rv_frozen object at 0x7fa077ec8e10>,\n",
            "                                        'penalty': ['l1', 'l2']},\n",
            "                   pre_dispatch='2*n_jobs', random_state=1, refit=True,\n",
            "                   return_train_score=False, scoring=None, verbose=0)\n",
            "Best Parameters:\n",
            " {'C': 1.828819231947953, 'penalty': 'l2'}\n",
            "best estimator:\n",
            " LogisticRegression(C=1.828819231947953, class_weight=None, dual=False,\n",
            "                   fit_intercept=True, intercept_scaling=1, l1_ratio=None,\n",
            "                   max_iter=100, multi_class='warn', n_jobs=None, penalty='l2',\n",
            "                   random_state=None, solver='warn', tol=0.0001, verbose=0,\n",
            "                   warm_start=False)\n",
            "Best Estimator Score:\n",
            " 0.961335676625659\n"
          ],
          "name": "stdout"
        }
      ]
    },
    {
      "cell_type": "code",
      "metadata": {
        "id": "txrOc_sIUAki",
        "colab_type": "code",
        "colab": {}
      },
      "source": [
        "# Part 2: Implement RandomSearchCV on the Boston dataset\n",
        "# hide all warnings\n",
        "import warnings\n",
        "warnings.filterwarnings('ignore')\n",
        "from sklearn.linear_model import Lasso\n",
        "from scipy.stats import uniform # used to generate parameters\n",
        "from sklearn.model_selection import RandomizedSearchCV\n",
        "# instantiate model\n",
        "LASSO = Lasso()\n",
        "from pprint import pprint\n",
        "print('Parameters currently in use:\\n')\n",
        "pprint(LASSO.get_params())\n",
        "# generate hyper-parameters\n",
        "alpha = [0.1,0.2,0.3,0.4,0.5,1]\n",
        "fit_intercept = [True, False]\n",
        "# create  a dictionary of hyperparameters\n",
        "hyperparameters = dict(alpha=alpha, fit_intercept=fit_intercept)\n",
        "# instantiate random search model\n",
        "randomizedsearch = RandomizedSearchCV(LASSO, hyperparameters, random_state=1, n_iter=100, cv=5, verbose=0,n_jobs=-1)\n",
        "# fit the model to the data\n",
        "best_model_boston = randomizedsearch.fit(boston_X, boston_y)\n",
        "bestparam_boston = best_model_boston.best_params_\n",
        "print('Boston Best Parameters:\\n', bestparam_boston)\n",
        "# best_estimator = Estimator that was chosen by the search, i.e. estimator which gave highest score (or smallest loss if specified) on the left out data.\n",
        "bestestimator_boston = best_model_boston.best_estimator_\n",
        "print('Boston best estimator:\\n', bestestimator_boston)\n",
        "# best_score = Mean cross-validated score of the best_estimator.\n",
        "bestestimator_score = bestestimator_boston.score(boston_X, boston_y)\n",
        "print('Boston Best Estimator Score:\\n', bestestimator_score)"
      ],
      "execution_count": 0,
      "outputs": []
    },
    {
      "cell_type": "code",
      "metadata": {
        "id": "J23ludoFYP8w",
        "colab_type": "code",
        "colab": {}
      },
      "source": [
        "# Excercise 7- Ensemble models\n",
        "# They combine different classifiers into a meta-classifier that has better generalization performance than each individual classifier alone\n",
        "# Several different approaches to achieve this, including majority voting ensemble methods, which we select the class label that has been predicted by the majority of classifiers.\n",
        "# The ensemble can be built from different classification algorithms, such as decision trees, support vector machines, logistic regression classifiers, and so on. Alternatively, we can also use the same base classification algorithm, fitting different subsets of the training set.\n",
        "# Indeed, Majority voting will work best if the classifiers used are different from each other and/or trained on different datasets (or subsets of the same data) in order for their errors to be uncorrelated.\n",
        "\n",
        "#import classifiers\n",
        "from sklearn.ensemble import RandomForestClassifier\n",
        "from sklearn.ensemble import VotingClassifier\n",
        "from sklearn.svm import SVC\n",
        "from sklearn.metrics import accuracy_score\n",
        "\n",
        "# create models\n",
        "log_clf = LogisticRegression()\n",
        "rnd_clf = RandomForestClassifier()\n",
        "svm_clf = SVC()\n",
        "\n",
        "# An ensemble of them\n",
        "# here we select hard voting, which returns the majority of the predictions, not an average of probabilities\n",
        "voting_clf = VotingClassifier(estimators=[('lr', log_clf), ('rf', rnd_clf), ('svm', svm_clf)], voting='hard')\n",
        "\n",
        "# we can cycle throgh individual estimators\n",
        "for clf in (log_clf, rnd_clf, svm_clf, voting_clf):\n",
        "\n",
        "#fit the training set\n",
        "  clf.fit(X_train, y_train)\n",
        "\n",
        "#predict\n",
        "  y_pred = clf.predict(X_test)\n",
        "  print(clf.__class__.__name__, accuracy_score(y_test, y_pred))\n"
      ],
      "execution_count": 0,
      "outputs": []
    },
    {
      "cell_type": "code",
      "metadata": {
        "id": "4_QIdPxZeKGk",
        "colab_type": "code",
        "colab": {
          "base_uri": "https://localhost:8080/",
          "height": 443
        },
        "outputId": "61cc0508-5ca0-4a06-b1f6-e743a7a18e74"
      },
      "source": [
        "# Part 1 -Implement Soft voting\n",
        "# If all the classifiers used in the ensemble are able to estimate class probabilities (they have a predict_proba() method that can be called on the estimator), then you can tell Scikit-Learn to predict the class with the highest class probability, averaged over all the individual classifiers. It often achieves higher performance than hard voting because it gives more weight to highly confident votes.\n",
        "# Replace voting=\"hard\" with voting=\"soft\" and ensure that all your classifiers can estimate class probabilities.\n",
        "# If you use the SVC estimator, you need to set probability = True, which will make the SVC class use cross-validation to estimate class probabilities and add a predict_proba() method.\n",
        "#import classifiers\n",
        "from sklearn.ensemble import RandomForestClassifier\n",
        "from sklearn.ensemble import VotingClassifier\n",
        "from sklearn.svm import SVC\n",
        "from sklearn.metrics import accuracy_score\n",
        "# create models\n",
        "log_clf = LogisticRegression()\n",
        "rnd_clf = RandomForestClassifier()\n",
        "svm_clf = SVC(probability=True)\n",
        "\n",
        "# An ensemble of them\n",
        "# here we select hard voting, which returns the majority of the predictions, not an average of probabilities\n",
        "voting_clf = VotingClassifier(estimators=[('lr', log_clf), ('rf', rnd_clf), ('svm', svm_clf)], voting='soft')\n",
        "\n",
        "# we can cycle throgh individual estimators\n",
        "for clf in (log_clf, rnd_clf, svm_clf, voting_clf):\n",
        "\n",
        "#fit the training set\n",
        "  clf.fit(X_train, y_train)\n",
        "\n",
        "#predict\n",
        "  y_pred_probabilties = clf.predict_proba(X_test)\n",
        "  print(y_pred_probabilties[0:5])\n",
        "  y_pred = clf.predict(X_test)\n",
        "  print(clf.__class__.__name__, accuracy_score(y_test, y_pred))\n",
        "  "
      ],
      "execution_count": 28,
      "outputs": [
        {
          "output_type": "stream",
          "text": [
            "[[2.54857026e-01 7.45142974e-01]\n",
            " [8.10150896e-01 1.89849104e-01]\n",
            " [1.17714770e-04 9.99882285e-01]\n",
            " [9.99833583e-01 1.66417496e-04]\n",
            " [7.12150048e-01 2.87849952e-01]]\n",
            "LogisticRegression 0.9263157894736842\n",
            "[[0.7 0.3]\n",
            " [0.9 0.1]\n",
            " [0.  1. ]\n",
            " [0.9 0.1]\n",
            " [0.4 0.6]]\n",
            "RandomForestClassifier 0.9263157894736842\n",
            "[[0.39458009 0.60541991]\n",
            " [0.39457771 0.60542229]\n",
            " [0.35463051 0.64536949]\n",
            " [0.3945775  0.6054225 ]\n",
            " [0.3945775  0.6054225 ]]\n",
            "SVC 0.6385964912280702\n",
            "[[0.38524109 0.61475891]\n",
            " [0.70367136 0.29632864]\n",
            " [0.11633887 0.88366113]\n",
            " [0.70023216 0.29976784]\n",
            " [0.50433765 0.49566235]]\n",
            "VotingClassifier 0.9333333333333333\n"
          ],
          "name": "stdout"
        }
      ]
    },
    {
      "cell_type": "code",
      "metadata": {
        "id": "FJDKGlfsogkn",
        "colab_type": "code",
        "colab": {
          "base_uri": "https://localhost:8080/",
          "height": 52
        },
        "outputId": "e21af88c-c99e-40e7-930f-89a681434fd3"
      },
      "source": [
        "from sklearn.ensemble import RandomForestRegressor\n",
        "from sklearn.linear_model import LinearRegression\n",
        "from sklearn.ensemble import VotingRegressor\n",
        "from sklearn.svm import SVR\n",
        "reg1 = SVR(C=1.0, epsilon=0.2)\n",
        "reg2 = RandomForestRegressor(random_state=1, n_estimators=10)\n",
        "reg3 = LinearRegression()\n",
        "ereg = VotingRegressor(estimators=[('SV', reg1), ('rf', reg2), ('lr', reg3)])\n",
        "ereg = ereg.fit(boston_X_train, boston_y_train)\n",
        "y_pred = ereg.predict(boston_X_test)\n",
        "boston_score = ereg.score(boston_X_test, boston_y_test)\n",
        "print('Boston Score:\\n', boston_score)"
      ],
      "execution_count": 27,
      "outputs": [
        {
          "output_type": "stream",
          "text": [
            "Boston Score:\n",
            " 0.6787662605280083\n"
          ],
          "name": "stdout"
        }
      ]
    },
    {
      "cell_type": "code",
      "metadata": {
        "id": "bEitRvUIvzEX",
        "colab_type": "code",
        "colab": {}
      },
      "source": [
        "# Excercise 8 - Building Pipelines\n",
        "# Build a pipeline so that many of the steps we have covered to now can be implemented in one step, and be applied to the training and testing set without repeating code.\n",
        "# import the libraries - these are dependent on what we wish to implement in our pipelines\n",
        "from sklearn.preprocessing import StandardScaler\n",
        "from sklearn.decomposition import PCA\n",
        "from sklearn.linear_model import LogisticRegression\n",
        "# this is the pipeline class required to implement all pipelines\n",
        "from sklearn.pipeline import make_pipeline\n",
        "# here we instantiate the pipeline with our methods\n",
        "# takes an arbitary number of transfomers and ends with an estimator\n",
        "pipe_lr = make_pipeline(StandardScaler(), PCA(n_components=2), LogisticRegression(random_state=1))  \n",
        "# here we fit our pipeline to the data, so that the steps above are executed on the training set\n",
        "pipe_lr.fit(X_train, y_train)\n",
        "# here we call the predict method on our pipeline model against the test set \n",
        "y_pred = pipe_lr.predict(X_test)\n",
        "# and print out the result\n",
        "print('Test Accuracy: %.3f' % accuracy_score(y_test, y_pred)) "
      ],
      "execution_count": 0,
      "outputs": []
    },
    {
      "cell_type": "code",
      "metadata": {
        "id": "KsU_3T-bw29G",
        "colab_type": "code",
        "colab": {
          "base_uri": "https://localhost:8080/",
          "height": 52
        },
        "outputId": "69fcf505-b421-4e0a-f913-e0eea12d4aa1"
      },
      "source": [
        "# Implement a pipeline on the classification dataset\n",
        "# Implement K-Fold Cross Validation - randomly split the training dataset into k-folds without replacement, where k-1 folds are used for the model training \n",
        "# and one fold is used for performance evaluation. This procedure is repeated k-times so that we obtain k models and performance estimates\n",
        "\n",
        "## K-Fold-CV is used for model tuning - finding the optimatal hyperameter values that yield a satisfying generalization performance\n",
        "\n",
        "from sklearn.model_selection import KFold\n",
        "from sklearn.preprocessing import MinMaxScaler\n",
        "from sklearn.model_selection import cross_val_score\n",
        "from sklearn.decomposition import PCA\n",
        "from sklearn.linear_model import LogisticRegression\n",
        "# 5-fold cross-validation on our dataset\n",
        "kf = KFold(n_splits=5, random_state=1).split(X_train, y_train)\n",
        "# pipeline class required to implement all pipelines\n",
        "from sklearn.pipeline import make_pipeline\n",
        "# here we instantiate the pipeline with our methods\n",
        "# scaling features to lie between a given minimum and maximum value,between zero and one\n",
        "pipe_KFCV = make_pipeline(MinMaxScaler(), PCA(n_components=5), LogisticRegression(random_state=1))  \n",
        "# here we fit our pipeline to the data, so that the steps above are executed on the training set\n",
        "pipe_KFCV.fit(X_train, y_train)\n",
        "# here we call the predict method on our pipeline model against the test set \n",
        "y_pred = pipe_KFCV.predict(X_test)\n",
        "#print the K-Fold-CV score\n",
        "scores = cross_val_score(estimator=pipe_KFCV, X=X_train, y=y_train, cv=kf, n_jobs=1)\n",
        "print('K Fold-CV score: %s' % scores)\n",
        "# and print out the result\n",
        "print('Test Accuracy: %.3f' % accuracy_score(y_test, y_pred)) "
      ],
      "execution_count": 59,
      "outputs": [
        {
          "output_type": "stream",
          "text": [
            "K Fold-CV score: [0.96491228 0.96491228 1.         0.96491228 0.96428571]\n",
            "Test Accuracy: 0.944\n"
          ],
          "name": "stdout"
        }
      ]
    }
  ]
}