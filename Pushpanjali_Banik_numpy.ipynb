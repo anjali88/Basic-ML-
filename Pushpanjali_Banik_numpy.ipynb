{
  "nbformat": 4,
  "nbformat_minor": 0,
  "metadata": {
    "colab": {
      "name": "Untitled2.ipynb",
      "provenance": [],
      "collapsed_sections": [],
      "include_colab_link": true
    },
    "kernelspec": {
      "name": "python3",
      "display_name": "Python 3"
    }
  },
  "cells": [
    {
      "cell_type": "markdown",
      "metadata": {
        "id": "view-in-github",
        "colab_type": "text"
      },
      "source": [
        "<a href=\"https://colab.research.google.com/github/anjali88/Basic-ML-/blob/master/Pushpanjali_Banik_numpy.ipynb\" target=\"_parent\"><img src=\"https://colab.research.google.com/assets/colab-badge.svg\" alt=\"Open In Colab\"/></a>"
      ]
    },
    {
      "cell_type": "code",
      "metadata": {
        "id": "MRVDiia3KG0J",
        "colab_type": "code",
        "colab": {
          "base_uri": "https://localhost:8080/",
          "height": 51
        },
        "outputId": "93484341-65a2-4517-a71e-8568c360e812"
      },
      "source": [
        "#Excercise 1 - Demo difference between numpy and python\n",
        "#import numpy\n",
        "import numpy as np\n",
        "my_arr = np.arange(1000000) # create numpy array\n",
        "my_list = list(range(1000000)) #create python list with same values but it is not stored as numpy array\n",
        "\n",
        "# computationl time in numpy\n",
        "%time my_arr2 = my_arr * 2"
      ],
      "execution_count": 4,
      "outputs": [
        {
          "output_type": "stream",
          "text": [
            "CPU times: user 2.03 ms, sys: 6.45 ms, total: 8.49 ms\n",
            "Wall time: 8.28 ms\n"
          ],
          "name": "stdout"
        }
      ]
    },
    {
      "cell_type": "code",
      "metadata": {
        "id": "5Dp5qERGK_Bk",
        "colab_type": "code",
        "colab": {
          "base_uri": "https://localhost:8080/",
          "height": 51
        },
        "outputId": "09f9bc19-d8b5-4c7b-c0b3-e22cccc6215c"
      },
      "source": [
        "# computationl time in python\n",
        "%time my_list2 = [x *2 for x in my_list]"
      ],
      "execution_count": 5,
      "outputs": [
        {
          "output_type": "stream",
          "text": [
            "CPU times: user 58.5 ms, sys: 56.2 ms, total: 115 ms\n",
            "Wall time: 119 ms\n"
          ],
          "name": "stdout"
        }
      ]
    },
    {
      "cell_type": "code",
      "metadata": {
        "id": "CM0opuBTLg_W",
        "colab_type": "code",
        "colab": {
          "base_uri": "https://localhost:8080/",
          "height": 34
        },
        "outputId": "cdf99f14-c993-485c-c4a0-78a7eef80644"
      },
      "source": [
        "# Excercise 2.1 - Creating arrays\n",
        "# create an array by passin in values\n",
        "a = np.array([0,2,4])\n",
        "a"
      ],
      "execution_count": 6,
      "outputs": [
        {
          "output_type": "execute_result",
          "data": {
            "text/plain": [
              "array([0, 2, 4])"
            ]
          },
          "metadata": {
            "tags": []
          },
          "execution_count": 6
        }
      ]
    },
    {
      "cell_type": "code",
      "metadata": {
        "id": "tKryqvacL70l",
        "colab_type": "code",
        "colab": {
          "base_uri": "https://localhost:8080/",
          "height": 51
        },
        "outputId": "fad4ab23-e08e-4bd7-fe77-baa75a72d24c"
      },
      "source": [
        "#create 2D array\n",
        "b = np.array([[0,2,4], [1,3,5]])\n",
        "b"
      ],
      "execution_count": 7,
      "outputs": [
        {
          "output_type": "execute_result",
          "data": {
            "text/plain": [
              "array([[0, 2, 4],\n",
              "       [1, 3, 5]])"
            ]
          },
          "metadata": {
            "tags": []
          },
          "execution_count": 7
        }
      ]
    },
    {
      "cell_type": "code",
      "metadata": {
        "id": "skvy3KUcMIAk",
        "colab_type": "code",
        "colab": {
          "base_uri": "https://localhost:8080/",
          "height": 68
        },
        "outputId": "e6399f3a-3330-44d8-8819-9d177013281a"
      },
      "source": [
        "#create an array of all zeros, with three rows of three column each\n",
        "c = np.zeros((3,3))\n",
        "c"
      ],
      "execution_count": 8,
      "outputs": [
        {
          "output_type": "execute_result",
          "data": {
            "text/plain": [
              "array([[0., 0., 0.],\n",
              "       [0., 0., 0.],\n",
              "       [0., 0., 0.]])"
            ]
          },
          "metadata": {
            "tags": []
          },
          "execution_count": 8
        }
      ]
    },
    {
      "cell_type": "code",
      "metadata": {
        "id": "qcwPSHzKMTh7",
        "colab_type": "code",
        "colab": {
          "base_uri": "https://localhost:8080/",
          "height": 51
        },
        "outputId": "53711593-3b6f-485f-95e2-7d6c871c9b14"
      },
      "source": [
        "#create a 2x2 constant array\n",
        "d = np.ones((2,2))\n",
        "d"
      ],
      "execution_count": 14,
      "outputs": [
        {
          "output_type": "execute_result",
          "data": {
            "text/plain": [
              "array([[1., 1.],\n",
              "       [1., 1.]])"
            ]
          },
          "metadata": {
            "tags": []
          },
          "execution_count": 14
        }
      ]
    },
    {
      "cell_type": "code",
      "metadata": {
        "id": "Cxmm-zbyMoE5",
        "colab_type": "code",
        "colab": {
          "base_uri": "https://localhost:8080/",
          "height": 68
        },
        "outputId": "34f6546d-af30-40bc-f97a-844329be0990"
      },
      "source": [
        "#create a 3x3 constant array\n",
        "e = np.full((3,3), 6)\n",
        "e\n"
      ],
      "execution_count": 16,
      "outputs": [
        {
          "output_type": "execute_result",
          "data": {
            "text/plain": [
              "array([[6, 6, 6],\n",
              "       [6, 6, 6],\n",
              "       [6, 6, 6]])"
            ]
          },
          "metadata": {
            "tags": []
          },
          "execution_count": 16
        }
      ]
    },
    {
      "cell_type": "code",
      "metadata": {
        "id": "lhJWbeM-NH4a",
        "colab_type": "code",
        "colab": {
          "base_uri": "https://localhost:8080/",
          "height": 85
        },
        "outputId": "d86c9d0e-7843-45aa-9395-e8a002093b42"
      },
      "source": [
        "#create a 4x3 array filled with random values\n",
        "f = np.random.random((4,3))\n",
        "f"
      ],
      "execution_count": 17,
      "outputs": [
        {
          "output_type": "execute_result",
          "data": {
            "text/plain": [
              "array([[0.88481858, 0.33058435, 0.99819552],\n",
              "       [0.44153579, 0.76130142, 0.89379922],\n",
              "       [0.92501178, 0.45491338, 0.04411624],\n",
              "       [0.55501406, 0.30195189, 0.10015048]])"
            ]
          },
          "metadata": {
            "tags": []
          },
          "execution_count": 17
        }
      ]
    },
    {
      "cell_type": "code",
      "metadata": {
        "id": "coXPVfAWNU_w",
        "colab_type": "code",
        "colab": {
          "base_uri": "https://localhost:8080/",
          "height": 68
        },
        "outputId": "228deae3-63fd-4318-dc96-7504bca2b337"
      },
      "source": [
        "#creare a 3x3matrix with ones on the diagonal\n",
        "#np.identity also serves same purpose\n",
        "g = np.eye(3)\n",
        "g"
      ],
      "execution_count": 18,
      "outputs": [
        {
          "output_type": "execute_result",
          "data": {
            "text/plain": [
              "array([[1., 0., 0.],\n",
              "       [0., 1., 0.],\n",
              "       [0., 0., 1.]])"
            ]
          },
          "metadata": {
            "tags": []
          },
          "execution_count": 18
        }
      ]
    },
    {
      "cell_type": "code",
      "metadata": {
        "id": "JXe-A7rlNlSS",
        "colab_type": "code",
        "colab": {
          "base_uri": "https://localhost:8080/",
          "height": 68
        },
        "outputId": "b426d90e-4ec8-4a85-8bdf-456904107215"
      },
      "source": [
        "g = np.identity(3)\n",
        "g"
      ],
      "execution_count": 19,
      "outputs": [
        {
          "output_type": "execute_result",
          "data": {
            "text/plain": [
              "array([[1., 0., 0.],\n",
              "       [0., 1., 0.],\n",
              "       [0., 0., 1.]])"
            ]
          },
          "metadata": {
            "tags": []
          },
          "execution_count": 19
        }
      ]
    },
    {
      "cell_type": "code",
      "metadata": {
        "id": "Nw_C8ew4NpYW",
        "colab_type": "code",
        "colab": {
          "base_uri": "https://localhost:8080/",
          "height": 34
        },
        "outputId": "41833676-6bc2-45f6-8b6c-c1855be9a18a"
      },
      "source": [
        "#convert list to array\n",
        "h = list((2, 3, 4, 1))\n",
        "n = np.array(h)\n",
        "h"
      ],
      "execution_count": 20,
      "outputs": [
        {
          "output_type": "execute_result",
          "data": {
            "text/plain": [
              "[2, 3, 4, 1]"
            ]
          },
          "metadata": {
            "tags": []
          },
          "execution_count": 20
        }
      ]
    },
    {
      "cell_type": "code",
      "metadata": {
        "id": "e6zsSrnKN1aY",
        "colab_type": "code",
        "colab": {
          "base_uri": "https://localhost:8080/",
          "height": 34
        },
        "outputId": "58265b8f-ed13-4d5d-cbd2-51e40ee93c60"
      },
      "source": [
        "#arange() will create arrays with regulary incrementing values\n",
        "i = np.arange(10)\n",
        "i"
      ],
      "execution_count": 22,
      "outputs": [
        {
          "output_type": "execute_result",
          "data": {
            "text/plain": [
              "array([0, 1, 2, 3, 4, 5, 6, 7, 8, 9])"
            ]
          },
          "metadata": {
            "tags": []
          },
          "execution_count": 22
        }
      ]
    },
    {
      "cell_type": "code",
      "metadata": {
        "id": "TcBwtcGJOniG",
        "colab_type": "code",
        "colab": {
          "base_uri": "https://localhost:8080/",
          "height": 34
        },
        "outputId": "9d5d339c-41a7-4b13-c597-5c759a6a35b3"
      },
      "source": [
        "#linespace () creates arrays with a specified number of items which are spaced equally between the specified begining and ending values\n",
        "j = np.linspace(1., 3., 6)\n",
        "j "
      ],
      "execution_count": 23,
      "outputs": [
        {
          "output_type": "execute_result",
          "data": {
            "text/plain": [
              "array([1. , 1.4, 1.8, 2.2, 2.6, 3. ])"
            ]
          },
          "metadata": {
            "tags": []
          },
          "execution_count": 23
        }
      ]
    },
    {
      "cell_type": "code",
      "metadata": {
        "id": "q0kA-rsyPkzg",
        "colab_type": "code",
        "colab": {
          "base_uri": "https://localhost:8080/",
          "height": 34
        },
        "outputId": "764f621e-0886-4b75-8c95-ec476b22116c"
      },
      "source": [
        "#Excercise 2.1 \n",
        "# create array using np.arange() and add start, stop and step parameters\n",
        "#add numpy.arange([start, ]stop, [step, ]dtype=None))\n",
        "# start = number, optinal. Start of interval. Default value is 0\n",
        "#Stop = number, End of interval. The interval does not include this value, except in some cases where step is not an integer and floating point round-off affects the length of out.\n",
        "#Step = number, optional. Spacing between values. For any output out, this is the distance between two adjacent values, out[i+1] - out[i]. The default step size is 1. If step is specified as a position argument, start must also be given.\n",
        "np.arange (15, 25, 2) # start value is 15 , stop value is 25 and 2 is the step value adjacent numbers\n"
      ],
      "execution_count": 26,
      "outputs": [
        {
          "output_type": "execute_result",
          "data": {
            "text/plain": [
              "array([15, 17, 19, 21, 23])"
            ]
          },
          "metadata": {
            "tags": []
          },
          "execution_count": 26
        }
      ]
    },
    {
      "cell_type": "code",
      "metadata": {
        "id": "o4_Zban7T-H1",
        "colab_type": "code",
        "colab": {
          "base_uri": "https://localhost:8080/",
          "height": 51
        },
        "outputId": "f3518d6d-5497-42c3-8a0f-d69c9bb197ac"
      },
      "source": [
        "#Excercise 2.2 -Accessing arrays\n",
        "print(\"1D array:\\n\", a)"
      ],
      "execution_count": 27,
      "outputs": [
        {
          "output_type": "stream",
          "text": [
            "1D array:\n",
            " [0 2 4]\n"
          ],
          "name": "stdout"
        }
      ]
    },
    {
      "cell_type": "code",
      "metadata": {
        "id": "iq5_oqQjUMnB",
        "colab_type": "code",
        "colab": {
          "base_uri": "https://localhost:8080/",
          "height": 51
        },
        "outputId": "deb4e38c-f81d-4b9d-8b17-faf31c67a40b"
      },
      "source": [
        "#access the shape of the array\n",
        "print(\"\\nDimensions of array:\", a.shape)"
      ],
      "execution_count": 28,
      "outputs": [
        {
          "output_type": "stream",
          "text": [
            "\n",
            "Dimensions of array: (3,)\n"
          ],
          "name": "stdout"
        }
      ]
    },
    {
      "cell_type": "code",
      "metadata": {
        "id": "a4FN8XHzUXbu",
        "colab_type": "code",
        "colab": {
          "base_uri": "https://localhost:8080/",
          "height": 119
        },
        "outputId": "44eeae01-278c-4bc5-eccb-9267eeca1ba9"
      },
      "source": [
        "#call the individual elements of the array using the elements index\n",
        "print(\"\\nFirst element of array: \", a[0])\n",
        "print(\"\\nSecond element of array\", a[1])\n",
        "print(\"\\nThird element of array:\", a[2])\n"
      ],
      "execution_count": 29,
      "outputs": [
        {
          "output_type": "stream",
          "text": [
            "\n",
            "First element of array:  0\n",
            "\n",
            "Second element of array 2\n",
            "\n",
            "Third element of array: 4\n"
          ],
          "name": "stdout"
        }
      ]
    },
    {
      "cell_type": "code",
      "metadata": {
        "id": "X-soqPTTpbok",
        "colab_type": "code",
        "colab": {
          "base_uri": "https://localhost:8080/",
          "height": 68
        },
        "outputId": "94dd924b-50bf-4c54-ee83-b70d07b03965"
      },
      "source": [
        "#compare this to a 2D array\n",
        "print(\"2D array: \\n\", b)\n"
      ],
      "execution_count": 34,
      "outputs": [
        {
          "output_type": "stream",
          "text": [
            "2D array: \n",
            " [[0 2 4]\n",
            " [1 3 5]]\n"
          ],
          "name": "stdout"
        }
      ]
    },
    {
      "cell_type": "code",
      "metadata": {
        "id": "KGvfbHXbpn-b",
        "colab_type": "code",
        "colab": {
          "base_uri": "https://localhost:8080/",
          "height": 51
        },
        "outputId": "9a1d80c0-9074-47a9-b14c-ff4783c951ee"
      },
      "source": [
        "#contrast the shape of this array with the shape of 'a'\n",
        "print(\"\\nDimensions of 2D array:\", b.shape)"
      ],
      "execution_count": 31,
      "outputs": [
        {
          "output_type": "stream",
          "text": [
            "\n",
            "Dimensions of 2D array: (2, 3)\n"
          ],
          "name": "stdout"
        }
      ]
    },
    {
      "cell_type": "code",
      "metadata": {
        "id": "D_q1rxWxqVG6",
        "colab_type": "code",
        "colab": {
          "base_uri": "https://localhost:8080/",
          "height": 85
        },
        "outputId": "dab998fa-521b-4b27-f14e-519664a54267"
      },
      "source": [
        "#understand how values are accessed\n",
        "print(\"\\nArray element [0,0]:\", b[0, 0])\n",
        "print(\"\\nArray elements [1,2] [0,1] [1,0]:\", b[1,2], b[0,1], b[1,0])"
      ],
      "execution_count": 35,
      "outputs": [
        {
          "output_type": "stream",
          "text": [
            "\n",
            "Array element [0,0]: 0\n",
            "\n",
            "Array elements [1,2] [0,1] [1,0]: 5 2 1\n"
          ],
          "name": "stdout"
        }
      ]
    },
    {
      "cell_type": "code",
      "metadata": {
        "id": "iuSo3u-6yGzR",
        "colab_type": "code",
        "colab": {
          "base_uri": "https://localhost:8080/",
          "height": 34
        },
        "outputId": "29dd1905-42af-4b86-c38c-d1244b0631cf"
      },
      "source": [
        "#create array and access the first two elements\n",
        "k =np.array([4,6,8,10])\n",
        "k[0:2]"
      ],
      "execution_count": 36,
      "outputs": [
        {
          "output_type": "execute_result",
          "data": {
            "text/plain": [
              "array([4, 6])"
            ]
          },
          "metadata": {
            "tags": []
          },
          "execution_count": 36
        }
      ]
    },
    {
      "cell_type": "code",
      "metadata": {
        "id": "yce5_3m_yVGC",
        "colab_type": "code",
        "colab": {
          "base_uri": "https://localhost:8080/",
          "height": 153
        },
        "outputId": "bde86eba-0545-4b05-ecf5-82093d92050b"
      },
      "source": [
        "#Array slicing\n",
        "print(\"\\n2D array a:\", a)\n",
        "print(\"\\nRow 1 second element of a:\", a[1:2]) # print row 1 second element\n",
        "print(\" \\nlast 2 elements of a:\", a[-2:]) #  print last 2 elements\n",
        "print(\"\\neverything except last 2 elements of a:\", a[:-2]) # print everything except last 2 elements"
      ],
      "execution_count": 48,
      "outputs": [
        {
          "output_type": "stream",
          "text": [
            "\n",
            "2D array a: [0 2 4]\n",
            "\n",
            "Row 1 second element of a: [2]\n",
            " \n",
            "last 2 elements of a: [2 4]\n",
            "\n",
            "everything except last 2 elements of a: [0]\n"
          ],
          "name": "stdout"
        }
      ]
    },
    {
      "cell_type": "code",
      "metadata": {
        "id": "-16YF-C5MKb7",
        "colab_type": "code",
        "colab": {
          "base_uri": "https://localhost:8080/",
          "height": 85
        },
        "outputId": "4245520a-beda-4f3f-b3a9-7f9f0edb803a"
      },
      "source": [
        "#high dimension slicing\n",
        "l = np.array([[1,2,3], [4,5,6], [7,8,9]])\n",
        "print(l)\n",
        "l[2] # access one row of array"
      ],
      "execution_count": 50,
      "outputs": [
        {
          "output_type": "stream",
          "text": [
            "[[1 2 3]\n",
            " [4 5 6]\n",
            " [7 8 9]]\n"
          ],
          "name": "stdout"
        },
        {
          "output_type": "execute_result",
          "data": {
            "text/plain": [
              "array([7, 8, 9])"
            ]
          },
          "metadata": {
            "tags": []
          },
          "execution_count": 50
        }
      ]
    },
    {
      "cell_type": "code",
      "metadata": {
        "id": "uj8aaPEb1VWX",
        "colab_type": "code",
        "colab": {
          "base_uri": "https://localhost:8080/",
          "height": 34
        },
        "outputId": "313600e1-92aa-41a8-9d7f-065b3443c295"
      },
      "source": [
        "#access values within one row \n",
        "l[2, :2]"
      ],
      "execution_count": 39,
      "outputs": [
        {
          "output_type": "execute_result",
          "data": {
            "text/plain": [
              "array([7, 8])"
            ]
          },
          "metadata": {
            "tags": []
          },
          "execution_count": 39
        }
      ]
    },
    {
      "cell_type": "code",
      "metadata": {
        "id": "jfFnAumx1k_p",
        "colab_type": "code",
        "colab": {
          "base_uri": "https://localhost:8080/",
          "height": 34
        },
        "outputId": "c4be2b0d-1a88-4410-f739-5ab3bf66aeaf"
      },
      "source": [
        "# or use this command\n",
        "l[2][:2]"
      ],
      "execution_count": 40,
      "outputs": [
        {
          "output_type": "execute_result",
          "data": {
            "text/plain": [
              "array([7, 8])"
            ]
          },
          "metadata": {
            "tags": []
          },
          "execution_count": 40
        }
      ]
    },
    {
      "cell_type": "code",
      "metadata": {
        "id": "9sZ57Qlh19gx",
        "colab_type": "code",
        "colab": {
          "base_uri": "https://localhost:8080/",
          "height": 68
        },
        "outputId": "a7cba683-e35f-4512-c6ce-fbf80babd60d"
      },
      "source": [
        "#access all rows (axis 0) and two columns (axis 1)\n",
        "l[:,:2]"
      ],
      "execution_count": 41,
      "outputs": [
        {
          "output_type": "execute_result",
          "data": {
            "text/plain": [
              "array([[1, 2],\n",
              "       [4, 5],\n",
              "       [7, 8]])"
            ]
          },
          "metadata": {
            "tags": []
          },
          "execution_count": 41
        }
      ]
    },
    {
      "cell_type": "code",
      "metadata": {
        "id": "26_jsAi52R0n",
        "colab_type": "code",
        "colab": {
          "base_uri": "https://localhost:8080/",
          "height": 51
        },
        "outputId": "1ab89cc9-2da5-4ddd-c1df-4ee95b64e1d6"
      },
      "source": [
        "#Accessing arrays\n",
        "#create 2D array\n",
        "# EXERCISE CODE HERE\n",
        "Y = np.random.random((2,3)) #Random value 2D array\n",
        "Y"
      ],
      "execution_count": 51,
      "outputs": [
        {
          "output_type": "execute_result",
          "data": {
            "text/plain": [
              "array([[0.41275367, 0.3151473 , 0.10293633],\n",
              "       [0.18488648, 0.03826079, 0.37294377]])"
            ]
          },
          "metadata": {
            "tags": []
          },
          "execution_count": 51
        }
      ]
    },
    {
      "cell_type": "code",
      "metadata": {
        "id": "ztFhbLzFRIeE",
        "colab_type": "code",
        "colab": {
          "base_uri": "https://localhost:8080/",
          "height": 51
        },
        "outputId": "41da4ee0-8083-4c11-9b3c-e9a478896f47"
      },
      "source": [
        "#create 2D array containing slice of Y\n",
        "X = np.array([[1,2,Y[1,0]],[3,5,6]])\n",
        "X"
      ],
      "execution_count": 52,
      "outputs": [
        {
          "output_type": "execute_result",
          "data": {
            "text/plain": [
              "array([[1.        , 2.        , 0.18488648],\n",
              "       [3.        , 5.        , 6.        ]])"
            ]
          },
          "metadata": {
            "tags": []
          },
          "execution_count": 52
        }
      ]
    },
    {
      "cell_type": "code",
      "metadata": {
        "id": "HnAMX3czRMEA",
        "colab_type": "code",
        "colab": {
          "base_uri": "https://localhost:8080/",
          "height": 34
        },
        "outputId": "cb5aa4df-d08d-4047-933c-f896e7d34ada"
      },
      "source": [
        "#create variable containing slice of X\n",
        "array_slice = X[1,2]\n",
        "array_slice"
      ],
      "execution_count": 53,
      "outputs": [
        {
          "output_type": "execute_result",
          "data": {
            "text/plain": [
              "6.0"
            ]
          },
          "metadata": {
            "tags": []
          },
          "execution_count": 53
        }
      ]
    },
    {
      "cell_type": "code",
      "metadata": {
        "id": "V5ZI3XmwRSOy",
        "colab_type": "code",
        "colab": {
          "base_uri": "https://localhost:8080/",
          "height": 51
        },
        "outputId": "b2ca0d45-a24a-4d96-b475-66acba0e4e7b"
      },
      "source": [
        "#Replace value of sliced array\n",
        "array_slice = 0\n",
        "# Notice if array X is changed \n",
        "X"
      ],
      "execution_count": 54,
      "outputs": [
        {
          "output_type": "execute_result",
          "data": {
            "text/plain": [
              "array([[1.        , 2.        , 0.18488648],\n",
              "       [3.        , 5.        , 6.        ]])"
            ]
          },
          "metadata": {
            "tags": []
          },
          "execution_count": 54
        }
      ]
    },
    {
      "cell_type": "markdown",
      "metadata": {
        "id": "bXJcglzARW2h",
        "colab_type": "text"
      },
      "source": [
        "The value of 2D array X remains unchanged"
      ]
    },
    {
      "cell_type": "code",
      "metadata": {
        "id": "9eRJKDN7RY2i",
        "colab_type": "code",
        "colab": {}
      },
      "source": [
        ""
      ],
      "execution_count": 0,
      "outputs": []
    }
  ]
}