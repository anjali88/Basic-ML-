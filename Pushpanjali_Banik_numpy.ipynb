{
  "nbformat": 4,
  "nbformat_minor": 0,
  "metadata": {
    "colab": {
      "name": "Untitled2.ipynb",
      "provenance": [],
      "collapsed_sections": [],
      "include_colab_link": true
    },
    "kernelspec": {
      "name": "python3",
      "display_name": "Python 3"
    }
  },
  "cells": [
    {
      "cell_type": "markdown",
      "metadata": {
        "id": "view-in-github",
        "colab_type": "text"
      },
      "source": [
        "<a href=\"https://colab.research.google.com/github/anjali88/Basic-ML-/blob/master/Pushpanjali_Banik_numpy.ipynb\" target=\"_parent\"><img src=\"https://colab.research.google.com/assets/colab-badge.svg\" alt=\"Open In Colab\"/></a>"
      ]
    },
    {
      "cell_type": "code",
      "metadata": {
        "id": "MRVDiia3KG0J",
        "colab_type": "code",
        "outputId": "142a1092-54e1-4cfb-e2f0-f8b615cfc244",
        "colab": {
          "base_uri": "https://localhost:8080/",
          "height": 51
        }
      },
      "source": [
        "#Excercise 1 - Demo difference between numpy and python\n",
        "#import numpy\n",
        "import numpy as np\n",
        "my_arr = np.arange(1000000) # create numpy array\n",
        "my_list = list(range(1000000)) #create python list with same values but it is not stored as numpy array\n",
        "\n",
        "# computationl time in numpy\n",
        "%time my_arr2 = my_arr * 2"
      ],
      "execution_count": 0,
      "outputs": [
        {
          "output_type": "stream",
          "text": [
            "CPU times: user 1.44 ms, sys: 4.1 ms, total: 5.54 ms\n",
            "Wall time: 10.5 ms\n"
          ],
          "name": "stdout"
        }
      ]
    },
    {
      "cell_type": "code",
      "metadata": {
        "id": "5Dp5qERGK_Bk",
        "colab_type": "code",
        "outputId": "09f9bc19-d8b5-4c7b-c0b3-e22cccc6215c",
        "colab": {
          "base_uri": "https://localhost:8080/",
          "height": 51
        }
      },
      "source": [
        "# computationl time in python\n",
        "%time my_list2 = [x *2 for x in my_list]"
      ],
      "execution_count": 0,
      "outputs": [
        {
          "output_type": "stream",
          "text": [
            "CPU times: user 58.5 ms, sys: 56.2 ms, total: 115 ms\n",
            "Wall time: 119 ms\n"
          ],
          "name": "stdout"
        }
      ]
    },
    {
      "cell_type": "code",
      "metadata": {
        "id": "CM0opuBTLg_W",
        "colab_type": "code",
        "outputId": "8977964c-6c9f-47d5-de59-3b3da410ded2",
        "colab": {
          "base_uri": "https://localhost:8080/",
          "height": 34
        }
      },
      "source": [
        "# Excercise 2.1 - Creating arrays\n",
        "# create an array by passin in values\n",
        "a = np.array([0,2,4])\n",
        "a"
      ],
      "execution_count": 0,
      "outputs": [
        {
          "output_type": "execute_result",
          "data": {
            "text/plain": [
              "array([0, 2, 4])"
            ]
          },
          "metadata": {
            "tags": []
          },
          "execution_count": 31
        }
      ]
    },
    {
      "cell_type": "code",
      "metadata": {
        "id": "tKryqvacL70l",
        "colab_type": "code",
        "outputId": "fad4ab23-e08e-4bd7-fe77-baa75a72d24c",
        "colab": {
          "base_uri": "https://localhost:8080/",
          "height": 51
        }
      },
      "source": [
        "#create 2D array\n",
        "b = np.array([[0,2,4], [1,3,5]])\n",
        "b"
      ],
      "execution_count": 0,
      "outputs": [
        {
          "output_type": "execute_result",
          "data": {
            "text/plain": [
              "array([[0, 2, 4],\n",
              "       [1, 3, 5]])"
            ]
          },
          "metadata": {
            "tags": []
          },
          "execution_count": 7
        }
      ]
    },
    {
      "cell_type": "code",
      "metadata": {
        "id": "skvy3KUcMIAk",
        "colab_type": "code",
        "outputId": "e6399f3a-3330-44d8-8819-9d177013281a",
        "colab": {
          "base_uri": "https://localhost:8080/",
          "height": 68
        }
      },
      "source": [
        "#create an array of all zeros, with three rows of three column each\n",
        "c = np.zeros((3,3))\n",
        "c"
      ],
      "execution_count": 0,
      "outputs": [
        {
          "output_type": "execute_result",
          "data": {
            "text/plain": [
              "array([[0., 0., 0.],\n",
              "       [0., 0., 0.],\n",
              "       [0., 0., 0.]])"
            ]
          },
          "metadata": {
            "tags": []
          },
          "execution_count": 8
        }
      ]
    },
    {
      "cell_type": "code",
      "metadata": {
        "id": "qcwPSHzKMTh7",
        "colab_type": "code",
        "outputId": "53711593-3b6f-485f-95e2-7d6c871c9b14",
        "colab": {
          "base_uri": "https://localhost:8080/",
          "height": 51
        }
      },
      "source": [
        "#create a 2x2 constant array\n",
        "d = np.ones((2,2))\n",
        "d"
      ],
      "execution_count": 0,
      "outputs": [
        {
          "output_type": "execute_result",
          "data": {
            "text/plain": [
              "array([[1., 1.],\n",
              "       [1., 1.]])"
            ]
          },
          "metadata": {
            "tags": []
          },
          "execution_count": 14
        }
      ]
    },
    {
      "cell_type": "code",
      "metadata": {
        "id": "Cxmm-zbyMoE5",
        "colab_type": "code",
        "outputId": "34f6546d-af30-40bc-f97a-844329be0990",
        "colab": {
          "base_uri": "https://localhost:8080/",
          "height": 68
        }
      },
      "source": [
        "#create a 3x3 constant array\n",
        "e = np.full((3,3), 6)\n",
        "e\n"
      ],
      "execution_count": 0,
      "outputs": [
        {
          "output_type": "execute_result",
          "data": {
            "text/plain": [
              "array([[6, 6, 6],\n",
              "       [6, 6, 6],\n",
              "       [6, 6, 6]])"
            ]
          },
          "metadata": {
            "tags": []
          },
          "execution_count": 16
        }
      ]
    },
    {
      "cell_type": "code",
      "metadata": {
        "id": "lhJWbeM-NH4a",
        "colab_type": "code",
        "outputId": "d86c9d0e-7843-45aa-9395-e8a002093b42",
        "colab": {
          "base_uri": "https://localhost:8080/",
          "height": 85
        }
      },
      "source": [
        "#create a 4x3 array filled with random values\n",
        "f = np.random.random((4,3))\n",
        "f"
      ],
      "execution_count": 0,
      "outputs": [
        {
          "output_type": "execute_result",
          "data": {
            "text/plain": [
              "array([[0.88481858, 0.33058435, 0.99819552],\n",
              "       [0.44153579, 0.76130142, 0.89379922],\n",
              "       [0.92501178, 0.45491338, 0.04411624],\n",
              "       [0.55501406, 0.30195189, 0.10015048]])"
            ]
          },
          "metadata": {
            "tags": []
          },
          "execution_count": 17
        }
      ]
    },
    {
      "cell_type": "code",
      "metadata": {
        "id": "coXPVfAWNU_w",
        "colab_type": "code",
        "outputId": "228deae3-63fd-4318-dc96-7504bca2b337",
        "colab": {
          "base_uri": "https://localhost:8080/",
          "height": 68
        }
      },
      "source": [
        "#creare a 3x3matrix with ones on the diagonal\n",
        "#np.identity also serves same purpose\n",
        "g = np.eye(3)\n",
        "g"
      ],
      "execution_count": 0,
      "outputs": [
        {
          "output_type": "execute_result",
          "data": {
            "text/plain": [
              "array([[1., 0., 0.],\n",
              "       [0., 1., 0.],\n",
              "       [0., 0., 1.]])"
            ]
          },
          "metadata": {
            "tags": []
          },
          "execution_count": 18
        }
      ]
    },
    {
      "cell_type": "code",
      "metadata": {
        "id": "JXe-A7rlNlSS",
        "colab_type": "code",
        "outputId": "b426d90e-4ec8-4a85-8bdf-456904107215",
        "colab": {
          "base_uri": "https://localhost:8080/",
          "height": 68
        }
      },
      "source": [
        "g = np.identity(3)\n",
        "g"
      ],
      "execution_count": 0,
      "outputs": [
        {
          "output_type": "execute_result",
          "data": {
            "text/plain": [
              "array([[1., 0., 0.],\n",
              "       [0., 1., 0.],\n",
              "       [0., 0., 1.]])"
            ]
          },
          "metadata": {
            "tags": []
          },
          "execution_count": 19
        }
      ]
    },
    {
      "cell_type": "code",
      "metadata": {
        "id": "Nw_C8ew4NpYW",
        "colab_type": "code",
        "outputId": "41833676-6bc2-45f6-8b6c-c1855be9a18a",
        "colab": {
          "base_uri": "https://localhost:8080/",
          "height": 34
        }
      },
      "source": [
        "#convert list to array\n",
        "h = list((2, 3, 4, 1))\n",
        "n = np.array(h)\n",
        "h"
      ],
      "execution_count": 0,
      "outputs": [
        {
          "output_type": "execute_result",
          "data": {
            "text/plain": [
              "[2, 3, 4, 1]"
            ]
          },
          "metadata": {
            "tags": []
          },
          "execution_count": 20
        }
      ]
    },
    {
      "cell_type": "code",
      "metadata": {
        "id": "e6zsSrnKN1aY",
        "colab_type": "code",
        "outputId": "58265b8f-ed13-4d5d-cbd2-51e40ee93c60",
        "colab": {
          "base_uri": "https://localhost:8080/",
          "height": 34
        }
      },
      "source": [
        "#arange() will create arrays with regulary incrementing values\n",
        "i = np.arange(10)\n",
        "i"
      ],
      "execution_count": 0,
      "outputs": [
        {
          "output_type": "execute_result",
          "data": {
            "text/plain": [
              "array([0, 1, 2, 3, 4, 5, 6, 7, 8, 9])"
            ]
          },
          "metadata": {
            "tags": []
          },
          "execution_count": 22
        }
      ]
    },
    {
      "cell_type": "code",
      "metadata": {
        "id": "TcBwtcGJOniG",
        "colab_type": "code",
        "outputId": "9d5d339c-41a7-4b13-c597-5c759a6a35b3",
        "colab": {
          "base_uri": "https://localhost:8080/",
          "height": 34
        }
      },
      "source": [
        "#linespace () creates arrays with a specified number of items which are spaced equally between the specified begining and ending values\n",
        "j = np.linspace(1., 3., 6)\n",
        "j "
      ],
      "execution_count": 0,
      "outputs": [
        {
          "output_type": "execute_result",
          "data": {
            "text/plain": [
              "array([1. , 1.4, 1.8, 2.2, 2.6, 3. ])"
            ]
          },
          "metadata": {
            "tags": []
          },
          "execution_count": 23
        }
      ]
    },
    {
      "cell_type": "code",
      "metadata": {
        "id": "q0kA-rsyPkzg",
        "colab_type": "code",
        "outputId": "764f621e-0886-4b75-8c95-ec476b22116c",
        "colab": {
          "base_uri": "https://localhost:8080/",
          "height": 34
        }
      },
      "source": [
        "#Excercise 2.1 \n",
        "# create array using np.arange() and add start, stop and step parameters\n",
        "#add numpy.arange([start, ]stop, [step, ]dtype=None))\n",
        "# start = number, optinal. Start of interval. Default value is 0\n",
        "#Stop = number, End of interval. The interval does not include this value, except in some cases where step is not an integer and floating point round-off affects the length of out.\n",
        "#Step = number, optional. Spacing between values. For any output out, this is the distance between two adjacent values, out[i+1] - out[i]. The default step size is 1. If step is specified as a position argument, start must also be given.\n",
        "np.arange (15, 25, 2) # start value is 15 , stop value is 25 and 2 is the step value adjacent numbers\n"
      ],
      "execution_count": 0,
      "outputs": [
        {
          "output_type": "execute_result",
          "data": {
            "text/plain": [
              "array([15, 17, 19, 21, 23])"
            ]
          },
          "metadata": {
            "tags": []
          },
          "execution_count": 26
        }
      ]
    },
    {
      "cell_type": "code",
      "metadata": {
        "id": "o4_Zban7T-H1",
        "colab_type": "code",
        "outputId": "f3518d6d-5497-42c3-8a0f-d69c9bb197ac",
        "colab": {
          "base_uri": "https://localhost:8080/",
          "height": 51
        }
      },
      "source": [
        "#Excercise 2.2 -Accessing arrays\n",
        "print(\"1D array:\\n\", a)"
      ],
      "execution_count": 0,
      "outputs": [
        {
          "output_type": "stream",
          "text": [
            "1D array:\n",
            " [0 2 4]\n"
          ],
          "name": "stdout"
        }
      ]
    },
    {
      "cell_type": "code",
      "metadata": {
        "id": "iq5_oqQjUMnB",
        "colab_type": "code",
        "outputId": "deb4e38c-f81d-4b9d-8b17-faf31c67a40b",
        "colab": {
          "base_uri": "https://localhost:8080/",
          "height": 51
        }
      },
      "source": [
        "#access the shape of the array\n",
        "print(\"\\nDimensions of array:\", a.shape)"
      ],
      "execution_count": 0,
      "outputs": [
        {
          "output_type": "stream",
          "text": [
            "\n",
            "Dimensions of array: (3,)\n"
          ],
          "name": "stdout"
        }
      ]
    },
    {
      "cell_type": "code",
      "metadata": {
        "id": "a4FN8XHzUXbu",
        "colab_type": "code",
        "outputId": "44eeae01-278c-4bc5-eccb-9267eeca1ba9",
        "colab": {
          "base_uri": "https://localhost:8080/",
          "height": 119
        }
      },
      "source": [
        "#call the individual elements of the array using the elements index\n",
        "print(\"\\nFirst element of array: \", a[0])\n",
        "print(\"\\nSecond element of array\", a[1])\n",
        "print(\"\\nThird element of array:\", a[2])"
      ],
      "execution_count": 0,
      "outputs": [
        {
          "output_type": "stream",
          "text": [
            "\n",
            "First element of array:  0\n",
            "\n",
            "Second element of array 2\n",
            "\n",
            "Third element of array: 4\n"
          ],
          "name": "stdout"
        }
      ]
    },
    {
      "cell_type": "code",
      "metadata": {
        "id": "X-soqPTTpbok",
        "colab_type": "code",
        "outputId": "94dd924b-50bf-4c54-ee83-b70d07b03965",
        "colab": {
          "base_uri": "https://localhost:8080/",
          "height": 68
        }
      },
      "source": [
        "#compare this to a 2D array\n",
        "print(\"2D array: \\n\", b)"
      ],
      "execution_count": 0,
      "outputs": [
        {
          "output_type": "stream",
          "text": [
            "2D array: \n",
            " [[0 2 4]\n",
            " [1 3 5]]\n"
          ],
          "name": "stdout"
        }
      ]
    },
    {
      "cell_type": "code",
      "metadata": {
        "id": "KGvfbHXbpn-b",
        "colab_type": "code",
        "outputId": "9a1d80c0-9074-47a9-b14c-ff4783c951ee",
        "colab": {
          "base_uri": "https://localhost:8080/",
          "height": 51
        }
      },
      "source": [
        "#contrast the shape of this array with the shape of 'a'\n",
        "print(\"\\nDimensions of 2D array:\", b.shape)"
      ],
      "execution_count": 0,
      "outputs": [
        {
          "output_type": "stream",
          "text": [
            "\n",
            "Dimensions of 2D array: (2, 3)\n"
          ],
          "name": "stdout"
        }
      ]
    },
    {
      "cell_type": "code",
      "metadata": {
        "id": "D_q1rxWxqVG6",
        "colab_type": "code",
        "outputId": "dab998fa-521b-4b27-f14e-519664a54267",
        "colab": {
          "base_uri": "https://localhost:8080/",
          "height": 85
        }
      },
      "source": [
        "#understand how values are accessed\n",
        "print(\"\\nArray element [0,0]:\", b[0, 0])\n",
        "print(\"\\nArray elements [1,2] [0,1] [1,0]:\", b[1,2], b[0,1], b[1,0])"
      ],
      "execution_count": 0,
      "outputs": [
        {
          "output_type": "stream",
          "text": [
            "\n",
            "Array element [0,0]: 0\n",
            "\n",
            "Array elements [1,2] [0,1] [1,0]: 5 2 1\n"
          ],
          "name": "stdout"
        }
      ]
    },
    {
      "cell_type": "code",
      "metadata": {
        "id": "iuSo3u-6yGzR",
        "colab_type": "code",
        "outputId": "29dd1905-42af-4b86-c38c-d1244b0631cf",
        "colab": {
          "base_uri": "https://localhost:8080/",
          "height": 34
        }
      },
      "source": [
        "#create array and access the first two elements\n",
        "k =np.array([4,6,8,10])\n",
        "k[0:2]"
      ],
      "execution_count": 0,
      "outputs": [
        {
          "output_type": "execute_result",
          "data": {
            "text/plain": [
              "array([4, 6])"
            ]
          },
          "metadata": {
            "tags": []
          },
          "execution_count": 36
        }
      ]
    },
    {
      "cell_type": "code",
      "metadata": {
        "id": "yce5_3m_yVGC",
        "colab_type": "code",
        "outputId": "bde86eba-0545-4b05-ecf5-82093d92050b",
        "colab": {
          "base_uri": "https://localhost:8080/",
          "height": 153
        }
      },
      "source": [
        "#Array slicing\n",
        "print(\"\\n2D array a:\", a)\n",
        "print(\"\\nRow 1 second element of a:\", a[1:2]) # print row 1 second element\n",
        "print(\" \\nlast 2 elements of a:\", a[-2:]) #  print last 2 elements\n",
        "print(\"\\neverything except last 2 elements of a:\", a[:-2]) # print everything except last 2 elements"
      ],
      "execution_count": 0,
      "outputs": [
        {
          "output_type": "stream",
          "text": [
            "\n",
            "2D array a: [0 2 4]\n",
            "\n",
            "Row 1 second element of a: [2]\n",
            " \n",
            "last 2 elements of a: [2 4]\n",
            "\n",
            "everything except last 2 elements of a: [0]\n"
          ],
          "name": "stdout"
        }
      ]
    },
    {
      "cell_type": "code",
      "metadata": {
        "id": "-16YF-C5MKb7",
        "colab_type": "code",
        "outputId": "4245520a-beda-4f3f-b3a9-7f9f0edb803a",
        "colab": {
          "base_uri": "https://localhost:8080/",
          "height": 85
        }
      },
      "source": [
        "#high dimension slicing\n",
        "l = np.array([[1,2,3], [4,5,6], [7,8,9]])\n",
        "print(l)\n",
        "l[2] # access one row of array"
      ],
      "execution_count": 0,
      "outputs": [
        {
          "output_type": "stream",
          "text": [
            "[[1 2 3]\n",
            " [4 5 6]\n",
            " [7 8 9]]\n"
          ],
          "name": "stdout"
        },
        {
          "output_type": "execute_result",
          "data": {
            "text/plain": [
              "array([7, 8, 9])"
            ]
          },
          "metadata": {
            "tags": []
          },
          "execution_count": 50
        }
      ]
    },
    {
      "cell_type": "code",
      "metadata": {
        "id": "uj8aaPEb1VWX",
        "colab_type": "code",
        "outputId": "313600e1-92aa-41a8-9d7f-065b3443c295",
        "colab": {
          "base_uri": "https://localhost:8080/",
          "height": 34
        }
      },
      "source": [
        "#access values within one row \n",
        "l[2, :2]"
      ],
      "execution_count": 0,
      "outputs": [
        {
          "output_type": "execute_result",
          "data": {
            "text/plain": [
              "array([7, 8])"
            ]
          },
          "metadata": {
            "tags": []
          },
          "execution_count": 39
        }
      ]
    },
    {
      "cell_type": "code",
      "metadata": {
        "id": "jfFnAumx1k_p",
        "colab_type": "code",
        "outputId": "c4be2b0d-1a88-4410-f739-5ab3bf66aeaf",
        "colab": {
          "base_uri": "https://localhost:8080/",
          "height": 34
        }
      },
      "source": [
        "# or use this command\n",
        "l[2][:2]"
      ],
      "execution_count": 0,
      "outputs": [
        {
          "output_type": "execute_result",
          "data": {
            "text/plain": [
              "array([7, 8])"
            ]
          },
          "metadata": {
            "tags": []
          },
          "execution_count": 40
        }
      ]
    },
    {
      "cell_type": "code",
      "metadata": {
        "id": "9sZ57Qlh19gx",
        "colab_type": "code",
        "outputId": "a7cba683-e35f-4512-c6ce-fbf80babd60d",
        "colab": {
          "base_uri": "https://localhost:8080/",
          "height": 68
        }
      },
      "source": [
        "#access all rows (axis 0) and two columns (axis 1)\n",
        "l[:,:2]"
      ],
      "execution_count": 0,
      "outputs": [
        {
          "output_type": "execute_result",
          "data": {
            "text/plain": [
              "array([[1, 2],\n",
              "       [4, 5],\n",
              "       [7, 8]])"
            ]
          },
          "metadata": {
            "tags": []
          },
          "execution_count": 41
        }
      ]
    },
    {
      "cell_type": "code",
      "metadata": {
        "id": "26_jsAi52R0n",
        "colab_type": "code",
        "outputId": "1ab89cc9-2da5-4ddd-c1df-4ee95b64e1d6",
        "colab": {
          "base_uri": "https://localhost:8080/",
          "height": 51
        }
      },
      "source": [
        "#Excercise 2.1 - Accessing arrays\n",
        "#create 2D array\n",
        "Y = np.random.random((2,3)) #Random value 2D array\n",
        "Y"
      ],
      "execution_count": 0,
      "outputs": [
        {
          "output_type": "execute_result",
          "data": {
            "text/plain": [
              "array([[0.41275367, 0.3151473 , 0.10293633],\n",
              "       [0.18488648, 0.03826079, 0.37294377]])"
            ]
          },
          "metadata": {
            "tags": []
          },
          "execution_count": 51
        }
      ]
    },
    {
      "cell_type": "code",
      "metadata": {
        "id": "ztFhbLzFRIeE",
        "colab_type": "code",
        "outputId": "41da4ee0-8083-4c11-9b3c-e9a478896f47",
        "colab": {
          "base_uri": "https://localhost:8080/",
          "height": 51
        }
      },
      "source": [
        "#create 2D array containing slice of Y\n",
        "X = np.array([[1,2,Y[1,0]],[3,5,6]])\n",
        "X"
      ],
      "execution_count": 0,
      "outputs": [
        {
          "output_type": "execute_result",
          "data": {
            "text/plain": [
              "array([[1.        , 2.        , 0.18488648],\n",
              "       [3.        , 5.        , 6.        ]])"
            ]
          },
          "metadata": {
            "tags": []
          },
          "execution_count": 52
        }
      ]
    },
    {
      "cell_type": "code",
      "metadata": {
        "id": "HnAMX3czRMEA",
        "colab_type": "code",
        "outputId": "cb5aa4df-d08d-4047-933c-f896e7d34ada",
        "colab": {
          "base_uri": "https://localhost:8080/",
          "height": 34
        }
      },
      "source": [
        "#create variable containing slice of X\n",
        "array_slice = X[1,2]\n",
        "array_slice"
      ],
      "execution_count": 0,
      "outputs": [
        {
          "output_type": "execute_result",
          "data": {
            "text/plain": [
              "6.0"
            ]
          },
          "metadata": {
            "tags": []
          },
          "execution_count": 53
        }
      ]
    },
    {
      "cell_type": "code",
      "metadata": {
        "id": "V5ZI3XmwRSOy",
        "colab_type": "code",
        "outputId": "b2ca0d45-a24a-4d96-b475-66acba0e4e7b",
        "colab": {
          "base_uri": "https://localhost:8080/",
          "height": 51
        }
      },
      "source": [
        "#Replace value of sliced array\n",
        "array_slice = 0\n",
        "# Notice if array X is changed \n",
        "X"
      ],
      "execution_count": 0,
      "outputs": [
        {
          "output_type": "execute_result",
          "data": {
            "text/plain": [
              "array([[1.        , 2.        , 0.18488648],\n",
              "       [3.        , 5.        , 6.        ]])"
            ]
          },
          "metadata": {
            "tags": []
          },
          "execution_count": 54
        }
      ]
    },
    {
      "cell_type": "markdown",
      "metadata": {
        "id": "bXJcglzARW2h",
        "colab_type": "text"
      },
      "source": [
        "The value of 2D array X remains unchanged"
      ]
    },
    {
      "cell_type": "code",
      "metadata": {
        "id": "9eRJKDN7RY2i",
        "colab_type": "code",
        "outputId": "7a17c522-8902-45d7-e566-a599f9fa9936",
        "colab": {
          "base_uri": "https://localhost:8080/",
          "height": 136
        }
      },
      "source": [
        "#Excercise 2.3 - Properties of arrays\n",
        "#change an element of the array inplace\n",
        "print(\"X before changing an element value in place:\\n\", X)\n",
        "#change the value at first elements\n",
        "X[0] = 10\n",
        "print(\"\\nX after changing an element value in place:\\n\",X)"
      ],
      "execution_count": 0,
      "outputs": [
        {
          "output_type": "stream",
          "text": [
            "X before changing an element value in place:\n",
            " [[1.         2.         0.18488648]\n",
            " [3.         5.         6.        ]]\n",
            "\n",
            "X after changing an element value in place:\n",
            " [[10. 10. 10.]\n",
            " [ 3.  5.  6.]]\n"
          ],
          "name": "stdout"
        }
      ]
    },
    {
      "cell_type": "code",
      "metadata": {
        "id": "VlGB0xe_Td7C",
        "colab_type": "code",
        "outputId": "61688f36-9da3-43ed-8b50-bf192565d23b",
        "colab": {
          "base_uri": "https://localhost:8080/",
          "height": 34
        }
      },
      "source": [
        "#access the data type of an array using '.dtype'\n",
        "print(\"Data type of X:\", X.dtype)"
      ],
      "execution_count": 0,
      "outputs": [
        {
          "output_type": "stream",
          "text": [
            "Data type of X: float64\n"
          ],
          "name": "stdout"
        }
      ]
    },
    {
      "cell_type": "code",
      "metadata": {
        "id": "hK2bbF_zUO7M",
        "colab_type": "code",
        "outputId": "7e025253-6bd2-4403-9a2b-7aab407ace39",
        "colab": {
          "base_uri": "https://localhost:8080/",
          "height": 68
        }
      },
      "source": [
        "#numpy automatically assigned us the data type - but we can specify it\n",
        "X_float = np.array(X, dtype=np.float64)\n",
        "print(X_float.dtype)\n",
        "X_float # see that the array has a decimal point after the number "
      ],
      "execution_count": 0,
      "outputs": [
        {
          "output_type": "stream",
          "text": [
            "float64\n"
          ],
          "name": "stdout"
        },
        {
          "output_type": "execute_result",
          "data": {
            "text/plain": [
              "array([[10., 10., 10.],\n",
              "       [ 3.,  5.,  6.]])"
            ]
          },
          "metadata": {
            "tags": []
          },
          "execution_count": 60
        }
      ]
    },
    {
      "cell_type": "code",
      "metadata": {
        "id": "je0ppPiIUs8P",
        "colab_type": "code",
        "outputId": "12300efd-4f26-4909-e37e-f921c6b40c32",
        "colab": {
          "base_uri": "https://localhost:8080/",
          "height": 68
        }
      },
      "source": [
        "#convert or cast an array from one dtyoe to another using ndarrays astype method\n",
        "X_int32 = X_float.astype(np.int32)\n",
        "print(X_int32.dtype)\n",
        "X_int32 # notice that numbers converted to integers "
      ],
      "execution_count": 0,
      "outputs": [
        {
          "output_type": "stream",
          "text": [
            "int32\n"
          ],
          "name": "stdout"
        },
        {
          "output_type": "execute_result",
          "data": {
            "text/plain": [
              "array([[10, 10, 10],\n",
              "       [ 3,  5,  6]], dtype=int32)"
            ]
          },
          "metadata": {
            "tags": []
          },
          "execution_count": 62
        }
      ]
    },
    {
      "cell_type": "code",
      "metadata": {
        "id": "gH5vHG0hVs-n",
        "colab_type": "code",
        "outputId": "d3acfb07-34f3-41f3-f9b0-497d5b1b110c",
        "colab": {
          "base_uri": "https://localhost:8080/",
          "height": 34
        }
      },
      "source": [
        "#convert from strings to numbers \n",
        "numeric_strings = np.array(['1.5', '-10', '30'], dtype=np.string_)\n",
        "numeric_strings.astype(float) # use float or np.float"
      ],
      "execution_count": 0,
      "outputs": [
        {
          "output_type": "execute_result",
          "data": {
            "text/plain": [
              "array([  1.5, -10. ,  30. ])"
            ]
          },
          "metadata": {
            "tags": []
          },
          "execution_count": 65
        }
      ]
    },
    {
      "cell_type": "code",
      "metadata": {
        "id": "HXoGCPFHvIQW",
        "colab_type": "code",
        "outputId": "1e65f28d-42c1-4d32-916b-47d7c487822d",
        "colab": {
          "base_uri": "https://localhost:8080/",
          "height": 119
        }
      },
      "source": [
        "#. reshape attribute \n",
        "print(X)\n",
        "print(X.shape)\n",
        "\n",
        "#reshape, note the new shape must fit the same number of values\n",
        "Z = X.reshape(3,2)\n",
        "Z"
      ],
      "execution_count": 0,
      "outputs": [
        {
          "output_type": "stream",
          "text": [
            "[[10. 10. 10.]\n",
            " [ 3.  5.  6.]]\n",
            "(2, 3)\n"
          ],
          "name": "stdout"
        },
        {
          "output_type": "execute_result",
          "data": {
            "text/plain": [
              "array([[10., 10.],\n",
              "       [10.,  3.],\n",
              "       [ 5.,  6.]])"
            ]
          },
          "metadata": {
            "tags": []
          },
          "execution_count": 71
        }
      ]
    },
    {
      "cell_type": "code",
      "metadata": {
        "id": "6IqZPLacvQb8",
        "colab_type": "code",
        "outputId": "8eb65eab-d385-4e63-e698-95e69ab5128c",
        "colab": {
          "base_uri": "https://localhost:8080/",
          "height": 68
        }
      },
      "source": [
        "#passing -1 as second parameter means numpy will infer the size of the second value\n",
        "#use incase of large array\n",
        "N =np.arange(1200).reshape(2,-1)\n",
        "print(N.shape)\n",
        "print(N)"
      ],
      "execution_count": 0,
      "outputs": [
        {
          "output_type": "stream",
          "text": [
            "(2, 600)\n",
            "[[   0    1    2 ...  597  598  599]\n",
            " [ 600  601  602 ... 1197 1198 1199]]\n"
          ],
          "name": "stdout"
        }
      ]
    },
    {
      "cell_type": "code",
      "metadata": {
        "id": "sPcytOK-xOiQ",
        "colab_type": "code",
        "outputId": "bf032a15-64b7-462c-f02b-ae84da4d0b67",
        "colab": {
          "base_uri": "https://localhost:8080/",
          "height": 408
        }
      },
      "source": [
        "#join two different arrays either vertically (axis 0) or horizontally (axis 1)\n",
        "E = np.array([np.arange(0,3),np.arange(2,5),np.arange(5,8)])\n",
        "print(\"\\nArray E:\\n\", E)\n",
        "F = np.random.random((3,3))\n",
        "print(\"\\nArray F:\\n\", F)\n",
        "J = np.vstack((E,F)) # join - stack arrays verticaly, it takes a tuple as an argument\n",
        "print(\"\\nArray J:\\n\", J)\n",
        "C = np.hstack((E,F))# join - stack arrays horizontaly\n",
        "print(\"\\nArray C:\\n\", C)"
      ],
      "execution_count": 0,
      "outputs": [
        {
          "output_type": "stream",
          "text": [
            "\n",
            "Array E:\n",
            " [[0 1 2]\n",
            " [2 3 4]\n",
            " [5 6 7]]\n",
            "\n",
            "Array F:\n",
            " [[0.652069   0.26350407 0.416652  ]\n",
            " [0.72467533 0.07135996 0.83366769]\n",
            " [0.47513434 0.65407597 0.69879294]]\n",
            "\n",
            "Array J:\n",
            " [[0.         1.         2.        ]\n",
            " [2.         3.         4.        ]\n",
            " [5.         6.         7.        ]\n",
            " [0.652069   0.26350407 0.416652  ]\n",
            " [0.72467533 0.07135996 0.83366769]\n",
            " [0.47513434 0.65407597 0.69879294]]\n",
            "\n",
            "Array C:\n",
            " [[0.         1.         2.         0.652069   0.26350407 0.416652  ]\n",
            " [2.         3.         4.         0.72467533 0.07135996 0.83366769]\n",
            " [5.         6.         7.         0.47513434 0.65407597 0.69879294]]\n"
          ],
          "name": "stdout"
        }
      ]
    },
    {
      "cell_type": "code",
      "metadata": {
        "id": "PUKahLeHyteL",
        "colab_type": "code",
        "outputId": "5c444968-fb0e-498e-fe1a-780aa6f9ba40",
        "colab": {
          "base_uri": "https://localhost:8080/",
          "height": 187
        }
      },
      "source": [
        "#use .ravel() or .flatten to return to 1D array\n",
        "q = J.ravel()\n",
        "print(\"\\nArray q:\\n\",q)\n",
        "r = C.flatten() # flatten returns a copy of the array, ravel does not - otherwise they perform the same\n",
        "print(\"\\nArray r:\\n\",r)"
      ],
      "execution_count": 0,
      "outputs": [
        {
          "output_type": "stream",
          "text": [
            "\n",
            "Array q:\n",
            " [0.         1.         2.         2.         3.         4.\n",
            " 5.         6.         7.         0.652069   0.26350407 0.416652\n",
            " 0.72467533 0.07135996 0.83366769 0.47513434 0.65407597 0.69879294]\n",
            "\n",
            "Array r:\n",
            " [0.         1.         2.         0.652069   0.26350407 0.416652\n",
            " 2.         3.         4.         0.72467533 0.07135996 0.83366769\n",
            " 5.         6.         7.         0.47513434 0.65407597 0.69879294]\n"
          ],
          "name": "stdout"
        }
      ]
    },
    {
      "cell_type": "code",
      "metadata": {
        "id": "Ajs1YRps0gaj",
        "colab_type": "code",
        "outputId": "23e0f14d-33f5-4bc0-ab69-cbb7d6f89feb",
        "colab": {
          "base_uri": "https://localhost:8080/",
          "height": 612
        }
      },
      "source": [
        "#Excercise 2.3 - Array properties\n",
        "G = np.array([np.arange(0,3),np.arange(2,5)]) #2D array\n",
        "print(\"\\nArray G:\\n\", G)\n",
        "G1 = G.reshape(3,2) # reshape \n",
        "print(\"\\nArray G1:\\n\", G1)\n",
        "F1 = np.random.random((3,2))# random value 2D array\n",
        "print(\"\\nArray F1:\\n\", F1)\n",
        "J1 = np.vstack((G1,F1)) # join - stack arrays verticaly\n",
        "print(\"\\nArray J1:\\n\", J1)\n",
        "C1 = np.hstack((G1,F1))# join - stack arrays horizontaly\n",
        "print(\"\\nArray C1:\\n\", C1)\n",
        "q1 = J1.ravel() # convert to 1D array\n",
        "print(\"\\nArray q1:\\n\",q1)\n",
        "r1 = C1.flatten() # flatten returns a copy of the array\n",
        "print(\"\\nArray r1:\\n\",r1)"
      ],
      "execution_count": 0,
      "outputs": [
        {
          "output_type": "stream",
          "text": [
            "\n",
            "Array G:\n",
            " [[0 1 2]\n",
            " [2 3 4]]\n",
            "\n",
            "Array G1:\n",
            " [[0 1]\n",
            " [2 2]\n",
            " [3 4]]\n",
            "\n",
            "Array F1:\n",
            " [[0.63840772 0.70841107]\n",
            " [0.75593712 0.070072  ]\n",
            " [0.98226748 0.44278496]]\n",
            "\n",
            "Array J1:\n",
            " [[0.         1.        ]\n",
            " [2.         2.        ]\n",
            " [3.         4.        ]\n",
            " [0.63840772 0.70841107]\n",
            " [0.75593712 0.070072  ]\n",
            " [0.98226748 0.44278496]]\n",
            "\n",
            "Array C1:\n",
            " [[0.         1.         0.63840772 0.70841107]\n",
            " [2.         2.         0.75593712 0.070072  ]\n",
            " [3.         4.         0.98226748 0.44278496]]\n",
            "\n",
            "Array q1:\n",
            " [0.         1.         2.         2.         3.         4.\n",
            " 0.63840772 0.70841107 0.75593712 0.070072   0.98226748 0.44278496]\n",
            "\n",
            "Array r1:\n",
            " [0.         1.         0.63840772 0.70841107 2.         2.\n",
            " 0.75593712 0.070072   3.         4.         0.98226748 0.44278496]\n"
          ],
          "name": "stdout"
        }
      ]
    },
    {
      "cell_type": "code",
      "metadata": {
        "id": "sZbraI4PrrDk",
        "colab_type": "code",
        "outputId": "76a70f82-24df-4da0-a579-4d8564a099e7",
        "colab": {
          "base_uri": "https://localhost:8080/",
          "height": 68
        }
      },
      "source": [
        "#Excercise 3- operations on Arrays\n",
        "# arithmetic operations between equal-size arrays applies the operation element-wise:\n",
        "q1 + r1"
      ],
      "execution_count": 0,
      "outputs": [
        {
          "output_type": "execute_result",
          "data": {
            "text/plain": [
              "array([0.        , 2.        , 2.63840772, 2.70841107, 5.        ,\n",
              "       6.        , 1.39434484, 0.77848308, 3.75593712, 4.070072  ,\n",
              "       1.96453497, 0.88556992])"
            ]
          },
          "metadata": {
            "tags": []
          },
          "execution_count": 23
        }
      ]
    },
    {
      "cell_type": "code",
      "metadata": {
        "id": "ThLLg4g-tkn-",
        "colab_type": "code",
        "outputId": "89a6408d-7725-46a7-ad26-2e5e6d1a1e12",
        "colab": {
          "base_uri": "https://localhost:8080/",
          "height": 68
        }
      },
      "source": [
        "#universal functios (ufuncs), a function that a function that performs element-wise operations on data in ndarrays\n",
        "np.add(G1,F1)"
      ],
      "execution_count": 0,
      "outputs": [
        {
          "output_type": "execute_result",
          "data": {
            "text/plain": [
              "array([[0.63840772, 1.70841107],\n",
              "       [2.75593712, 2.070072  ],\n",
              "       [3.98226748, 4.44278496]])"
            ]
          },
          "metadata": {
            "tags": []
          },
          "execution_count": 24
        }
      ]
    },
    {
      "cell_type": "code",
      "metadata": {
        "id": "i_ryxe3SuD60",
        "colab_type": "code",
        "outputId": "1ea6322f-e1f5-4b82-e095-c4daaa2d068d",
        "colab": {
          "base_uri": "https://localhost:8080/",
          "height": 68
        }
      },
      "source": [
        "# other arithmetic functions\n",
        "G1 * F1"
      ],
      "execution_count": 0,
      "outputs": [
        {
          "output_type": "execute_result",
          "data": {
            "text/plain": [
              "array([[0.        , 0.70841107],\n",
              "       [1.51187425, 0.14014401],\n",
              "       [2.94680245, 1.77113984]])"
            ]
          },
          "metadata": {
            "tags": []
          },
          "execution_count": 25
        }
      ]
    },
    {
      "cell_type": "code",
      "metadata": {
        "id": "boFWKgXZuOSI",
        "colab_type": "code",
        "outputId": "fa2e039a-59dd-4109-8f54-b7042c48694e",
        "colab": {
          "base_uri": "https://localhost:8080/",
          "height": 68
        }
      },
      "source": [
        "#with the ufunc equivalent\n",
        "np.multiply(q1,r1)"
      ],
      "execution_count": 0,
      "outputs": [
        {
          "output_type": "execute_result",
          "data": {
            "text/plain": [
              "array([0.        , 1.        , 1.27681544, 1.41682215, 6.        ,\n",
              "       8.        , 0.4825961 , 0.04963978, 2.26781137, 0.28028801,\n",
              "       0.96484941, 0.19605852])"
            ]
          },
          "metadata": {
            "tags": []
          },
          "execution_count": 26
        }
      ]
    },
    {
      "cell_type": "code",
      "metadata": {
        "id": "iInFWAjNuZu0",
        "colab_type": "code",
        "outputId": "10f3d868-adf7-44f3-8898-71bdc12dda74",
        "colab": {
          "base_uri": "https://localhost:8080/",
          "height": 88
        }
      },
      "source": [
        "#division \n",
        "1/a"
      ],
      "execution_count": 0,
      "outputs": [
        {
          "output_type": "stream",
          "text": [
            "/usr/local/lib/python3.6/dist-packages/ipykernel_launcher.py:1: RuntimeWarning: divide by zero encountered in true_divide\n",
            "  \"\"\"Entry point for launching an IPython kernel.\n"
          ],
          "name": "stderr"
        },
        {
          "output_type": "execute_result",
          "data": {
            "text/plain": [
              "array([ inf, 0.5 , 0.25])"
            ]
          },
          "metadata": {
            "tags": []
          },
          "execution_count": 32
        }
      ]
    },
    {
      "cell_type": "code",
      "metadata": {
        "id": "dUkljMxWvMzH",
        "colab_type": "code",
        "outputId": "4557d8eb-b549-4f6c-bf3f-d39ca6110b25",
        "colab": {
          "base_uri": "https://localhost:8080/",
          "height": 34
        }
      },
      "source": [
        "# raising a to the power 0.75\n",
        "a **0.75"
      ],
      "execution_count": 0,
      "outputs": [
        {
          "output_type": "execute_result",
          "data": {
            "text/plain": [
              "array([0.        , 1.68179283, 2.82842712])"
            ]
          },
          "metadata": {
            "tags": []
          },
          "execution_count": 33
        }
      ]
    },
    {
      "cell_type": "code",
      "metadata": {
        "id": "8OaP-ziAvWHu",
        "colab_type": "code",
        "outputId": "2124bd24-e926-4f20-a96d-d725abec5dd6",
        "colab": {
          "base_uri": "https://localhost:8080/",
          "height": 34
        }
      },
      "source": [
        "#exponential -calculates calculates e raise x for each x in your list where e is Euler's number for each x in your list where e is Euler's number\n",
        "np.exp(a)"
      ],
      "execution_count": 0,
      "outputs": [
        {
          "output_type": "execute_result",
          "data": {
            "text/plain": [
              "array([ 1.        ,  7.3890561 , 54.59815003])"
            ]
          },
          "metadata": {
            "tags": []
          },
          "execution_count": 34
        }
      ]
    },
    {
      "cell_type": "code",
      "metadata": {
        "id": "8qpyX-pFwfRt",
        "colab_type": "code",
        "outputId": "b8fcf1c3-da72-4471-c102-6a0cc7134a62",
        "colab": {
          "base_uri": "https://localhost:8080/",
          "height": 34
        }
      },
      "source": [
        "np.sqrt(a)# elementwise square root"
      ],
      "execution_count": 0,
      "outputs": [
        {
          "output_type": "execute_result",
          "data": {
            "text/plain": [
              "array([0.        , 1.41421356, 2.        ])"
            ]
          },
          "metadata": {
            "tags": []
          },
          "execution_count": 36
        }
      ]
    },
    {
      "cell_type": "code",
      "metadata": {
        "id": "r8Ld-VSXwpdK",
        "colab_type": "code",
        "outputId": "187f2891-27d3-4ce0-f99a-ec228b5fc4e8",
        "colab": {
          "base_uri": "https://localhost:8080/",
          "height": 119
        }
      },
      "source": [
        "#create two arrays\n",
        "t = np.random.randn(8)\n",
        "print(t)\n",
        "w = np.random.randn(8)\n",
        "print(w)\n",
        "np.maximum(t, w) #compares the arrays"
      ],
      "execution_count": 0,
      "outputs": [
        {
          "output_type": "stream",
          "text": [
            "[ 1.58152579 -0.58872895 -2.07046962 -0.71883395  1.10463582  0.58242986\n",
            "  0.60900024 -0.09867074]\n",
            "[-0.42939258  0.90881791  0.58666218 -0.33366714 -0.61199956  0.0462085\n",
            " -2.02062189 -0.37046629]\n"
          ],
          "name": "stdout"
        },
        {
          "output_type": "execute_result",
          "data": {
            "text/plain": [
              "array([ 1.58152579,  0.90881791,  0.58666218, -0.33366714,  1.10463582,\n",
              "        0.58242986,  0.60900024, -0.09867074])"
            ]
          },
          "metadata": {
            "tags": []
          },
          "execution_count": 52
        }
      ]
    },
    {
      "cell_type": "code",
      "metadata": {
        "id": "eE6rSzhzxMTy",
        "colab_type": "code",
        "outputId": "ecce48d0-20aa-4a07-ef73-96711cb35a0c",
        "colab": {
          "base_uri": "https://localhost:8080/",
          "height": 34
        }
      },
      "source": [
        "#statistical methods are available, such as mean(), sum() and cumsum() - cumulative sum()\n",
        "np.sum(q1)"
      ],
      "execution_count": 0,
      "outputs": [
        {
          "output_type": "execute_result",
          "data": {
            "text/plain": [
              "15.597880367440771"
            ]
          },
          "metadata": {
            "tags": []
          },
          "execution_count": 53
        }
      ]
    },
    {
      "cell_type": "code",
      "metadata": {
        "id": "UVt9I72gy-Xn",
        "colab_type": "code",
        "outputId": "689d750a-0d1d-478f-9957-d9070b470b9b",
        "colab": {
          "base_uri": "https://localhost:8080/",
          "height": 34
        }
      },
      "source": [
        "np.mean(q1)"
      ],
      "execution_count": 0,
      "outputs": [
        {
          "output_type": "execute_result",
          "data": {
            "text/plain": [
              "1.2998233639533976"
            ]
          },
          "metadata": {
            "tags": []
          },
          "execution_count": 54
        }
      ]
    },
    {
      "cell_type": "code",
      "metadata": {
        "id": "UvDoilePzAsq",
        "colab_type": "code",
        "outputId": "e68a9252-b6e3-42b9-b125-9890b4ceeafb",
        "colab": {
          "base_uri": "https://localhost:8080/",
          "height": 68
        }
      },
      "source": [
        "np.cumsum(q1)"
      ],
      "execution_count": 0,
      "outputs": [
        {
          "output_type": "execute_result",
          "data": {
            "text/plain": [
              "array([ 0.        ,  1.        ,  3.        ,  5.        ,  8.        ,\n",
              "       12.        , 12.63840772, 13.3468188 , 14.10275592, 14.17282792,\n",
              "       15.15509541, 15.59788037])"
            ]
          },
          "metadata": {
            "tags": []
          },
          "execution_count": 55
        }
      ]
    },
    {
      "cell_type": "code",
      "metadata": {
        "id": "0pCTEEZQxfWn",
        "colab_type": "code",
        "outputId": "96c62601-9c2b-4ba0-9c13-2752db10176e",
        "colab": {
          "base_uri": "https://localhost:8080/",
          "height": 119
        }
      },
      "source": [
        "# we can use boolean operations to filter values\n",
        "u = np.array([[1,2], [3,4], [5,6]]) \n",
        "print(u)\n",
        "#find the element in u that are bigger than 2\n",
        "print((u>2))"
      ],
      "execution_count": 0,
      "outputs": [
        {
          "output_type": "stream",
          "text": [
            "[[1 2]\n",
            " [3 4]\n",
            " [5 6]]\n",
            "[[False False]\n",
            " [ True  True]\n",
            " [ True  True]]\n"
          ],
          "name": "stdout"
        }
      ]
    },
    {
      "cell_type": "code",
      "metadata": {
        "id": "1TANZgVvyrhR",
        "colab_type": "code",
        "outputId": "0f03d180-00ae-4e10-c62b-ef5af2e52f6b",
        "colab": {
          "base_uri": "https://localhost:8080/",
          "height": 51
        }
      },
      "source": [
        "#use mask to get actual value\n",
        "print(\"Values of array elements bigger than 2\")\n",
        "print(u[u > 2])"
      ],
      "execution_count": 0,
      "outputs": [
        {
          "output_type": "stream",
          "text": [
            "Values of array elements bigger than 2\n",
            "[3 4 5 6]\n"
          ],
          "name": "stdout"
        }
      ]
    },
    {
      "cell_type": "code",
      "metadata": {
        "id": "y0KISPjGy1dr",
        "colab_type": "code",
        "outputId": "2105fa63-a178-4880-d058-f4bf6582ffaf",
        "colab": {
          "base_uri": "https://localhost:8080/",
          "height": 102
        }
      },
      "source": [
        "#Excercise 3.1\n",
        "#create two arrays\n",
        "t1 = np.random.random(4)\n",
        "print(t1)\n",
        "w1 = np.arange(4)\n",
        "print(w1)\n",
        "N1 = (np.multiply(t1,w1))/2\n",
        "print(N1)\n",
        "N2 = np.mean(N1)\n",
        "print(N2)\n",
        "N1[1:3]"
      ],
      "execution_count": 67,
      "outputs": [
        {
          "output_type": "stream",
          "text": [
            "[0.15822365 0.93713675 0.55009296 0.62910561]\n",
            "[0 1 2 3]\n",
            "[0.         0.46856837 0.55009296 0.94365841]\n",
            "0.49057993668291877\n"
          ],
          "name": "stdout"
        },
        {
          "output_type": "execute_result",
          "data": {
            "text/plain": [
              "array([0.46856837, 0.55009296])"
            ]
          },
          "metadata": {
            "tags": []
          },
          "execution_count": 67
        }
      ]
    }
  ]
}