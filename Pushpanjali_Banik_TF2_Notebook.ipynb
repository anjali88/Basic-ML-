{
  "nbformat": 4,
  "nbformat_minor": 0,
  "metadata": {
    "colab": {
      "name": "Pushpanjali_Banik_.ipynb",
      "provenance": [],
      "collapsed_sections": [],
      "authorship_tag": "ABX9TyO5XBhufl/ip5Tscuvj4nGh",
      "include_colab_link": true
    },
    "kernelspec": {
      "name": "python3",
      "display_name": "Python 3"
    }
  },
  "cells": [
    {
      "cell_type": "markdown",
      "metadata": {
        "id": "view-in-github",
        "colab_type": "text"
      },
      "source": [
        "<a href=\"https://colab.research.google.com/github/anjali88/Basic-ML-/blob/master/Pushpanjali_Banik_TF2_Notebook.ipynb\" target=\"_parent\"><img src=\"https://colab.research.google.com/assets/colab-badge.svg\" alt=\"Open In Colab\"/></a>"
      ]
    },
    {
      "cell_type": "code",
      "metadata": {
        "id": "jmA8NPm5neRx",
        "colab_type": "code",
        "colab": {
          "base_uri": "https://localhost:8080/",
          "height": 68
        },
        "outputId": "c03fa8e5-609a-41b7-d0e3-530e6224a89c"
      },
      "source": [
        "# Load Libraries\n",
        "\n",
        "# we need to install tensorflow 2.0 on the google cloud notebook we have opened\n",
        "!pip install -q tensorflow==2.0.0-alpha0"
      ],
      "execution_count": 1,
      "outputs": [
        {
          "output_type": "stream",
          "text": [
            "\u001b[K     |████████████████████████████████| 79.9MB 53kB/s \n",
            "\u001b[K     |████████████████████████████████| 419kB 50.9MB/s \n",
            "\u001b[K     |████████████████████████████████| 3.0MB 40.4MB/s \n",
            "\u001b[?25h"
          ],
          "name": "stdout"
        }
      ]
    },
    {
      "cell_type": "code",
      "metadata": {
        "id": "y-IDVcZUn5Nq",
        "colab_type": "code",
        "colab": {
          "base_uri": "https://localhost:8080/",
          "height": 462
        },
        "outputId": "084f4141-366c-4be2-92c5-410832ffd289"
      },
      "source": [
        "# imports future functionality that might modify modules otherwise used and make them incompatible in the future. \n",
        "# We are future proofing by importing modules that modify or replace exising modules that we may have used now \n",
        "from __future__ import absolute_import, division, print_function, unicode_literals\n",
        "# import tensorflow and tf.keras\n",
        "import tensorflow as tf\n",
        "from tensorflow import keras\n",
        "# import helper libraries\n",
        "import numpy as np\n",
        "import matplotlib.pyplot as plt\n",
        "# let's print out the version we are using \n",
        "print(tf.__version__)\n"
      ],
      "execution_count": 2,
      "outputs": [
        {
          "output_type": "stream",
          "text": [
            "/usr/local/lib/python3.6/dist-packages/tensorflow/python/framework/dtypes.py:523: FutureWarning: Passing (type, 1) or '1type' as a synonym of type is deprecated; in a future version of numpy, it will be understood as (type, (1,)) / '(1,)type'.\n",
            "  _np_qint8 = np.dtype([(\"qint8\", np.int8, 1)])\n",
            "/usr/local/lib/python3.6/dist-packages/tensorflow/python/framework/dtypes.py:524: FutureWarning: Passing (type, 1) or '1type' as a synonym of type is deprecated; in a future version of numpy, it will be understood as (type, (1,)) / '(1,)type'.\n",
            "  _np_quint8 = np.dtype([(\"quint8\", np.uint8, 1)])\n",
            "/usr/local/lib/python3.6/dist-packages/tensorflow/python/framework/dtypes.py:525: FutureWarning: Passing (type, 1) or '1type' as a synonym of type is deprecated; in a future version of numpy, it will be understood as (type, (1,)) / '(1,)type'.\n",
            "  _np_qint16 = np.dtype([(\"qint16\", np.int16, 1)])\n",
            "/usr/local/lib/python3.6/dist-packages/tensorflow/python/framework/dtypes.py:526: FutureWarning: Passing (type, 1) or '1type' as a synonym of type is deprecated; in a future version of numpy, it will be understood as (type, (1,)) / '(1,)type'.\n",
            "  _np_quint16 = np.dtype([(\"quint16\", np.uint16, 1)])\n",
            "/usr/local/lib/python3.6/dist-packages/tensorflow/python/framework/dtypes.py:527: FutureWarning: Passing (type, 1) or '1type' as a synonym of type is deprecated; in a future version of numpy, it will be understood as (type, (1,)) / '(1,)type'.\n",
            "  _np_qint32 = np.dtype([(\"qint32\", np.int32, 1)])\n",
            "/usr/local/lib/python3.6/dist-packages/tensorflow/python/framework/dtypes.py:532: FutureWarning: Passing (type, 1) or '1type' as a synonym of type is deprecated; in a future version of numpy, it will be understood as (type, (1,)) / '(1,)type'.\n",
            "  np_resource = np.dtype([(\"resource\", np.ubyte, 1)])\n"
          ],
          "name": "stderr"
        },
        {
          "output_type": "stream",
          "text": [
            "2.0.0-alpha0\n"
          ],
          "name": "stdout"
        },
        {
          "output_type": "stream",
          "text": [
            "/usr/local/lib/python3.6/dist-packages/tensorboard/compat/tensorflow_stub/dtypes.py:541: FutureWarning: Passing (type, 1) or '1type' as a synonym of type is deprecated; in a future version of numpy, it will be understood as (type, (1,)) / '(1,)type'.\n",
            "  _np_qint8 = np.dtype([(\"qint8\", np.int8, 1)])\n",
            "/usr/local/lib/python3.6/dist-packages/tensorboard/compat/tensorflow_stub/dtypes.py:542: FutureWarning: Passing (type, 1) or '1type' as a synonym of type is deprecated; in a future version of numpy, it will be understood as (type, (1,)) / '(1,)type'.\n",
            "  _np_quint8 = np.dtype([(\"quint8\", np.uint8, 1)])\n",
            "/usr/local/lib/python3.6/dist-packages/tensorboard/compat/tensorflow_stub/dtypes.py:543: FutureWarning: Passing (type, 1) or '1type' as a synonym of type is deprecated; in a future version of numpy, it will be understood as (type, (1,)) / '(1,)type'.\n",
            "  _np_qint16 = np.dtype([(\"qint16\", np.int16, 1)])\n",
            "/usr/local/lib/python3.6/dist-packages/tensorboard/compat/tensorflow_stub/dtypes.py:544: FutureWarning: Passing (type, 1) or '1type' as a synonym of type is deprecated; in a future version of numpy, it will be understood as (type, (1,)) / '(1,)type'.\n",
            "  _np_quint16 = np.dtype([(\"quint16\", np.uint16, 1)])\n",
            "/usr/local/lib/python3.6/dist-packages/tensorboard/compat/tensorflow_stub/dtypes.py:545: FutureWarning: Passing (type, 1) or '1type' as a synonym of type is deprecated; in a future version of numpy, it will be understood as (type, (1,)) / '(1,)type'.\n",
            "  _np_qint32 = np.dtype([(\"qint32\", np.int32, 1)])\n",
            "/usr/local/lib/python3.6/dist-packages/tensorboard/compat/tensorflow_stub/dtypes.py:550: FutureWarning: Passing (type, 1) or '1type' as a synonym of type is deprecated; in a future version of numpy, it will be understood as (type, (1,)) / '(1,)type'.\n",
            "  np_resource = np.dtype([(\"resource\", np.ubyte, 1)])\n"
          ],
          "name": "stderr"
        }
      ]
    },
    {
      "cell_type": "markdown",
      "metadata": {
        "id": "XIFkpn1EoPwN",
        "colab_type": "text"
      },
      "source": [
        "> **Data**\n",
        "\n",
        "What do we need to think about with regard to our data?\n",
        "\n",
        "We need to understand what our input and output data is. Given the problem we are trying to solve, does the data help us?\n",
        "For this notebook, we are classifying images. This means that our input data are a series of images and our output data are the classes we want to use to classify images.\n",
        "We are using a well known dataset so can expect the data to be complete and not corrupted, but you might need to check this when you are using different datasets.\n",
        "What about processing inputs, the first conceptual block above?\n",
        "\n",
        "Our aim is to ensure the data is a suitable state to model, and that the data is loaded into the training loop in a way that maximises learning.\n",
        "There are a few things we might do to ensure that our data is processed correctly. For now, we will begin by understanding the size and shape of the data, and by rescaling it so that it can be modelled effectively. We will also split our data into training and test sets.\n",
        "Let's start by going through some code to load the data.\n"
      ]
    },
    {
      "cell_type": "code",
      "metadata": {
        "id": "Gs1Fe0bAoKxA",
        "colab_type": "code",
        "colab": {
          "base_uri": "https://localhost:8080/",
          "height": 153
        },
        "outputId": "aad479ee-8a1b-4e27-82fc-d4500fbf0587"
      },
      "source": [
        "# using a preloaded dataset \n",
        "fashion_mnist = keras.datasets.fashion_mnist\n",
        "# load_data() is used to load a keras_dataset\n",
        "# it returns two sets of tuples that provides data set arrays and labels, one for training and one for testing data \n",
        "(train_images, train_labels), (test_images, test_labels) = fashion_mnist.load_data()"
      ],
      "execution_count": 3,
      "outputs": [
        {
          "output_type": "stream",
          "text": [
            "Downloading data from https://storage.googleapis.com/tensorflow/tf-keras-datasets/train-labels-idx1-ubyte.gz\n",
            "32768/29515 [=================================] - 0s 0us/step\n",
            "Downloading data from https://storage.googleapis.com/tensorflow/tf-keras-datasets/train-images-idx3-ubyte.gz\n",
            "26427392/26421880 [==============================] - 0s 0us/step\n",
            "Downloading data from https://storage.googleapis.com/tensorflow/tf-keras-datasets/t10k-labels-idx1-ubyte.gz\n",
            "8192/5148 [===============================================] - 0s 0us/step\n",
            "Downloading data from https://storage.googleapis.com/tensorflow/tf-keras-datasets/t10k-images-idx3-ubyte.gz\n",
            "4423680/4422102 [==============================] - 0s 0us/step\n"
          ],
          "name": "stdout"
        }
      ]
    },
    {
      "cell_type": "markdown",
      "metadata": {
        "id": "Rsstmp3MonS8",
        "colab_type": "text"
      },
      "source": [
        "What did we just do and why?\n",
        "\n",
        "We loaded and split our data into training and test sets. Each set has our images and a corresponding array of labels.\n",
        "In machine learning, it is good practice to have both a training and a testing set.\n",
        "We will train our model on the training set, meaning we will compare the predicts our model makes against known results to update the model parameters. This will help improve the model.\n",
        "At the end of training, we will use our model to predict results on our test data. This is input data that the model has not been trained on, and the corresponding output labels that the model doesn't see. We will then compare the results of our model with the actual labels.\n",
        "The ability of the model to predict accurately using unseen data is the benchmark that determines how effective the model.\n",
        "What are our inputs and outputs?\n",
        "\n",
        "In this instance, we returned four numpy arrays:\n",
        "train_images\n",
        "train_labels\n",
        "test_images\n",
        "test_labels\n",
        "Now that we have loaded and split our data, we can explore the size and shape of the dataset, and preprocess it as required."
      ]
    },
    {
      "cell_type": "code",
      "metadata": {
        "id": "yETkhHpYop4y",
        "colab_type": "code",
        "colab": {
          "base_uri": "https://localhost:8080/",
          "height": 34
        },
        "outputId": "394b69c9-6f43-48ec-d809-dc24d3dff095"
      },
      "source": [
        "# lets start by looking at the size of the train and test sets\n",
        "# lets get the shape\n",
        "train_images.shape\n",
        "# get the same info for our test set\n",
        "test_images.shape"
      ],
      "execution_count": 4,
      "outputs": [
        {
          "output_type": "execute_result",
          "data": {
            "text/plain": [
              "(10000, 28, 28)"
            ]
          },
          "metadata": {
            "tags": []
          },
          "execution_count": 4
        }
      ]
    },
    {
      "cell_type": "markdown",
      "metadata": {
        "id": "8bsPDLrDo1hn",
        "colab_type": "text"
      },
      "source": [
        "What does this show?\n",
        "\n",
        "We have 60,000 images in our train set, and 10000 images in our test set. It is common practice to have significantly more training than testing images.\n",
        "We can also see that the shape of the data for each image is 28 x 28. This is 28 rows by 28 columns. Compared to other image data you might model in the future, this is small and is why this is a good dataset for a tutorial.\n",
        "If the training and testing image sizes were different, we would need to get them to the same size to pass in to the model.\n",
        "When we create our model we will need to pass the shape information to the model's first layer."
      ]
    },
    {
      "cell_type": "code",
      "metadata": {
        "id": "JOCnEpYao3Js",
        "colab_type": "code",
        "colab": {
          "base_uri": "https://localhost:8080/",
          "height": 34
        },
        "outputId": "574e0e1a-f2ed-4e39-e572-c23a79b098a9"
      },
      "source": [
        "## let's look at our training labels\n",
        "\n",
        "# we can see that there are 10 labels\n",
        "np.unique(train_labels)"
      ],
      "execution_count": 5,
      "outputs": [
        {
          "output_type": "execute_result",
          "data": {
            "text/plain": [
              "array([0, 1, 2, 3, 4, 5, 6, 7, 8, 9], dtype=uint8)"
            ]
          },
          "metadata": {
            "tags": []
          },
          "execution_count": 5
        }
      ]
    },
    {
      "cell_type": "code",
      "metadata": {
        "id": "u41P2WrMpAd-",
        "colab_type": "code",
        "colab": {
          "base_uri": "https://localhost:8080/",
          "height": 34
        },
        "outputId": "79e11f53-c592-4c93-e3f5-0485d7f93df9"
      },
      "source": [
        "# and that the train and test labels correspond to the size of the train and test sets\n",
        "len(train_labels)"
      ],
      "execution_count": 6,
      "outputs": [
        {
          "output_type": "execute_result",
          "data": {
            "text/plain": [
              "60000"
            ]
          },
          "metadata": {
            "tags": []
          },
          "execution_count": 6
        }
      ]
    },
    {
      "cell_type": "code",
      "metadata": {
        "id": "fGnX_8NFpB5j",
        "colab_type": "code",
        "colab": {
          "base_uri": "https://localhost:8080/",
          "height": 34
        },
        "outputId": "491f6aa1-78de-480c-a1a4-518a0490116a"
      },
      "source": [
        "test_labels.shape"
      ],
      "execution_count": 7,
      "outputs": [
        {
          "output_type": "execute_result",
          "data": {
            "text/plain": [
              "(10000,)"
            ]
          },
          "metadata": {
            "tags": []
          },
          "execution_count": 7
        }
      ]
    },
    {
      "cell_type": "code",
      "metadata": {
        "id": "wDtGnP7dpEaK",
        "colab_type": "code",
        "colab": {}
      },
      "source": [
        "## we can see that our labels are just numbers. We need to match them to description of the image\n",
        "\n",
        "# create a list of the labels\n",
        "class_names = ['T-shirt/top', 'Trouser', 'Pullover', 'Dress', 'Coat',\n",
        "               'Sandal', 'Shirt', 'Sneaker', 'Bag', 'Ankle boot']"
      ],
      "execution_count": 0,
      "outputs": []
    },
    {
      "cell_type": "markdown",
      "metadata": {
        "id": "IBw-LNJspK1d",
        "colab_type": "text"
      },
      "source": [
        "We also need to preprocess the images by rescaling them. Why?\n",
        "\n",
        "As you will see below, all of our image arrays are between the values of 0 and 255, with each value corresponding to a colour. We need to rescale them so that they are all between 0 and 1.\n",
        "The high level reason for this is that this helps with training the model. The model will update its parameters more effectively if all the input values are on the same scale, and in a defined range between 0 and 1.\n"
      ]
    },
    {
      "cell_type": "code",
      "metadata": {
        "id": "Y88u-KmBpMTB",
        "colab_type": "code",
        "colab": {
          "base_uri": "https://localhost:8080/",
          "height": 265
        },
        "outputId": "44e5e589-2b74-430d-ff59-e325257178bb"
      },
      "source": [
        "## lets look at an image and use matplotlib to plot the array values\n",
        "# converts the numpy array to an image and displays it\n",
        "plt.imshow(train_images[0])\n",
        "# displays the image values \n",
        "plt.colorbar()\n",
        "# displays the chart only - comment out to see what info it omits\n",
        "plt.show()"
      ],
      "execution_count": 9,
      "outputs": [
        {
          "output_type": "display_data",
          "data": {
            "image/png": "[encoded data removed]",
            "text/plain": [
              "<Figure size 432x288 with 2 Axes>"
            ]
          },
          "metadata": {
            "tags": []
          }
        }
      ]
    },
    {
      "cell_type": "code",
      "metadata": {
        "id": "HsGOnAT5pRDm",
        "colab_type": "code",
        "colab": {}
      },
      "source": [
        "# lets preprocess\n",
        "train_images = train_images / 255.0 \n",
        "\n",
        "# we need to do the same to the test and training set\n",
        "test_images = test_images / 255.0"
      ],
      "execution_count": 0,
      "outputs": []
    },
    {
      "cell_type": "code",
      "metadata": {
        "id": "yAKCItL3pYYt",
        "colab_type": "code",
        "colab": {
          "base_uri": "https://localhost:8080/",
          "height": 269
        },
        "outputId": "76e9ec87-2aaf-4d75-8e30-2c222d84da79"
      },
      "source": [
        "# lets look again at the pixel range \n",
        "plt.imshow(train_images[0])\n",
        "plt.colorbar()\n",
        "plt.show()"
      ],
      "execution_count": 11,
      "outputs": [
        {
          "output_type": "display_data",
          "data": {
            "image/png": "[encoded data removed]",
            "text/plain": [
              "<Figure size 432x288 with 2 Axes>"
            ]
          },
          "metadata": {
            "tags": []
          }
        }
      ]
    },
    {
      "cell_type": "code",
      "metadata": {
        "id": "GMAQY_6Kpc3f",
        "colab_type": "code",
        "colab": {
          "base_uri": "https://localhost:8080/",
          "height": 589
        },
        "outputId": "2e15ca31-cdb5-4d59-fee0-5e4852a47218"
      },
      "source": [
        "# now we have the class names, lets look at a selection of the images\n",
        "# sets the size of the overall display for our images\n",
        "plt.figure(figsize=(10,10))\n",
        "# loops through the first 25 images\n",
        "for i in range (25):\n",
        "  # sets a location for each of the images\n",
        "  plt.subplot(5,5,i+1)\n",
        "  # removes the axis lables\n",
        "  plt.xticks([])\n",
        "  plt.yticks([])\n",
        "  plt.grid(False)\n",
        "  # displays the image \n",
        "  plt.imshow(train_images[i], cmap=plt.cm.binary)\n",
        "  # plots the label, mapping the label to our list of clothing items\n",
        "  plt.xlabel(class_names[train_labels[i]])\n",
        "# displays the image and label\n",
        "plt.show() "
      ],
      "execution_count": 12,
      "outputs": [
        {
          "output_type": "display_data",
          "data": {
            "image/png": "[encoded data removed]",
            "text/plain": [
              "<Figure size 720x720 with 25 Axes>"
            ]
          },
          "metadata": {
            "tags": []
          }
        }
      ]
    },
    {
      "cell_type": "markdown",
      "metadata": {
        "id": "b48EJPzLpqfh",
        "colab_type": "text"
      },
      "source": [
        "What is a deep learning model?\n",
        "\n",
        "The image above (credit) sets out the main components of a deep learning model:\n",
        "an input layer that takes our data\n",
        "an output layer that returns a value\n",
        "hidden layers that generate the parameters that will learn the mapping between inputs and outputs.\n",
        "The hidden layers provide the depth to the model.\n",
        "the arrows, which represent the connections between the layers. Each arrow shows how a value from one layer will be passed to another. As the value is passed from one layer to another, its is multiplied by a weight, which is a learned parameter, to return a different value.\n",
        "nodes in each of the layers that represent the activation functions within the model. An activation function is where the product of all the inputs and weights into the node are summed, along with a bias term (biases are also a learned parameter) and where an output value is returned dependent on the sort of activation function we choose.\n",
        "We configure the model by setting the number of layers and defining what each layers does prior to training the model on our data.\n",
        "How do we build Deep Learning Models?\n",
        "\n",
        "In order to build a deep learning model, we can define the following hyperparameters: the number of layers, the size of layer, the type of layer, and the type of activation function in each layer.\n",
        "So layers are important?\n",
        "\n",
        "The building block of a neural network is the layer. Layers make up models as we can see from the diagram above.\n",
        "Layers extract representations from the data fed into them (taken from 'first CNN tutorial'). They contain the parameters (weights and biases) that our model learns to make predictions.\n",
        "Given that the layer parameters are learned during train, our task in building a deep learning model is to ensure there is sufficient capacity in the model to learn the representations required to map between the input and output data.\n",
        "This capacity is provided by the number of layers and the size of each layer (the number of parameters in each layer).\n",
        "The larger the capacity, the more representations we can have. But we need to trade off the number of parameters with the dangers of overfitting, or developing a model that is too specific to the training data and doesn't perform well on unseen data. (We will look at overfitting later)\n",
        "What about layer type?\n",
        "\n",
        "Layers perform a set of mathematical operations on the data. The sort of operations change depending on what representations we want and define with the code. We will use dense, or fully connected, layers in this tutorial, and convolutional layers in the following tutorials.\n",
        "These different layers are best suited to different tasks within the mode, as we will see in these notebooks.\n",
        "So its just layers?\n",
        "\n",
        "No, we also define activation functions. These take input values (which will be the product of the output values of the previous layer and the weight parameter), sum them together and produce an output value. The value returned will depend on the type of activation function selected.\n",
        "The output layer will usually have a different activation function to the rest of the model, one that will be based on the required output of the model.\n",
        "That's a lot to take in...\n",
        "\n",
        "It is. But these tutorials will set out some good guidelines. We will learn that:\n",
        "Convolutional layers are good for extracting representations from image data, while dense layers are better suited for classifying those representation by mapping them to the outputs.\n",
        "An effective activation function for the dense hidden layers is Relu.\n",
        "An effective activation function for the output layer is Softmax.\n",
        "How do we build a model in Tensorflow 2.0?\n",
        "\n",
        "There are a number of ways to build models in tensorflow 2.0.\n",
        "Most straightforward is using the sequential API. We will use this to develop our models.\n",
        "We can also use the functional API and a technique known as sub-classing. They offer benefits over the sequential API if you want to build certain sorts of model.\n",
        "We will develop out first model below. As you will see - and this holds true for a lot of deep learning - the code required to implement complex ideas that require a lot of explanation is pretty small."
      ]
    },
    {
      "cell_type": "code",
      "metadata": {
        "id": "FNceUaoXpwzw",
        "colab_type": "code",
        "colab": {
          "base_uri": "https://localhost:8080/",
          "height": 255
        },
        "outputId": "a907a23e-5160-462f-82df-5e2bf2d1bba5"
      },
      "source": [
        "# here we instantiate a Sequential model \n",
        "# note that are passing in the layers as a list\n",
        "model = keras.Sequential([\n",
        "    # the input / flatten layer changes the input shape to a 1D array of 28x28 size \n",
        "    keras.layers.Flatten(input_shape=(28,28)),\n",
        "    # here we define the hidden / Dense layer. We specify the number of nodes - 128 - and the activatin function - relu\n",
        "    keras.layers.Dense(128, activation='relu'),\n",
        "    # we define the output / Dense layer with 10 nodes for 10 classes, and a softmax to return an array of 10 probability scores that sum to 1\n",
        "    keras.layers.Dense(10, activation='softmax')\n",
        "])\n",
        "# ability to print summary\n",
        "model.summary()"
      ],
      "execution_count": 13,
      "outputs": [
        {
          "output_type": "stream",
          "text": [
            "Model: \"sequential\"\n",
            "_________________________________________________________________\n",
            "Layer (type)                 Output Shape              Param #   \n",
            "=================================================================\n",
            "flatten (Flatten)            (None, 784)               0         \n",
            "_________________________________________________________________\n",
            "dense (Dense)                (None, 128)               100480    \n",
            "_________________________________________________________________\n",
            "dense_1 (Dense)              (None, 10)                1290      \n",
            "=================================================================\n",
            "Total params: 101,770\n",
            "Trainable params: 101,770\n",
            "Non-trainable params: 0\n",
            "_________________________________________________________________\n"
          ],
          "name": "stdout"
        }
      ]
    },
    {
      "cell_type": "markdown",
      "metadata": {
        "id": "FWNIRQe7p4mD",
        "colab_type": "text"
      },
      "source": [
        "**How do we arrive at the number of parameters?**\n",
        "\n",
        "Our first layer has 784 output parameters (28 x 28). Each of those outputs get passed to each of the nodes in the next layer (784 x 128). We also have a bias term for each node (128) giving us 100,480 learnable parameters.\n",
        "Its worth reinforcing that, in a dense layer, every output value gets passed to every input node in the next layer. The thing that is different is the weight applied to that value, which will be different - or has the potential to be different given that this is a learned parameter. Therefore, in this instance, each node in the hidden layer will receive 784 values from the previous layer, which will have been modified by a learned weight parameter. To this, we will also add one bias term, making 785 learnable parameters.\n",
        "\n",
        "Take the time to be comfortable with howe arrived at 1290 parameters for the output layer."
      ]
    },
    {
      "cell_type": "markdown",
      "metadata": {
        "id": "cKLWBBrTp81E",
        "colab_type": "text"
      },
      "source": [
        "**How do we train a model?**\n",
        "\n",
        "As per the chart in section 3, we training by making a forward pass and a backward pass.\n",
        "A forward pass means passing the inputs through the model and performing mathematical operations on the data as we defined in the model section to make predictions.\n",
        "A backward pass means updating the weights and biases of our model based on the results of the predictions.\n",
        "To do this using tensorflow 2.0, we will use the keras API. We first pass a .compile() method to our model, and then a .fit() method to our model.\n",
        "**What is compiling?**\n",
        "\n",
        "Compiling means that we assign certain variables to our model that are important in the training process:\n",
        "a loss function, which measures the distance between our predicted and actual classes.\n",
        "an optimizier, which updates the weights based on the backpropogation algorithm\n",
        "a metric to provide an appropriate additional measure of training performance. and an accuracy\n",
        "This is not an exhaustive list of what we variables we can pass to the .compile() method. We will pass additional variables in the following notebooks."
      ]
    },
    {
      "cell_type": "code",
      "metadata": {
        "id": "l0cy6G2GqIoe",
        "colab_type": "code",
        "colab": {}
      },
      "source": [
        "# we can see that this is a relatively easy thing to code\n",
        "# we pass in the optimiser that we wish to use \n",
        "model.compile(optimizer='adam',\n",
        "             # specify the loss function \n",
        "             loss='sparse_categorical_crossentropy',\n",
        "             # and we specify our metrics  \n",
        "             metrics=['accuracy'])"
      ],
      "execution_count": 0,
      "outputs": []
    },
    {
      "cell_type": "markdown",
      "metadata": {
        "id": "8FXQO56vqPXA",
        "colab_type": "text"
      },
      "source": [
        "**What is fitting?**\n",
        "\n",
        "The .fit() method governs the training process. To fit our model to the data is to pass the data through the model and see how well it predicts what we want it to predict, and then to update the model based on these results - that is, .fit() implements the forward and backward pass based on the model and training variables we have defined.\n",
        "In the .fit() method, we get to define the number of epochs (the number of times we go through the data), and a number of other variables that we will cover in following notebooks."
      ]
    },
    {
      "cell_type": "code",
      "metadata": {
        "id": "DG_dMI6hqR2f",
        "colab_type": "code",
        "colab": {
          "base_uri": "https://localhost:8080/",
          "height": 187
        },
        "outputId": "31a62902-6bbe-4bc7-bf28-fe862379ff42"
      },
      "source": [
        "# we just pass the fit method to the model, along with training data and corresponding output data \n",
        "# We also specify the number of epochs  \n",
        "history = model.fit(train_images,train_labels,epochs=5)"
      ],
      "execution_count": 15,
      "outputs": [
        {
          "output_type": "stream",
          "text": [
            "Epoch 1/5\n",
            "60000/60000 [==============================] - 5s 82us/sample - loss: 0.4963 - accuracy: 0.8261\n",
            "Epoch 2/5\n",
            "60000/60000 [==============================] - 5s 79us/sample - loss: 0.3752 - accuracy: 0.8652\n",
            "Epoch 3/5\n",
            "60000/60000 [==============================] - 5s 79us/sample - loss: 0.3352 - accuracy: 0.8767\n",
            "Epoch 4/5\n",
            "60000/60000 [==============================] - 5s 79us/sample - loss: 0.3132 - accuracy: 0.8845\n",
            "Epoch 5/5\n",
            "60000/60000 [==============================] - 5s 79us/sample - loss: 0.2944 - accuracy: 0.8913\n"
          ],
          "name": "stdout"
        }
      ]
    },
    {
      "cell_type": "markdown",
      "metadata": {
        "id": "3xIeeHnZqiAh",
        "colab_type": "text"
      },
      "source": [
        "**What do the different parts of the training print out mean?**\n",
        "\n",
        "The left hand side shows the number of epochs we have performed.\n",
        "For each epoch, we can see thow much of the training data we have used (its now 60000 / 60000 because training is over, but this figure changes as the data is loaded and passed through the model.)\n",
        "On the right hand side of the data, we can see: the time it has taken to complete the epoch; the loss for that epochm abd the accuracy for that epoch.\n",
        "How did we do?\n",
        "\n",
        "On the face of it, 89% accuracy seems pretty good. Given this is a publicly available dataset, then we can search to see how others have done on it. We will also apply different models to this dataset to see if we can improve our accuracy.\n",
        "We can see that our loss steadily reduced as the epochs increased, and the accuracy improved. This is a good sign and we would probably see further improvement if we ran the training for more epochs.\n",
        "The keras .fit() method returns a history object, which records the values of the training. We will explore this now and use it to easily plot these values."
      ]
    },
    {
      "cell_type": "code",
      "metadata": {
        "id": "qxbuhIWVqscW",
        "colab_type": "code",
        "colab": {
          "base_uri": "https://localhost:8080/",
          "height": 34
        },
        "outputId": "98204b79-5b96-4aa2-bb96-79d6a2fde090"
      },
      "source": [
        "# model.fit returns a history object, which contains a history dictionary about everything that happened during training \n",
        "history_dict = history.history\n",
        "history_dict.keys()"
      ],
      "execution_count": 16,
      "outputs": [
        {
          "output_type": "execute_result",
          "data": {
            "text/plain": [
              "dict_keys(['loss', 'accuracy'])"
            ]
          },
          "metadata": {
            "tags": []
          },
          "execution_count": 16
        }
      ]
    },
    {
      "cell_type": "code",
      "metadata": {
        "id": "vB8-nWcYquid",
        "colab_type": "code",
        "colab": {
          "base_uri": "https://localhost:8080/",
          "height": 102
        },
        "outputId": "125d6b59-c764-4184-fc1e-2a1634765441"
      },
      "source": [
        "# for example we can access the loss like this\n",
        "history_dict['loss']"
      ],
      "execution_count": 17,
      "outputs": [
        {
          "output_type": "execute_result",
          "data": {
            "text/plain": [
              "[0.49631653775374096,\n",
              " 0.37516098925073943,\n",
              " 0.33516009469628333,\n",
              " 0.31324792548219366,\n",
              " 0.29444742468396823]"
            ]
          },
          "metadata": {
            "tags": []
          },
          "execution_count": 17
        }
      ]
    },
    {
      "cell_type": "code",
      "metadata": {
        "id": "rqeS1Xnvo-BO",
        "colab_type": "code",
        "colab": {
          "base_uri": "https://localhost:8080/",
          "height": 204
        },
        "outputId": "2a63614e-5c40-41f1-f76f-81cd68a46a46"
      },
      "source": [
        "## we can pass this to a pandas dataframe\n",
        "# we need to import pandas\n",
        "import pandas as pd\n",
        "# pass history data to dataframe object\n",
        "history_df = pd.DataFrame(history_dict)\n",
        "# and display it \n",
        "history_df"
      ],
      "execution_count": 18,
      "outputs": [
        {
          "output_type": "execute_result",
          "data": {
            "text/html": [
              "<div>\n",
              "<style scoped>\n",
              "    .dataframe tbody tr th:only-of-type {\n",
              "        vertical-align: middle;\n",
              "    }\n",
              "\n",
              "    .dataframe tbody tr th {\n",
              "        vertical-align: top;\n",
              "    }\n",
              "\n",
              "    .dataframe thead th {\n",
              "        text-align: right;\n",
              "    }\n",
              "</style>\n",
              "<table border=\"1\" class=\"dataframe\">\n",
              "  <thead>\n",
              "    <tr style=\"text-align: right;\">\n",
              "      <th></th>\n",
              "      <th>loss</th>\n",
              "      <th>accuracy</th>\n",
              "    </tr>\n",
              "  </thead>\n",
              "  <tbody>\n",
              "    <tr>\n",
              "      <th>0</th>\n",
              "      <td>0.496317</td>\n",
              "      <td>0.826133</td>\n",
              "    </tr>\n",
              "    <tr>\n",
              "      <th>1</th>\n",
              "      <td>0.375161</td>\n",
              "      <td>0.865167</td>\n",
              "    </tr>\n",
              "    <tr>\n",
              "      <th>2</th>\n",
              "      <td>0.335160</td>\n",
              "      <td>0.876683</td>\n",
              "    </tr>\n",
              "    <tr>\n",
              "      <th>3</th>\n",
              "      <td>0.313248</td>\n",
              "      <td>0.884467</td>\n",
              "    </tr>\n",
              "    <tr>\n",
              "      <th>4</th>\n",
              "      <td>0.294447</td>\n",
              "      <td>0.891350</td>\n",
              "    </tr>\n",
              "  </tbody>\n",
              "</table>\n",
              "</div>"
            ],
            "text/plain": [
              "       loss  accuracy\n",
              "0  0.496317  0.826133\n",
              "1  0.375161  0.865167\n",
              "2  0.335160  0.876683\n",
              "3  0.313248  0.884467\n",
              "4  0.294447  0.891350"
            ]
          },
          "metadata": {
            "tags": []
          },
          "execution_count": 18
        }
      ]
    },
    {
      "cell_type": "code",
      "metadata": {
        "id": "53WFJtb1pENE",
        "colab_type": "code",
        "colab": {
          "base_uri": "https://localhost:8080/",
          "height": 324
        },
        "outputId": "23753b7c-d0e4-4fdf-af50-aaf77640aaf2"
      },
      "source": [
        "# we can use plot functionality of pandas to quickly plot our results\n",
        "history_df.plot(figsize=(8,5))\n",
        "# tailor our plot. Show the grid\n",
        "plt.grid(True)\n",
        "# set the vertical range to [0 -1]\n",
        "plt.gca().set_ylim(0,1)\n",
        "# display plot\n",
        "plt.show()"
      ],
      "execution_count": 19,
      "outputs": [
        {
          "output_type": "display_data",
          "data": {
            "image/png": "[encoded data removed]",
            "text/plain": [
              "<Figure size 576x360 with 1 Axes>"
            ]
          },
          "metadata": {
            "tags": []
          }
        }
      ]
    },
    {
      "cell_type": "markdown",
      "metadata": {
        "id": "891fHPxXjQkF",
        "colab_type": "text"
      },
      "source": [
        "**What does this show?**\n",
        "* The chart shows the improvement in loss and accuracy values over the epochs.\n",
        "* If we had used a validation set, we would be able to compare the values from the validation and training sets at each epoch, which would tell us a little more about how the model will be able to generalise to unseen data (we will look at this in next notebook).\n",
        "\n",
        "**what did we cover in this section?**\n",
        "\n",
        "That we need to perform a forward and backward pass to do training in deep learning.\n",
        "That to do this in tensorflow 2.0 is fairly easy using the keras API. We simply:\n",
        "pass a .compile() method to our model to define our loss, optimiser and metric variables\n",
        "and pass the .fit() method to our model in order to set the number of training loops and govern other related behaviour of the training process."
      ]
    },
    {
      "cell_type": "markdown",
      "metadata": {
        "id": "sq4XUWOwql-w",
        "colab_type": "text"
      },
      "source": [
        "**Evaluation and Inference**\n",
        "We have seen how the model performs on the training set, but we need to test it on unseen data to see how well the model really is peforming.\n",
        "To do this we can call the .evaluate() method on the model and pass in our test set. This returns the loss and scoring metric that we passed in to the .compile() method (in this case, accuracy).\n",
        "We can also use the .predict() method to make predictions on the test image. This method will return (in this instance) an array of 10 values, each representing a class label and the probability the model believes the passed in image is one of the 10 classes."
      ]
    },
    {
      "cell_type": "code",
      "metadata": {
        "id": "AtMJk2piqsz1",
        "colab_type": "code",
        "colab": {
          "base_uri": "https://localhost:8080/",
          "height": 102
        },
        "outputId": "ead02842-e725-448a-ace9-8dc88c83e722"
      },
      "source": [
        "# use the evaluate method\n",
        "# it returns two values, the loss and accuracy from our model\n",
        "test_loss, test_acc = model.evaluate(test_images, test_labels)\n",
        "# here we can print out the accuracy and loss\n",
        "print('\\nTest accuracy:', test_acc)\n",
        "print('\\nTest loss:', test_loss)\n",
        "# use our model to make predictions\n",
        "predictions = model.predict(test_images)"
      ],
      "execution_count": 20,
      "outputs": [
        {
          "output_type": "stream",
          "text": [
            "10000/10000 [==============================] - 0s 40us/sample - loss: 0.3715 - accuracy: 0.8652\n",
            "\n",
            "Test accuracy: 0.8652\n",
            "\n",
            "Test loss: 0.371478067278862\n"
          ],
          "name": "stdout"
        }
      ]
    },
    {
      "cell_type": "markdown",
      "metadata": {
        "id": "wmu4WOVyq38L",
        "colab_type": "text"
      },
      "source": [
        "What has been returned?\n",
        "\n",
        "a prediction for each image. The prediction actually is a value against each of the 10 lablels for each image. This value is the probability the model has given that one of the 10 labels is correct for the unseen image."
      ]
    },
    {
      "cell_type": "code",
      "metadata": {
        "id": "PSSjvJycq6uG",
        "colab_type": "code",
        "colab": {
          "base_uri": "https://localhost:8080/",
          "height": 68
        },
        "outputId": "daf0555b-3b8a-4f53-d85f-34346b0396a6"
      },
      "source": [
        "# we can view the predictions for just one of the predictions  \n",
        "predictions[0]"
      ],
      "execution_count": 21,
      "outputs": [
        {
          "output_type": "execute_result",
          "data": {
            "text/plain": [
              "array([5.38656252e-07, 1.30410704e-08, 2.35089317e-07, 3.88603461e-09,\n",
              "       4.11417034e-07, 1.21501565e-03, 2.19265104e-07, 1.13799805e-02,\n",
              "       2.92256459e-06, 9.87400591e-01], dtype=float32)"
            ]
          },
          "metadata": {
            "tags": []
          },
          "execution_count": 21
        }
      ]
    },
    {
      "cell_type": "markdown",
      "metadata": {
        "id": "mxbk-Zmvq-jx",
        "colab_type": "text"
      },
      "source": [
        "What is the predicted label?\n",
        "\n",
        "The one with the highest probability. We can retrieve this using the np.argmax function"
      ]
    },
    {
      "cell_type": "code",
      "metadata": {
        "id": "A5NI6O9Fr96b",
        "colab_type": "code",
        "colab": {
          "base_uri": "https://localhost:8080/",
          "height": 34
        },
        "outputId": "144d99ed-56fb-4624-87ee-1909137fe209"
      },
      "source": [
        "# get highest value of the predictions \n",
        "np.argmax(predictions[0])"
      ],
      "execution_count": 22,
      "outputs": [
        {
          "output_type": "execute_result",
          "data": {
            "text/plain": [
              "9"
            ]
          },
          "metadata": {
            "tags": []
          },
          "execution_count": 22
        }
      ]
    },
    {
      "cell_type": "code",
      "metadata": {
        "id": "2nQbR50isB6A",
        "colab_type": "code",
        "colab": {
          "base_uri": "https://localhost:8080/",
          "height": 34
        },
        "outputId": "84508168-525f-4eb4-9a44-0cf886b1c7ac"
      },
      "source": [
        "# Compare with actual label\n",
        "# we can use class_names to see what was the 9th label of the classes\n",
        "class_names[np.argmax(predictions[0])]"
      ],
      "execution_count": 23,
      "outputs": [
        {
          "output_type": "execute_result",
          "data": {
            "text/plain": [
              "'Ankle boot'"
            ]
          },
          "metadata": {
            "tags": []
          },
          "execution_count": 23
        }
      ]
    },
    {
      "cell_type": "code",
      "metadata": {
        "id": "I7IdX-vMsHAq",
        "colab_type": "code",
        "colab": {
          "base_uri": "https://localhost:8080/",
          "height": 34
        },
        "outputId": "f9e6ef25-f9e6-4395-f4e1-5d7004d1bd2f"
      },
      "source": [
        "# and the get our test_label\n",
        "test_labels[0] == class_names[np.argmax(predictions[0])]"
      ],
      "execution_count": 24,
      "outputs": [
        {
          "output_type": "execute_result",
          "data": {
            "text/plain": [
              "False"
            ]
          },
          "metadata": {
            "tags": []
          },
          "execution_count": 24
        }
      ]
    },
    {
      "cell_type": "markdown",
      "metadata": {
        "id": "ir6Pfln5sPpN",
        "colab_type": "text"
      },
      "source": [
        "We can use matplotlib to display the results of our model.\n",
        "We will plot an image, what the predicted label is, and whether this was correct. We will also plot a bar chart showing the probability assigned by the model to the different classes. We start by defining some helper functions."
      ]
    },
    {
      "cell_type": "code",
      "metadata": {
        "id": "hOJbv_1ssRlX",
        "colab_type": "code",
        "colab": {
          "base_uri": "https://localhost:8080/",
          "height": 220
        },
        "outputId": "263c3b7b-4ff6-482a-8df2-34e694e15854"
      },
      "source": [
        "# define a function that plots the predicted image\n",
        "\n",
        "def plot_image(i, predictions_array, true_label, img):\n",
        "  # assign variable names to our parameters\n",
        "  predictions_array, true_label, img = predictions_array[i], true_label[i], img[i]\n",
        "  # remove grid and axis values \n",
        "  plt.grid(False)\n",
        "  plt.xticks([])\n",
        "  plt.yticks([])\n",
        "  # display images \n",
        "  plt.imshow(img, cmap=plt.cm.binary)\n",
        "  # return predicted label\n",
        "  predicted_label = np.argmax(predictions_array)\n",
        "  # and assign it a colour based on whether it was correct\n",
        "  if predicted_label == true_label:\n",
        "    color = 'blue'\n",
        "  else:\n",
        "    color = 'red'\n",
        "  # define label format  \n",
        "  plt.xlabel(\"{}{:2.0f}% ({})\".format(class_names[predicted_label],\n",
        "                                     100*np.max(predictions_array),\n",
        "                                     class_names[true_label],\n",
        "                                     color=color))\n",
        "\n",
        "\n",
        "# plot a function to graph the probabilities \n",
        "\n",
        "def plot_value_array(i, predictions_array, true_label):\n",
        "  # assign variable names to our parameters\n",
        "  predictions_array, true_label = predictions_array[i], true_label[i]\n",
        "  # remove grid and axis values \n",
        "  plt.grid(False)\n",
        "  plt.xticks([])\n",
        "  plt.yticks([])\n",
        "  # plot a bar chart\n",
        "  thisplot = plt.bar(range(10), predictions_array, color='#777777')\n",
        "  # reduce y axis to between 0,1 values \n",
        "  plt.ylim([0,1])\n",
        "  # create prediction \n",
        "  predicted_label = np.argmax(predictions_array)\n",
        "  # set plot colour\n",
        "  thisplot[predicted_label].set_color('red')\n",
        "  thisplot[true_label].set_color('blue')\n",
        "\n",
        "\n",
        "### Use Functions defined above to plot\n",
        "\n",
        "# look at the 0 image\n",
        "i = 0\n",
        "# set size of figure for the plot\n",
        "plt.figure(figsize=(6,3))\n",
        "# display image one side of the figure\n",
        "plt.subplot(1,2,1)\n",
        "plot_image(i, predictions, test_labels, test_images)\n",
        "# display chart on the other side of the figure\n",
        "plt.subplot(1,2,2) \n",
        "plot_value_array(i, predictions, test_labels)\n",
        "# show plot\n",
        "plt.show"
      ],
      "execution_count": 27,
      "outputs": [
        {
          "output_type": "execute_result",
          "data": {
            "text/plain": [
              "<function matplotlib.pyplot.show>"
            ]
          },
          "metadata": {
            "tags": []
          },
          "execution_count": 27
        },
        {
          "output_type": "display_data",
          "data": {
            "image/png": "[encoded data removed]",
            "text/plain": [
              "<Figure size 432x216 with 2 Axes>"
            ]
          },
          "metadata": {
            "tags": []
          }
        }
      ]
    },
    {
      "cell_type": "code",
      "metadata": {
        "id": "tDLy6XE2sllE",
        "colab_type": "code",
        "colab": {
          "base_uri": "https://localhost:8080/",
          "height": 220
        },
        "outputId": "e02a1b39-7c59-46f7-c979-d19f7eaeb5e8"
      },
      "source": [
        "# look at the 12 image\n",
        "i = 12\n",
        "# as above \n",
        "plt.figure(figsize=(6,3))\n",
        "# as above\n",
        "plt.subplot(1,2,1)\n",
        "plot_image(i, predictions, test_labels, test_images)\n",
        "# as above\n",
        "plt.subplot(1,2,2)\n",
        "plot_value_array(i, predictions, test_labels)\n",
        "# as above \n",
        "plt.show"
      ],
      "execution_count": 28,
      "outputs": [
        {
          "output_type": "execute_result",
          "data": {
            "text/plain": [
              "<function matplotlib.pyplot.show>"
            ]
          },
          "metadata": {
            "tags": []
          },
          "execution_count": 28
        },
        {
          "output_type": "display_data",
          "data": {
            "image/png": "[encoded data removed]",
            "text/plain": [
              "<Figure size 432x216 with 2 Axes>"
            ]
          },
          "metadata": {
            "tags": []
          }
        }
      ]
    },
    {
      "cell_type": "code",
      "metadata": {
        "id": "zHXAIBFYsomI",
        "colab_type": "code",
        "colab": {
          "base_uri": "https://localhost:8080/",
          "height": 589
        },
        "outputId": "5eb19ab3-8104-4fee-fc06-3c5037684dc9"
      },
      "source": [
        "# Plot more than one image using the functions\n",
        "# Plot the first X test images, their predicted labels, and the true labels.\n",
        "# Color correct predictions in blue and incorrect predictions in red.\n",
        "num_rows = 5\n",
        "num_cols = 3\n",
        "num_images = num_rows*num_cols\n",
        "plt.figure(figsize=(2*2*num_cols, 2*num_rows))\n",
        "for i in range(num_images):\n",
        "  plt.subplot(num_rows, 2*num_cols, 2*i+1)\n",
        "  plot_image(i, predictions, test_labels, test_images)\n",
        "  plt.subplot(num_rows, 2*num_cols, 2*i+2)\n",
        "  plot_value_array(i, predictions, test_labels)\n",
        "plt.show()\n"
      ],
      "execution_count": 29,
      "outputs": [
        {
          "output_type": "display_data",
          "data": {
            "image/png": "[encoded data removed]",
            "text/plain": [
              "<Figure size 864x720 with 30 Axes>"
            ]
          },
          "metadata": {
            "tags": []
          }
        }
      ]
    },
    {
      "cell_type": "markdown",
      "metadata": {
        "id": "0bCmG67qs4Z8",
        "colab_type": "text"
      },
      "source": [
        "> Make prediction on single image\n",
        "Didn't we do this earlier?\n",
        "\n",
        "No. We made predictions on the entire test set and then selected one of those predictions to view. Here we just want to make a prediction on one of the images."
      ]
    },
    {
      "cell_type": "code",
      "metadata": {
        "id": "GQ17P2WUs-pt",
        "colab_type": "code",
        "colab": {}
      },
      "source": [
        "# get an image from the test_dataset\n",
        "img = test_images[0]"
      ],
      "execution_count": 0,
      "outputs": []
    },
    {
      "cell_type": "markdown",
      "metadata": {
        "id": "bRhsTPPWtC6x",
        "colab_type": "text"
      },
      "source": [
        "We haven't encountered batch sizes yet. This a value that represents the number of images (or other data type if we aren't doing image classification) that are passed to the model.\n",
        "In training, we pass a batch size and this represents how many images the model will make predictions on before recording the loss and updating the model. In the example above, this value defualted to the entire dataset (60000).\n",
        "When making predictions with test (or other) images, tf.keras needs to make predictions on a batch. This means, it needs to understand how many images are about to passed to it. In practical terms, this means we need to add a batch dimension to the shape of our data.\n",
        "Getting the data into the right shape for modelling and predicting can be a bit tricky sometimes.\n"
      ]
    },
    {
      "cell_type": "code",
      "metadata": {
        "id": "p3-5R26jtEjx",
        "colab_type": "code",
        "colab": {
          "base_uri": "https://localhost:8080/",
          "height": 34
        },
        "outputId": "9d252f54-3258-4187-c865-7c0d82b164c9"
      },
      "source": [
        "# lets looks at the shape of image before we add a batch dimension to it\n",
        "print(img.shape)"
      ],
      "execution_count": 31,
      "outputs": [
        {
          "output_type": "stream",
          "text": [
            "(28, 28)\n"
          ],
          "name": "stdout"
        }
      ]
    },
    {
      "cell_type": "code",
      "metadata": {
        "id": "f0VT9Ex8tHbr",
        "colab_type": "code",
        "colab": {
          "base_uri": "https://localhost:8080/",
          "height": 34
        },
        "outputId": "f3f008a4-9aac-48a6-b4fc-b417c3bcd522"
      },
      "source": [
        "# add batch dimension by adding a dimension to the image shape\n",
        "img = (np.expand_dims(img,0)) \n",
        "print(img.shape)"
      ],
      "execution_count": 32,
      "outputs": [
        {
          "output_type": "stream",
          "text": [
            "(1, 28, 28)\n"
          ],
          "name": "stdout"
        }
      ]
    },
    {
      "cell_type": "code",
      "metadata": {
        "id": "OTc-ko7htLAa",
        "colab_type": "code",
        "colab": {}
      },
      "source": [
        "# make prediction\n",
        "predictions_single = model.predict(img)"
      ],
      "execution_count": 0,
      "outputs": []
    },
    {
      "cell_type": "code",
      "metadata": {
        "id": "jnXDeTywtOah",
        "colab_type": "code",
        "colab": {
          "base_uri": "https://localhost:8080/",
          "height": 68
        },
        "outputId": "94c27835-a3cd-47c1-9889-c58b9053948d"
      },
      "source": [
        "# show the array \n",
        "predictions_single"
      ],
      "execution_count": 35,
      "outputs": [
        {
          "output_type": "execute_result",
          "data": {
            "text/plain": [
              "array([[5.3865529e-07, 1.3041072e-08, 2.3508912e-07, 3.8860275e-09,\n",
              "        4.1141669e-07, 1.2150118e-03, 2.1926429e-07, 1.1379954e-02,\n",
              "        2.9225539e-06, 9.8740071e-01]], dtype=float32)"
            ]
          },
          "metadata": {
            "tags": []
          },
          "execution_count": 35
        }
      ]
    },
    {
      "cell_type": "code",
      "metadata": {
        "id": "Q1dSKNjYtRMm",
        "colab_type": "code",
        "colab": {
          "base_uri": "https://localhost:8080/",
          "height": 34
        },
        "outputId": "27314e91-9689-4a9f-ede2-056d30720284"
      },
      "source": [
        "# again we can use argmax\n",
        "np.argmax(predictions_single[0])"
      ],
      "execution_count": 36,
      "outputs": [
        {
          "output_type": "execute_result",
          "data": {
            "text/plain": [
              "9"
            ]
          },
          "metadata": {
            "tags": []
          },
          "execution_count": 36
        }
      ]
    },
    {
      "cell_type": "code",
      "metadata": {
        "id": "JcFKvZvTtUES",
        "colab_type": "code",
        "colab": {
          "base_uri": "https://localhost:8080/",
          "height": 300
        },
        "outputId": "d560f800-5f0f-42b3-8ad8-0c077feb76ba"
      },
      "source": [
        "# and we can plot the result \n",
        "plot_value_array(0, predictions_single, test_labels)\n",
        "#\n",
        "_ = plt.xticks(range(10), class_names, rotation=45)"
      ],
      "execution_count": 37,
      "outputs": [
        {
          "output_type": "display_data",
          "data": {
            "image/png": "[encoded data removed]",
            "text/plain": [
              "<Figure size 432x288 with 1 Axes>"
            ]
          },
          "metadata": {
            "tags": []
          }
        }
      ]
    },
    {
      "cell_type": "markdown",
      "metadata": {
        "id": "UJ-jeIV67J9U",
        "colab_type": "text"
      },
      "source": [
        "![alt text](https://github.com/DanRHowarth/Tensorflow-2.0/blob/master/Notebook%201%20-%20Summary_final.png?raw=true)"
      ]
    },
    {
      "cell_type": "code",
      "metadata": {
        "id": "YoqsUukGti4n",
        "colab_type": "code",
        "colab": {
          "base_uri": "https://localhost:8080/",
          "height": 357
        },
        "outputId": "03aeb2a2-730c-48cf-8dc3-8044c8232eda"
      },
      "source": [
        "# Excercise\n",
        "#  1. Change epoch value and fit the model \n",
        "\n",
        "# we just pass the fit method to the model, along with training data and corresponding output data \n",
        "# We also specify the number of epochs  \n",
        "history = model.fit(train_images,train_labels,epochs=10)"
      ],
      "execution_count": 38,
      "outputs": [
        {
          "output_type": "stream",
          "text": [
            "Epoch 1/10\n",
            "60000/60000 [==============================] - 5s 91us/sample - loss: 0.2822 - accuracy: 0.8953\n",
            "Epoch 2/10\n",
            "60000/60000 [==============================] - 5s 75us/sample - loss: 0.2689 - accuracy: 0.8996\n",
            "Epoch 3/10\n",
            "60000/60000 [==============================] - 5s 75us/sample - loss: 0.2580 - accuracy: 0.9048\n",
            "Epoch 4/10\n",
            "60000/60000 [==============================] - 4s 74us/sample - loss: 0.2474 - accuracy: 0.9085\n",
            "Epoch 5/10\n",
            "60000/60000 [==============================] - 4s 74us/sample - loss: 0.2403 - accuracy: 0.9110\n",
            "Epoch 6/10\n",
            "60000/60000 [==============================] - 4s 74us/sample - loss: 0.2318 - accuracy: 0.9129\n",
            "Epoch 7/10\n",
            "60000/60000 [==============================] - 4s 75us/sample - loss: 0.2265 - accuracy: 0.9148\n",
            "Epoch 8/10\n",
            "60000/60000 [==============================] - 4s 74us/sample - loss: 0.2197 - accuracy: 0.9183\n",
            "Epoch 9/10\n",
            "60000/60000 [==============================] - 4s 75us/sample - loss: 0.2110 - accuracy: 0.9208\n",
            "Epoch 10/10\n",
            "60000/60000 [==============================] - 5s 77us/sample - loss: 0.2053 - accuracy: 0.9224\n"
          ],
          "name": "stdout"
        }
      ]
    },
    {
      "cell_type": "markdown",
      "metadata": {
        "id": "5MfT0bZEuAjE",
        "colab_type": "text"
      },
      "source": [
        "On the face of it, 92% accuracy seems much improved compared to reduced epoch value =5, giving 89% accuracy. So, it is evident that with more training the model accuracy with more epochs. "
      ]
    },
    {
      "cell_type": "code",
      "metadata": {
        "id": "q72kgwSduyaI",
        "colab_type": "code",
        "colab": {
          "base_uri": "https://localhost:8080/",
          "height": 255
        },
        "outputId": "8e2508aa-aeca-44e4-d965-533be7f2962e"
      },
      "source": [
        "# Part 2 - Build a new model\n",
        "# Create a new model and:\n",
        "# add an additional layer; and/or:\n",
        "# add more nodes to the hidden layer(s)\n",
        "# Need to recompile the model, which means adding the .compile() method to the new model and passing in the arguments we set out above.\n",
        "\n",
        "# here we instantiate a Sequential model \n",
        "# note that are passing in the layers as a list\n",
        "model = keras.Sequential([\n",
        "    # the input / flatten layer changes the input shape to a 1D array of 28x28 size \n",
        "    keras.layers.Flatten(input_shape=(28,28)),\n",
        "    # here we define the hidden / Dense layer. We specify the number of nodes - 128 - and the activatin function - relu\n",
        "    keras.layers.Dense(8, activation='relu'),\n",
        "    # we define the output / Dense layer with 10 nodes for 10 classes, and Returns The sigmoid activation: 1 / (1 + exp(-x)).\n",
        "    #sigmoid-It's curve is like an \"S\" and is like a smoothed version of the Heaviside (Unit Step Function) function. For small values (<-5) the sigmoid returns a value close to zero and for larger values (>5) the result of the function gets close to 1.\n",
        "    keras.layers.Dense(10, activation='sigmoid')\n",
        "])\n",
        "# ability to print summary\n",
        "model.summary()"
      ],
      "execution_count": 45,
      "outputs": [
        {
          "output_type": "stream",
          "text": [
            "Model: \"sequential_4\"\n",
            "_________________________________________________________________\n",
            "Layer (type)                 Output Shape              Param #   \n",
            "=================================================================\n",
            "flatten_3 (Flatten)          (None, 784)               0         \n",
            "_________________________________________________________________\n",
            "dense_6 (Dense)              (None, 8)                 6280      \n",
            "_________________________________________________________________\n",
            "dense_7 (Dense)              (None, 10)                90        \n",
            "=================================================================\n",
            "Total params: 6,370\n",
            "Trainable params: 6,370\n",
            "Non-trainable params: 0\n",
            "_________________________________________________________________\n"
          ],
          "name": "stdout"
        }
      ]
    },
    {
      "cell_type": "code",
      "metadata": {
        "id": "u51AIZ7Y3YLZ",
        "colab_type": "code",
        "colab": {
          "base_uri": "https://localhost:8080/",
          "height": 527
        },
        "outputId": "7effc902-9fcd-4b6a-8178-f11af060a872"
      },
      "source": [
        "model.compile(optimizer='adam',\n",
        "             # specify the loss function \n",
        "             loss='sparse_categorical_crossentropy',\n",
        "             # and we specify our metrics  \n",
        "             metrics=['accuracy'])\n",
        "history1 = model.fit(train_images,train_labels, epochs=15, batch_size=10)"
      ],
      "execution_count": 55,
      "outputs": [
        {
          "output_type": "stream",
          "text": [
            "Epoch 1/15\n",
            "60000/60000 [==============================] - 8s 126us/sample - loss: 0.4879 - accuracy: 0.8280\n",
            "Epoch 2/15\n",
            "60000/60000 [==============================] - 7s 125us/sample - loss: 0.4746 - accuracy: 0.8336\n",
            "Epoch 3/15\n",
            "60000/60000 [==============================] - 7s 125us/sample - loss: 0.4640 - accuracy: 0.8363\n",
            "Epoch 4/15\n",
            "60000/60000 [==============================] - 7s 125us/sample - loss: 0.4577 - accuracy: 0.8388\n",
            "Epoch 5/15\n",
            "60000/60000 [==============================] - 7s 123us/sample - loss: 0.4491 - accuracy: 0.8411\n",
            "Epoch 6/15\n",
            "60000/60000 [==============================] - 7s 122us/sample - loss: 0.4446 - accuracy: 0.8415\n",
            "Epoch 7/15\n",
            "60000/60000 [==============================] - 7s 124us/sample - loss: 0.4407 - accuracy: 0.8432\n",
            "Epoch 8/15\n",
            "60000/60000 [==============================] - 7s 124us/sample - loss: 0.4359 - accuracy: 0.8446\n",
            "Epoch 9/15\n",
            "60000/60000 [==============================] - 7s 124us/sample - loss: 0.4315 - accuracy: 0.8476\n",
            "Epoch 10/15\n",
            "60000/60000 [==============================] - 7s 124us/sample - loss: 0.4277 - accuracy: 0.8481\n",
            "Epoch 11/15\n",
            "60000/60000 [==============================] - 7s 124us/sample - loss: 0.4257 - accuracy: 0.8489\n",
            "Epoch 12/15\n",
            "60000/60000 [==============================] - 7s 123us/sample - loss: 0.4228 - accuracy: 0.8492\n",
            "Epoch 13/15\n",
            "60000/60000 [==============================] - 7s 124us/sample - loss: 0.4202 - accuracy: 0.8507\n",
            "Epoch 14/15\n",
            "60000/60000 [==============================] - 7s 123us/sample - loss: 0.4180 - accuracy: 0.8503\n",
            "Epoch 15/15\n",
            "60000/60000 [==============================] - 7s 123us/sample - loss: 0.4163 - accuracy: 0.8522\n"
          ],
          "name": "stdout"
        }
      ]
    },
    {
      "cell_type": "code",
      "metadata": {
        "id": "1RBRoG8i647T",
        "colab_type": "code",
        "colab": {
          "base_uri": "https://localhost:8080/",
          "height": 272
        },
        "outputId": "ca24644d-ddab-4975-c5ee-2b4943e16d15"
      },
      "source": [
        "history_dict1 = history1.history\n",
        "history_dict1.keys()\n",
        "# print loss\n",
        "history_dict1['loss']"
      ],
      "execution_count": 57,
      "outputs": [
        {
          "output_type": "execute_result",
          "data": {
            "text/plain": [
              "[0.487894843708879,\n",
              " 0.47459682380780577,\n",
              " 0.46404418227464583,\n",
              " 0.45769318294975286,\n",
              " 0.449075440493878,\n",
              " 0.4445765167881424,\n",
              " 0.4407411609889629,\n",
              " 0.43589261289934317,\n",
              " 0.43154472546248385,\n",
              " 0.42767574508317435,\n",
              " 0.42566418078999657,\n",
              " 0.422756254185612,\n",
              " 0.42022509494757593,\n",
              " 0.4179849622591088,\n",
              " 0.41631677350991714]"
            ]
          },
          "metadata": {
            "tags": []
          },
          "execution_count": 57
        }
      ]
    },
    {
      "cell_type": "code",
      "metadata": {
        "id": "qnCujLeg7UEu",
        "colab_type": "code",
        "colab": {
          "base_uri": "https://localhost:8080/",
          "height": 272
        },
        "outputId": "929432c3-f494-4841-f1b7-f8c773986231"
      },
      "source": [
        "history_dict1['accuracy']"
      ],
      "execution_count": 58,
      "outputs": [
        {
          "output_type": "execute_result",
          "data": {
            "text/plain": [
              "[0.8279833,\n",
              " 0.83358335,\n",
              " 0.8363,\n",
              " 0.83875,\n",
              " 0.84106666,\n",
              " 0.84153336,\n",
              " 0.84321666,\n",
              " 0.84455,\n",
              " 0.84756666,\n",
              " 0.8481,\n",
              " 0.84893334,\n",
              " 0.8492333,\n",
              " 0.8507,\n",
              " 0.8503,\n",
              " 0.8522]"
            ]
          },
          "metadata": {
            "tags": []
          },
          "execution_count": 58
        }
      ]
    },
    {
      "cell_type": "code",
      "metadata": {
        "id": "Z9LzTfNt7Svo",
        "colab_type": "code",
        "colab": {
          "base_uri": "https://localhost:8080/",
          "height": 324
        },
        "outputId": "f70aacbe-62b1-4e31-91bf-8bf7e2faf67b"
      },
      "source": [
        "history_df1 = pd.DataFrame(history_dict1)\n",
        "# we can use plot functionality of pandas to quickly plot our results\n",
        "history_df1.plot(figsize=(8,5))\n",
        "# tailor our plot. Show the grid\n",
        "plt.grid(True)\n",
        "# set the vertical range to [0 -1]\n",
        "plt.gca().set_ylim(0,1)\n",
        "# display plot\n",
        "plt.show()"
      ],
      "execution_count": 59,
      "outputs": [
        {
          "output_type": "display_data",
          "data": {
            "image/png": "[encoded data removed]",
            "text/plain": [
              "<Figure size 576x360 with 1 Axes>"
            ]
          },
          "metadata": {
            "tags": []
          }
        }
      ]
    }
  ]
}