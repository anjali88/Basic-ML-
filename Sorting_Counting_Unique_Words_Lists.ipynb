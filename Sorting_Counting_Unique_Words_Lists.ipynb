{
  "nbformat": 4,
  "nbformat_minor": 0,
  "metadata": {
    "colab": {
      "name": "Sorting_Counting_Unique Words_Lists.ipynb",
      "provenance": [],
      "collapsed_sections": [],
      "authorship_tag": "ABX9TyMIHmEmN0HWWUwCxNBjQ8gs",
      "include_colab_link": true
    },
    "kernelspec": {
      "name": "python3",
      "display_name": "Python 3"
    }
  },
  "cells": [
    {
      "cell_type": "markdown",
      "metadata": {
        "id": "view-in-github",
        "colab_type": "text"
      },
      "source": [
        "<a href=\"https://colab.research.google.com/github/anjali88/Data-Science/blob/master/Sorting_Counting_Unique_Words_Lists.ipynb\" target=\"_parent\"><img src=\"https://colab.research.google.com/assets/colab-badge.svg\" alt=\"Open In Colab\"/></a>"
      ]
    },
    {
      "cell_type": "markdown",
      "metadata": {
        "id": "K9tQi38apkpj",
        "colab_type": "text"
      },
      "source": [
        "### Define a function which accepts a single list as a parameter. This list consists of any number of lists (1,...n), and you can assume each list only contains words (e.g. ['apple', 'mango', 'cherry'....}). The function should print out the following:\n",
        "\n",
        "> - The total number of unique words\n",
        "\n",
        ">-  Words that appear in more than one list\n",
        "\n",
        "> - Top five frequent words in all the lists"
      ]
    },
    {
      "cell_type": "code",
      "metadata": {
        "id": "ig6XIr5hbwbt",
        "colab_type": "code",
        "colab": {}
      },
      "source": [
        "# Answer: \n",
        "def fn(X): \n",
        "  \n",
        "    # intilize a null list \n",
        "    N_list = {}\n",
        "    sort_list=[]\n",
        "    count=0\n",
        "    for list in X:\n",
        "      for word in list:\n",
        "        if word in N_list.keys():\n",
        "            value=N_list[word][\"value\"]\n",
        "            N_list[word][\"value\"]=value+1\n",
        "            N_list[word][\"lists\"].append(count)\n",
        "        else:\n",
        "            N_list[word]={}\n",
        "            N_list[word][\"value\"]=1\n",
        "            N_list[word][\"lists\"]=[count]\n",
        "      count=count+1\n",
        "    return N_list"
      ],
      "execution_count": 0,
      "outputs": []
    },
    {
      "cell_type": "code",
      "metadata": {
        "id": "MaL4pKXS3ddq",
        "colab_type": "code",
        "colab": {
          "base_uri": "https://localhost:8080/",
          "height": 85
        },
        "outputId": "d24150e2-647c-453c-d6ac-7a560149d0ff"
      },
      "source": [
        "X = [['apple', 'mango', 'cherry', 'banana'], ['pumpkin', 'apple', 'orange'],['grapefruit', 'apple', 'orange','cherry'], ['cat', 'night','apple', 'watermelon']]\n",
        "print(\"Unique words from list is\")\n",
        "df=fn(X)\n",
        "#print(df)\n",
        "unique_words=[]\n",
        "words_lists=[]\n",
        "for word in df.keys():\n",
        "  if df[word][\"value\"] == 1:\n",
        "    unique_words.append(word) \n",
        "  if len(set(df[word][\"lists\"])) > 1:\n",
        "    words_lists.append(word) \n",
        "\n",
        "print(\"Unique words in the lists {}\".format(list(df.keys())))\n",
        "print(\"words more than one in the lists {}\".format(list(words_lists)))\n",
        "#print(words_lists)\n",
        "sort_list=[]\n",
        "for word in df.keys():\n",
        "    word_tuple= word,df[word][\"value\"]\n",
        "    sort_list.append(word_tuple)\n",
        "for i in range(len(sort_list)):\n",
        "  for j in range(i,len(sort_list)):\n",
        "    if sort_list[i][1] <= sort_list[j][1]:\n",
        "      temp=sort_list[i]\n",
        "      sort_list[i]=sort_list[j]\n",
        "      sort_list[j]=temp\n",
        "\n",
        "print(\"Top five frequent words {}\".format(sort_list[:5]))\n",
        "\n",
        "# words more than one list"
      ],
      "execution_count": 2,
      "outputs": [
        {
          "output_type": "stream",
          "text": [
            "Unique words from list is\n",
            "Unique words in the lists ['apple', 'mango', 'cherry', 'banana', 'pumpkin', 'orange', 'grapefruit', 'cat', 'night', 'watermelon']\n",
            "words more than one in the lists ['apple', 'cherry', 'orange']\n",
            "Top five frequent words [('apple', 4), ('orange', 2), ('cherry', 2), ('watermelon', 1), ('night', 1)]\n"
          ],
          "name": "stdout"
        }
      ]
    }
  ]
}